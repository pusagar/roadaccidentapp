{
 "cells": [
  {
   "cell_type": "markdown",
   "id": "725203a8",
   "metadata": {},
   "source": [
    "# <center><b> MGP1: Road Traffic Severity Classification Project <b></center>"
   ]
  },
  {
   "cell_type": "markdown",
   "id": "3283ffe9",
   "metadata": {},
   "source": [
    "---\n",
    "<a name = Section0></a>\n",
    "# **Table of Contents**\n",
    "---\n",
    "\n",
    "**1.** [**Introduction**](#Section1)<br>\n",
    "**2.** [**Problem Statement**](#Section2)<br>\n",
    "**3.** [**Importing Libraries**](#Section3)<br>\n",
    "  - **3.1** [**Version Check**](#Section31)\n",
    "  - **3.2** [**Importing Libraries**](#Section32)\n",
    "\n",
    "**4.** [**Data Acquisition & Description**](#Section4)<br>\n",
    "  - **4.1** [**Data Information**](#Section41)\n",
    "  - **4.2** [**Data Description**](#Section42)\n",
    "\n",
    "**5.** [**Data Pre-processing**](#Section5)<br>\n",
    "  - **5.1** [**Data Pre-profiling**](#Section51)<br>\n",
    "  - **5.2** [**Handling of Missing Data**](#Section52)<br>\n",
    "  - **5.3** [**Handling of Redundant Data**](#Section53)<br>\n",
    "  - **5.4** [**Handling of Inconsisten Data**](#Section54)<br>\n",
    "  - **5.5** [**Handling of Outliers**](#Section55)<br>\n",
    "  \n",
    "**6.** [**Exploratory Data Analysis**](#Section6)<br>\n",
    "  - **6.1** [**Merging the phone mobile dataset with the gender dataset and analysing**](#Section61)<br>\n",
    "  - **6.2** [**Analysing distribution of each and every column**](#Section62)<br>\n",
    "  - **6.3** [**Maharashtra State analysis**](#Section63)<br>\n",
    "  - **6.4** [**Merging the events dataset with the phone mobile dataset,the gender dataset and analysing**](#Section64)<br>\n",
    "  \n",
    "  \n",
    "**7.** [**Data Post-Processing**](#Section7)<br>\n",
    "  - **7.1** [**Data Encoding**](#Section71)<br> \n",
    "  - **7.2** [**Data Preparation**](#Section72)<br>\n",
    "  - **7.3** [**Data Scaling**](#Section73)<br>\n",
    "\n",
    "**8.** [**Model Development & Evaluation using Machine Learning**](#Section8)<br>\n",
    "  - **8.1** [**Baseline Model Evaluation**](#Section81)<br> \n",
    "  - **8.2** [**SMOTE Oversampling for Multi-Class Classification**](#Section82)<br>\n",
    "\n",
    "**9.** [**Model Evaluation using Hyperparameter Tuning**](#Section9)<br>\n",
    "\n",
    "**10.** [**Summary**](#Section10)<br>\n",
    " "
   ]
  },
  {
   "cell_type": "markdown",
   "id": "58716a49",
   "metadata": {
    "ExecuteTime": {
     "end_time": "2022-03-01T04:08:44.465752Z",
     "start_time": "2022-03-01T04:08:44.446804Z"
    }
   },
   "source": [
    "---\n",
    "<a name = Section1></a>\n",
    "# **1. Introduction**\n",
    "---\n"
   ]
  },
  {
   "cell_type": "markdown",
   "id": "0549b6f5",
   "metadata": {},
   "source": [
    "- This data set is collected from Addis Ababa Sub-city police departments for master's research work. The data set has been prepared from manual records of road traffic accidents of the year 2017-20. \n",
    "\n",
    "- All the sensitive information has been excluded during data encoding and finally it has 32 features and 12316 instances of the accident. Then it is preprocessed and for identification of major causes of the accident by analyzing it using different machine learning classification algorithms. "
   ]
  },
  {
   "cell_type": "markdown",
   "id": "0ea446b8",
   "metadata": {},
   "source": [
    "---\n",
    "<a name = Section1></a>\n",
    "# **2. Problem Statement**\n",
    "---\n"
   ]
  },
  {
   "cell_type": "markdown",
   "id": "65f53611",
   "metadata": {},
   "source": [
    "- The target feature is Accident_severity which is a multi-class variable. \n",
    "\n",
    "- The task is to classify this variable based on the other 31 features step-by-step by going through each day's task."
   ]
  },
  {
   "cell_type": "markdown",
   "id": "02b9599a",
   "metadata": {},
   "source": [
    "---\n",
    "<a name = Section3></a>\n",
    "# **3. Installing & Importing Libraries**                                                   \n",
    "---"
   ]
  },
  {
   "cell_type": "markdown",
   "id": "ab63d401",
   "metadata": {
    "ExecuteTime": {
     "end_time": "2022-03-01T04:11:25.422529Z",
     "start_time": "2022-03-01T04:11:25.407573Z"
    }
   },
   "source": [
    "<a name = Section31></a>\n",
    "### **3.1 Installing Libraries**"
   ]
  },
  {
   "cell_type": "code",
   "execution_count": 10,
   "id": "9c25941f",
   "metadata": {
    "ExecuteTime": {
     "end_time": "2022-03-13T11:57:21.172097Z",
     "start_time": "2022-03-13T11:57:21.153737Z"
    }
   },
   "outputs": [],
   "source": [
    "#!pip install -q pandas-profiling "
   ]
  },
  {
   "cell_type": "markdown",
   "id": "7e4cafc4",
   "metadata": {},
   "source": [
    "<a name = Section32></a>\n",
    "### **3.2 Upgrading Libraries**\n",
    "\n",
    "- **After upgrading** the libraries, you need to **restart the runtime** to make the libraries in sync. \n",
    "\n",
    "- Make sure not to execute the cell above (3.1) and below (3.2) again after restarting the runtime."
   ]
  },
  {
   "cell_type": "code",
   "execution_count": 11,
   "id": "f8753d32",
   "metadata": {
    "ExecuteTime": {
     "end_time": "2022-03-13T11:57:21.315591Z",
     "start_time": "2022-03-13T11:57:21.178182Z"
    }
   },
   "outputs": [],
   "source": [
    "#!pip install -q --upgrade datascience                               \n",
    "#!pip install -q --upgrade pandas-profiling"
   ]
  },
  {
   "cell_type": "markdown",
   "id": "9b5ee31b",
   "metadata": {},
   "source": [
    "<a name = Section33></a>\n",
    "### **3.3 Importing Libraries**"
   ]
  },
  {
   "cell_type": "code",
   "execution_count": 12,
   "id": "e8a45158",
   "metadata": {
    "ExecuteTime": {
     "end_time": "2022-03-13T11:57:21.533212Z",
     "start_time": "2022-03-13T11:57:21.319872Z"
    }
   },
   "outputs": [],
   "source": [
    "import numpy as np\n",
    "from numpy import isnan\n",
    "import pandas as pd\n",
    "from pandas_profiling import ProfileReport     \n",
    "import matplotlib.pyplot as plt\n",
    "%matplotlib inline\n",
    "from collections import Counter  \n",
    "import seaborn as sns\n",
    "import warnings                                                     \n",
    "warnings.filterwarnings(\"ignore\")\n",
    "import datetime\n",
    "plt.show();\n",
    "from platform import python_version\n",
    "import sklearn.metrics\n",
    "from tqdm import tqdm\n",
    "import gc\n",
    "import mysql.connector as sql\n",
    "from sklearn.metrics import roc_curve, auc\n",
    "import urllib\n",
    "from urllib.request import urlopen\n",
    "import urllib.request as ur"
   ]
  },
  {
   "cell_type": "code",
   "execution_count": 13,
   "id": "acc51fb0",
   "metadata": {
    "ExecuteTime": {
     "end_time": "2022-03-13T11:57:21.641752Z",
     "start_time": "2022-03-13T11:57:21.537167Z"
    }
   },
   "outputs": [],
   "source": [
    "pd.set_option('display.max_columns', None)                          \n",
    "pd.set_option('display.max_rows', None)                             \n",
    "pd.set_option('mode.chained_assignment', None)   "
   ]
  },
  {
   "cell_type": "code",
   "execution_count": 14,
   "id": "97c95cc9",
   "metadata": {
    "ExecuteTime": {
     "end_time": "2022-03-13T11:57:21.781473Z",
     "start_time": "2022-03-13T11:57:21.648699Z"
    }
   },
   "outputs": [],
   "source": [
    "from sklearn.preprocessing import StandardScaler                    \n",
    "from sklearn.preprocessing import MinMaxScaler\n",
    "from sklearn.model_selection import RandomizedSearchCV              \n",
    "from sklearn.metrics import classification_report                   \n",
    "from sklearn.metrics import plot_confusion_matrix                   \n",
    "#import pydotplus                                                    \n",
    "from IPython.display import Image                                   \n",
    "from sklearn.metrics import accuracy_score                          \n",
    "from sklearn.metrics import precision_score                         \n",
    "from sklearn.metrics import recall_score                            \n",
    "from sklearn.metrics import precision_recall_curve                  \n",
    "from sklearn.metrics import confusion_matrix                        \n",
    "from sklearn.metrics import f1_score                                  \n",
    "from sklearn.metrics import roc_curve                               \n",
    "from sklearn.metrics import plot_roc_curve\n",
    "from sklearn.model_selection import train_test_split                   \n",
    "from sklearn.linear_model import LogisticRegression                 \n",
    "from sklearn.tree import DecisionTreeClassifier \n",
    "from sklearn.model_selection import cross_val_score\n",
    "from sklearn.model_selection import KFold\n",
    "from sklearn.model_selection import StratifiedKFold\n",
    "from sklearn.pipeline import Pipeline\n",
    "from sklearn.pipeline import make_pipeline\n",
    "from sklearn.naive_bayes import GaussianNB\n",
    "from sklearn.discriminant_analysis import LinearDiscriminantAnalysis\n",
    "from sklearn.svm import SVC\n",
    "from xgboost import XGBClassifier\n",
    "from sklearn.metrics import accuracy_score\n",
    "from sklearn.neighbors import KNeighborsClassifier\n",
    "from sklearn.model_selection import GridSearchCV\n",
    "from sklearn.ensemble import RandomForestClassifier,AdaBoostClassifier,GradientBoostingClassifier\n",
    "from sklearn.ensemble import ExtraTreesClassifier\n",
    "from sklearn.feature_selection import SelectFromModel       \n",
    "from sklearn.ensemble import RandomForestClassifier               \n",
    "from yellowbrick.model_selection import FeatureImportances  \n",
    "from imblearn.over_sampling import SMOTE"
   ]
  },
  {
   "cell_type": "markdown",
   "id": "fb7bc12e",
   "metadata": {},
   "source": [
    "<a name = Section31></a>\n",
    "### **3.2 Version Check**"
   ]
  },
  {
   "cell_type": "code",
   "execution_count": 15,
   "id": "180dbd13",
   "metadata": {
    "ExecuteTime": {
     "end_time": "2022-03-13T11:57:21.936459Z",
     "start_time": "2022-03-13T11:57:21.785716Z"
    }
   },
   "outputs": [
    {
     "name": "stdout",
     "output_type": "stream",
     "text": [
      "python version 3.9.10\n",
      "pandas version 1.4.1\n",
      "numpy version 1.21.5\n",
      "seaborn version 0.11.2\n",
      "sklearn version 1.0.2\n"
     ]
    }
   ],
   "source": [
    "# Printing versions of Python and other packages  to ensure correct version is used for this project\n",
    "print(\"python version\", python_version())\n",
    "print (\"pandas version\", pd.__version__)\n",
    "print (\"numpy version\", np.__version__)\n",
    "print (\"seaborn version\", sns.__version__)\n",
    "print (\"sklearn version\", sklearn.__version__)"
   ]
  },
  {
   "cell_type": "markdown",
   "id": "bcb22cb1",
   "metadata": {},
   "source": [
    "---\n",
    "<a name = Section4></a>\n",
    "# **4. Data Acquisition & Description**\n",
    "---\n"
   ]
  },
  {
   "cell_type": "markdown",
   "id": "adb48460",
   "metadata": {
    "ExecuteTime": {
     "end_time": "2022-03-01T04:14:42.005169Z",
     "start_time": "2022-03-01T04:14:41.983222Z"
    }
   },
   "source": [
    "|Dataset| Records | Features | Dataset Size |\n",
    "| :--: | :--: | :--: | :--: |\n",
    "|**RTA data**| 12316 | 32 | 3 MB |\n",
    "\n",
    "\n",
    "|Id|Features|Description||Id|Features|Description|\n",
    "|:--|:--|:--||:--|:--|:--|\n",
    "|01|**Time**|Time when accident occured||17|**Light_conditions**|Light prevailing at the time of accident||\n",
    "|02|**Age_band_of_driver**|Age fof the driver||18|**Weather_conditions**|Weather prevailing at the time of accident||\n",
    "|03|**Sex_of_driver**|Gender of the driver||19|**Type_of_collision**|Collision type||\n",
    "|04|**Educational_level**|Education level of driver||20|**Number_of_vehicles_involved**|No of Vehicles involved in accident||\n",
    "|05|**Vehicle_driver_relation**|Relationship of driver and vehicle driving||21|**Number_of_casualties**|No of casualties||\n",
    "|06|**Driving_experience**|Drivers Experience||22|**Vehicle_movement**|Vehicle movement||\n",
    "|07|**Type_of_vehicle**|Vehicle Type||23|**Casualty_class**|Class of casualty||\n",
    "|08|**Owner_of_vehicle**|Vehicle Owner||24|**Sex_of_casualty**|Sex of casualty||\n",
    "|09|**Service_year_of_vehicle**|Service year||25|**Age_band_of_casualty**|Age band of people with casualty||\n",
    "|10|**Defect_of_vehicle**|Vehicle defects||26|**Casualty_severity**|Severity of casualty||\n",
    "|11|**Area_accident_occured**|Area of accident||27|**Work_of_casuality**|Injured person occupation||\n",
    "|12|**Lanes_or_Medians**|Which lane or median||28|**Fitness_of_casuality**|Injured person fitness||\n",
    "|13|**Road_allignment**|Service year||29|**Pedestrian_movement**|Movement of pedestrian||\n",
    "|14|**Types_of_Junction**|Vehicle defects||30|**Cause_of_accident**|Accident cause||\n",
    "|15|**Road_surface_type**|Area of accident||31|**Accident_severity**|Severity of accident||\n",
    "|16|**Road_surface_conditions**|Which lane or median||||||\n",
    "\n",
    "\n"
   ]
  },
  {
   "cell_type": "code",
   "execution_count": 16,
   "id": "62c728e4",
   "metadata": {
    "ExecuteTime": {
     "end_time": "2022-03-13T11:57:22.593175Z",
     "start_time": "2022-03-13T11:57:21.940915Z"
    }
   },
   "outputs": [
    {
     "data": {
      "text/html": [
       "<div>\n",
       "<style scoped>\n",
       "    .dataframe tbody tr th:only-of-type {\n",
       "        vertical-align: middle;\n",
       "    }\n",
       "\n",
       "    .dataframe tbody tr th {\n",
       "        vertical-align: top;\n",
       "    }\n",
       "\n",
       "    .dataframe thead th {\n",
       "        text-align: right;\n",
       "    }\n",
       "</style>\n",
       "<table border=\"1\" class=\"dataframe\">\n",
       "  <thead>\n",
       "    <tr style=\"text-align: right;\">\n",
       "      <th></th>\n",
       "      <th>Time</th>\n",
       "      <th>Day_of_week</th>\n",
       "      <th>Age_band_of_driver</th>\n",
       "      <th>Sex_of_driver</th>\n",
       "      <th>Educational_level</th>\n",
       "      <th>Vehicle_driver_relation</th>\n",
       "      <th>Driving_experience</th>\n",
       "      <th>Type_of_vehicle</th>\n",
       "      <th>Owner_of_vehicle</th>\n",
       "      <th>Service_year_of_vehicle</th>\n",
       "      <th>Defect_of_vehicle</th>\n",
       "      <th>Area_accident_occured</th>\n",
       "      <th>Lanes_or_Medians</th>\n",
       "      <th>Road_allignment</th>\n",
       "      <th>Types_of_Junction</th>\n",
       "      <th>Road_surface_type</th>\n",
       "      <th>Road_surface_conditions</th>\n",
       "      <th>Light_conditions</th>\n",
       "      <th>Weather_conditions</th>\n",
       "      <th>Type_of_collision</th>\n",
       "      <th>Number_of_vehicles_involved</th>\n",
       "      <th>Number_of_casualties</th>\n",
       "      <th>Vehicle_movement</th>\n",
       "      <th>Casualty_class</th>\n",
       "      <th>Sex_of_casualty</th>\n",
       "      <th>Age_band_of_casualty</th>\n",
       "      <th>Casualty_severity</th>\n",
       "      <th>Work_of_casuality</th>\n",
       "      <th>Fitness_of_casuality</th>\n",
       "      <th>Pedestrian_movement</th>\n",
       "      <th>Cause_of_accident</th>\n",
       "      <th>Accident_severity</th>\n",
       "    </tr>\n",
       "  </thead>\n",
       "  <tbody>\n",
       "    <tr>\n",
       "      <th>0</th>\n",
       "      <td>17:02:00</td>\n",
       "      <td>Monday</td>\n",
       "      <td>18-30</td>\n",
       "      <td>Male</td>\n",
       "      <td>Above high school</td>\n",
       "      <td>Employee</td>\n",
       "      <td>1-2yr</td>\n",
       "      <td>Automobile</td>\n",
       "      <td>Owner</td>\n",
       "      <td>Above 10yr</td>\n",
       "      <td>No defect</td>\n",
       "      <td>Residential areas</td>\n",
       "      <td>NaN</td>\n",
       "      <td>Tangent road with flat terrain</td>\n",
       "      <td>No junction</td>\n",
       "      <td>Asphalt roads</td>\n",
       "      <td>Dry</td>\n",
       "      <td>Daylight</td>\n",
       "      <td>Normal</td>\n",
       "      <td>Collision with roadside-parked vehicles</td>\n",
       "      <td>2</td>\n",
       "      <td>2</td>\n",
       "      <td>Going straight</td>\n",
       "      <td>na</td>\n",
       "      <td>na</td>\n",
       "      <td>na</td>\n",
       "      <td>na</td>\n",
       "      <td>NaN</td>\n",
       "      <td>NaN</td>\n",
       "      <td>Not a Pedestrian</td>\n",
       "      <td>Moving Backward</td>\n",
       "      <td>Slight Injury</td>\n",
       "    </tr>\n",
       "    <tr>\n",
       "      <th>1</th>\n",
       "      <td>17:02:00</td>\n",
       "      <td>Monday</td>\n",
       "      <td>31-50</td>\n",
       "      <td>Male</td>\n",
       "      <td>Junior high school</td>\n",
       "      <td>Employee</td>\n",
       "      <td>Above 10yr</td>\n",
       "      <td>Public (&gt; 45 seats)</td>\n",
       "      <td>Owner</td>\n",
       "      <td>5-10yrs</td>\n",
       "      <td>No defect</td>\n",
       "      <td>Office areas</td>\n",
       "      <td>Undivided Two way</td>\n",
       "      <td>Tangent road with flat terrain</td>\n",
       "      <td>No junction</td>\n",
       "      <td>Asphalt roads</td>\n",
       "      <td>Dry</td>\n",
       "      <td>Daylight</td>\n",
       "      <td>Normal</td>\n",
       "      <td>Vehicle with vehicle collision</td>\n",
       "      <td>2</td>\n",
       "      <td>2</td>\n",
       "      <td>Going straight</td>\n",
       "      <td>na</td>\n",
       "      <td>na</td>\n",
       "      <td>na</td>\n",
       "      <td>na</td>\n",
       "      <td>NaN</td>\n",
       "      <td>NaN</td>\n",
       "      <td>Not a Pedestrian</td>\n",
       "      <td>Overtaking</td>\n",
       "      <td>Slight Injury</td>\n",
       "    </tr>\n",
       "    <tr>\n",
       "      <th>2</th>\n",
       "      <td>17:02:00</td>\n",
       "      <td>Monday</td>\n",
       "      <td>18-30</td>\n",
       "      <td>Male</td>\n",
       "      <td>Junior high school</td>\n",
       "      <td>Employee</td>\n",
       "      <td>1-2yr</td>\n",
       "      <td>Lorry (41?100Q)</td>\n",
       "      <td>Owner</td>\n",
       "      <td>NaN</td>\n",
       "      <td>No defect</td>\n",
       "      <td>Recreational areas</td>\n",
       "      <td>other</td>\n",
       "      <td>NaN</td>\n",
       "      <td>No junction</td>\n",
       "      <td>Asphalt roads</td>\n",
       "      <td>Dry</td>\n",
       "      <td>Daylight</td>\n",
       "      <td>Normal</td>\n",
       "      <td>Collision with roadside objects</td>\n",
       "      <td>2</td>\n",
       "      <td>2</td>\n",
       "      <td>Going straight</td>\n",
       "      <td>Driver or rider</td>\n",
       "      <td>Male</td>\n",
       "      <td>31-50</td>\n",
       "      <td>3</td>\n",
       "      <td>Driver</td>\n",
       "      <td>NaN</td>\n",
       "      <td>Not a Pedestrian</td>\n",
       "      <td>Changing lane to the left</td>\n",
       "      <td>Serious Injury</td>\n",
       "    </tr>\n",
       "    <tr>\n",
       "      <th>3</th>\n",
       "      <td>1:06:00</td>\n",
       "      <td>Sunday</td>\n",
       "      <td>18-30</td>\n",
       "      <td>Male</td>\n",
       "      <td>Junior high school</td>\n",
       "      <td>Employee</td>\n",
       "      <td>5-10yr</td>\n",
       "      <td>Public (&gt; 45 seats)</td>\n",
       "      <td>Governmental</td>\n",
       "      <td>NaN</td>\n",
       "      <td>No defect</td>\n",
       "      <td>Office areas</td>\n",
       "      <td>other</td>\n",
       "      <td>Tangent road with mild grade and flat terrain</td>\n",
       "      <td>Y Shape</td>\n",
       "      <td>Earth roads</td>\n",
       "      <td>Dry</td>\n",
       "      <td>Darkness - lights lit</td>\n",
       "      <td>Normal</td>\n",
       "      <td>Vehicle with vehicle collision</td>\n",
       "      <td>2</td>\n",
       "      <td>2</td>\n",
       "      <td>Going straight</td>\n",
       "      <td>Pedestrian</td>\n",
       "      <td>Female</td>\n",
       "      <td>18-30</td>\n",
       "      <td>3</td>\n",
       "      <td>Driver</td>\n",
       "      <td>Normal</td>\n",
       "      <td>Not a Pedestrian</td>\n",
       "      <td>Changing lane to the right</td>\n",
       "      <td>Slight Injury</td>\n",
       "    </tr>\n",
       "    <tr>\n",
       "      <th>4</th>\n",
       "      <td>1:06:00</td>\n",
       "      <td>Sunday</td>\n",
       "      <td>18-30</td>\n",
       "      <td>Male</td>\n",
       "      <td>Junior high school</td>\n",
       "      <td>Employee</td>\n",
       "      <td>2-5yr</td>\n",
       "      <td>NaN</td>\n",
       "      <td>Owner</td>\n",
       "      <td>5-10yrs</td>\n",
       "      <td>No defect</td>\n",
       "      <td>Industrial areas</td>\n",
       "      <td>other</td>\n",
       "      <td>Tangent road with flat terrain</td>\n",
       "      <td>Y Shape</td>\n",
       "      <td>Asphalt roads</td>\n",
       "      <td>Dry</td>\n",
       "      <td>Darkness - lights lit</td>\n",
       "      <td>Normal</td>\n",
       "      <td>Vehicle with vehicle collision</td>\n",
       "      <td>2</td>\n",
       "      <td>2</td>\n",
       "      <td>Going straight</td>\n",
       "      <td>na</td>\n",
       "      <td>na</td>\n",
       "      <td>na</td>\n",
       "      <td>na</td>\n",
       "      <td>NaN</td>\n",
       "      <td>NaN</td>\n",
       "      <td>Not a Pedestrian</td>\n",
       "      <td>Overtaking</td>\n",
       "      <td>Slight Injury</td>\n",
       "    </tr>\n",
       "  </tbody>\n",
       "</table>\n",
       "</div>"
      ],
      "text/plain": [
       "       Time Day_of_week Age_band_of_driver Sex_of_driver   Educational_level  \\\n",
       "0  17:02:00      Monday              18-30          Male   Above high school   \n",
       "1  17:02:00      Monday              31-50          Male  Junior high school   \n",
       "2  17:02:00      Monday              18-30          Male  Junior high school   \n",
       "3   1:06:00      Sunday              18-30          Male  Junior high school   \n",
       "4   1:06:00      Sunday              18-30          Male  Junior high school   \n",
       "\n",
       "  Vehicle_driver_relation Driving_experience      Type_of_vehicle  \\\n",
       "0                Employee              1-2yr           Automobile   \n",
       "1                Employee         Above 10yr  Public (> 45 seats)   \n",
       "2                Employee              1-2yr      Lorry (41?100Q)   \n",
       "3                Employee             5-10yr  Public (> 45 seats)   \n",
       "4                Employee              2-5yr                  NaN   \n",
       "\n",
       "  Owner_of_vehicle Service_year_of_vehicle Defect_of_vehicle  \\\n",
       "0            Owner              Above 10yr         No defect   \n",
       "1            Owner                 5-10yrs         No defect   \n",
       "2            Owner                     NaN         No defect   \n",
       "3     Governmental                     NaN         No defect   \n",
       "4            Owner                 5-10yrs         No defect   \n",
       "\n",
       "  Area_accident_occured   Lanes_or_Medians  \\\n",
       "0     Residential areas                NaN   \n",
       "1          Office areas  Undivided Two way   \n",
       "2    Recreational areas              other   \n",
       "3          Office areas              other   \n",
       "4      Industrial areas              other   \n",
       "\n",
       "                                 Road_allignment Types_of_Junction  \\\n",
       "0                 Tangent road with flat terrain       No junction   \n",
       "1                 Tangent road with flat terrain       No junction   \n",
       "2                                            NaN       No junction   \n",
       "3  Tangent road with mild grade and flat terrain           Y Shape   \n",
       "4                 Tangent road with flat terrain           Y Shape   \n",
       "\n",
       "  Road_surface_type Road_surface_conditions       Light_conditions  \\\n",
       "0     Asphalt roads                     Dry               Daylight   \n",
       "1     Asphalt roads                     Dry               Daylight   \n",
       "2     Asphalt roads                     Dry               Daylight   \n",
       "3       Earth roads                     Dry  Darkness - lights lit   \n",
       "4     Asphalt roads                     Dry  Darkness - lights lit   \n",
       "\n",
       "  Weather_conditions                        Type_of_collision  \\\n",
       "0             Normal  Collision with roadside-parked vehicles   \n",
       "1             Normal           Vehicle with vehicle collision   \n",
       "2             Normal          Collision with roadside objects   \n",
       "3             Normal           Vehicle with vehicle collision   \n",
       "4             Normal           Vehicle with vehicle collision   \n",
       "\n",
       "   Number_of_vehicles_involved  Number_of_casualties Vehicle_movement  \\\n",
       "0                            2                     2   Going straight   \n",
       "1                            2                     2   Going straight   \n",
       "2                            2                     2   Going straight   \n",
       "3                            2                     2   Going straight   \n",
       "4                            2                     2   Going straight   \n",
       "\n",
       "    Casualty_class Sex_of_casualty Age_band_of_casualty Casualty_severity  \\\n",
       "0               na              na                   na                na   \n",
       "1               na              na                   na                na   \n",
       "2  Driver or rider            Male                31-50                 3   \n",
       "3       Pedestrian          Female                18-30                 3   \n",
       "4               na              na                   na                na   \n",
       "\n",
       "  Work_of_casuality Fitness_of_casuality Pedestrian_movement  \\\n",
       "0               NaN                  NaN    Not a Pedestrian   \n",
       "1               NaN                  NaN    Not a Pedestrian   \n",
       "2            Driver                  NaN    Not a Pedestrian   \n",
       "3            Driver               Normal    Not a Pedestrian   \n",
       "4               NaN                  NaN    Not a Pedestrian   \n",
       "\n",
       "            Cause_of_accident Accident_severity  \n",
       "0             Moving Backward     Slight Injury  \n",
       "1                  Overtaking     Slight Injury  \n",
       "2   Changing lane to the left    Serious Injury  \n",
       "3  Changing lane to the right     Slight Injury  \n",
       "4                  Overtaking     Slight Injury  "
      ]
     },
     "execution_count": 16,
     "metadata": {},
     "output_type": "execute_result"
    }
   ],
   "source": [
    "# loading the data set\n",
    "df = pd.read_csv(\"../dataset/RTA Dataset.csv\")\n",
    "df = df.replace([' ', '?', \"\", '-','|','#','@','!'], value=np.nan)\n",
    "df.head()"
   ]
  },
  {
   "cell_type": "markdown",
   "id": "afd03555",
   "metadata": {},
   "source": [
    "<a name = Section41></a>\n",
    "### **4.1 Data Information**\n",
    "\n",
    "- In this section we will see the **information about the types of features**."
   ]
  },
  {
   "cell_type": "code",
   "execution_count": 17,
   "id": "236be14c",
   "metadata": {
    "ExecuteTime": {
     "end_time": "2022-03-13T11:57:22.826679Z",
     "start_time": "2022-03-13T11:57:22.600154Z"
    }
   },
   "outputs": [
    {
     "name": "stdout",
     "output_type": "stream",
     "text": [
      "<class 'pandas.core.frame.DataFrame'>\n",
      "RangeIndex: 12316 entries, 0 to 12315\n",
      "Data columns (total 32 columns):\n",
      " #   Column                       Non-Null Count  Dtype \n",
      "---  ------                       --------------  ----- \n",
      " 0   Time                         12316 non-null  object\n",
      " 1   Day_of_week                  12316 non-null  object\n",
      " 2   Age_band_of_driver           12316 non-null  object\n",
      " 3   Sex_of_driver                12316 non-null  object\n",
      " 4   Educational_level            11575 non-null  object\n",
      " 5   Vehicle_driver_relation      11737 non-null  object\n",
      " 6   Driving_experience           11487 non-null  object\n",
      " 7   Type_of_vehicle              11366 non-null  object\n",
      " 8   Owner_of_vehicle             11834 non-null  object\n",
      " 9   Service_year_of_vehicle      8388 non-null   object\n",
      " 10  Defect_of_vehicle            7889 non-null   object\n",
      " 11  Area_accident_occured        12077 non-null  object\n",
      " 12  Lanes_or_Medians             11931 non-null  object\n",
      " 13  Road_allignment              12174 non-null  object\n",
      " 14  Types_of_Junction            11429 non-null  object\n",
      " 15  Road_surface_type            12144 non-null  object\n",
      " 16  Road_surface_conditions      12316 non-null  object\n",
      " 17  Light_conditions             12316 non-null  object\n",
      " 18  Weather_conditions           12316 non-null  object\n",
      " 19  Type_of_collision            12161 non-null  object\n",
      " 20  Number_of_vehicles_involved  12316 non-null  int64 \n",
      " 21  Number_of_casualties         12316 non-null  int64 \n",
      " 22  Vehicle_movement             12008 non-null  object\n",
      " 23  Casualty_class               12316 non-null  object\n",
      " 24  Sex_of_casualty              12316 non-null  object\n",
      " 25  Age_band_of_casualty         12316 non-null  object\n",
      " 26  Casualty_severity            12316 non-null  object\n",
      " 27  Work_of_casuality            9118 non-null   object\n",
      " 28  Fitness_of_casuality         9681 non-null   object\n",
      " 29  Pedestrian_movement          12316 non-null  object\n",
      " 30  Cause_of_accident            12316 non-null  object\n",
      " 31  Accident_severity            12316 non-null  object\n",
      "dtypes: int64(2), object(30)\n",
      "memory usage: 3.0+ MB\n"
     ]
    }
   ],
   "source": [
    "df.info()"
   ]
  },
  {
   "cell_type": "code",
   "execution_count": 18,
   "id": "7032c14d",
   "metadata": {
    "ExecuteTime": {
     "end_time": "2022-03-13T11:57:22.857456Z",
     "start_time": "2022-03-13T11:57:22.832452Z"
    }
   },
   "outputs": [
    {
     "data": {
      "text/plain": [
       "(12316, 32)"
      ]
     },
     "execution_count": 18,
     "metadata": {},
     "output_type": "execute_result"
    }
   ],
   "source": [
    "df.shape"
   ]
  },
  {
   "cell_type": "code",
   "execution_count": 19,
   "id": "adf5c0f0",
   "metadata": {
    "ExecuteTime": {
     "end_time": "2022-03-13T11:57:23.011928Z",
     "start_time": "2022-03-13T11:57:22.869351Z"
    }
   },
   "outputs": [
    {
     "data": {
      "text/html": [
       "<div>\n",
       "<style scoped>\n",
       "    .dataframe tbody tr th:only-of-type {\n",
       "        vertical-align: middle;\n",
       "    }\n",
       "\n",
       "    .dataframe tbody tr th {\n",
       "        vertical-align: top;\n",
       "    }\n",
       "\n",
       "    .dataframe thead th {\n",
       "        text-align: right;\n",
       "    }\n",
       "</style>\n",
       "<table border=\"1\" class=\"dataframe\">\n",
       "  <thead>\n",
       "    <tr style=\"text-align: right;\">\n",
       "      <th></th>\n",
       "      <th>Time</th>\n",
       "      <th>Day_of_week</th>\n",
       "      <th>Age_band_of_driver</th>\n",
       "      <th>Sex_of_driver</th>\n",
       "      <th>Educational_level</th>\n",
       "      <th>Vehicle_driver_relation</th>\n",
       "      <th>Driving_experience</th>\n",
       "      <th>Type_of_vehicle</th>\n",
       "      <th>Owner_of_vehicle</th>\n",
       "      <th>Service_year_of_vehicle</th>\n",
       "      <th>Defect_of_vehicle</th>\n",
       "      <th>Area_accident_occured</th>\n",
       "      <th>Lanes_or_Medians</th>\n",
       "      <th>Road_allignment</th>\n",
       "      <th>Types_of_Junction</th>\n",
       "      <th>Road_surface_type</th>\n",
       "      <th>Road_surface_conditions</th>\n",
       "      <th>Light_conditions</th>\n",
       "      <th>Weather_conditions</th>\n",
       "      <th>Type_of_collision</th>\n",
       "      <th>Number_of_vehicles_involved</th>\n",
       "      <th>Number_of_casualties</th>\n",
       "      <th>Vehicle_movement</th>\n",
       "      <th>Casualty_class</th>\n",
       "      <th>Sex_of_casualty</th>\n",
       "      <th>Age_band_of_casualty</th>\n",
       "      <th>Casualty_severity</th>\n",
       "      <th>Work_of_casuality</th>\n",
       "      <th>Fitness_of_casuality</th>\n",
       "      <th>Pedestrian_movement</th>\n",
       "      <th>Cause_of_accident</th>\n",
       "      <th>Accident_severity</th>\n",
       "    </tr>\n",
       "  </thead>\n",
       "  <tbody>\n",
       "    <tr>\n",
       "      <th>10703</th>\n",
       "      <td>7:40:00</td>\n",
       "      <td>Wednesday</td>\n",
       "      <td>18-30</td>\n",
       "      <td>Male</td>\n",
       "      <td>Above high school</td>\n",
       "      <td>Employee</td>\n",
       "      <td>5-10yr</td>\n",
       "      <td>Other</td>\n",
       "      <td>Owner</td>\n",
       "      <td>NaN</td>\n",
       "      <td>NaN</td>\n",
       "      <td>Recreational areas</td>\n",
       "      <td>Two-way (divided with broken lines road marking)</td>\n",
       "      <td>Tangent road with flat terrain</td>\n",
       "      <td>NaN</td>\n",
       "      <td>Asphalt roads</td>\n",
       "      <td>Dry</td>\n",
       "      <td>Daylight</td>\n",
       "      <td>Normal</td>\n",
       "      <td>Vehicle with vehicle collision</td>\n",
       "      <td>2</td>\n",
       "      <td>1</td>\n",
       "      <td>Stopping</td>\n",
       "      <td>Driver or rider</td>\n",
       "      <td>Female</td>\n",
       "      <td>Over 51</td>\n",
       "      <td>3</td>\n",
       "      <td>Self-employed</td>\n",
       "      <td>Normal</td>\n",
       "      <td>Not a Pedestrian</td>\n",
       "      <td>Changing lane to the left</td>\n",
       "      <td>Slight Injury</td>\n",
       "    </tr>\n",
       "    <tr>\n",
       "      <th>4911</th>\n",
       "      <td>9:40:00</td>\n",
       "      <td>Monday</td>\n",
       "      <td>31-50</td>\n",
       "      <td>Male</td>\n",
       "      <td>Writing &amp; reading</td>\n",
       "      <td>Employee</td>\n",
       "      <td>Below 1yr</td>\n",
       "      <td>Automobile</td>\n",
       "      <td>Owner</td>\n",
       "      <td>Unknown</td>\n",
       "      <td>No defect</td>\n",
       "      <td>Office areas</td>\n",
       "      <td>Undivided Two way</td>\n",
       "      <td>Tangent road with flat terrain</td>\n",
       "      <td>Y Shape</td>\n",
       "      <td>Asphalt roads</td>\n",
       "      <td>Dry</td>\n",
       "      <td>Daylight</td>\n",
       "      <td>Other</td>\n",
       "      <td>Vehicle with vehicle collision</td>\n",
       "      <td>2</td>\n",
       "      <td>1</td>\n",
       "      <td>Going straight</td>\n",
       "      <td>Passenger</td>\n",
       "      <td>Male</td>\n",
       "      <td>31-50</td>\n",
       "      <td>3</td>\n",
       "      <td>Driver</td>\n",
       "      <td>Normal</td>\n",
       "      <td>Not a Pedestrian</td>\n",
       "      <td>No priority to vehicle</td>\n",
       "      <td>Slight Injury</td>\n",
       "    </tr>\n",
       "    <tr>\n",
       "      <th>4481</th>\n",
       "      <td>16:30:00</td>\n",
       "      <td>Monday</td>\n",
       "      <td>Unknown</td>\n",
       "      <td>Male</td>\n",
       "      <td>High school</td>\n",
       "      <td>Owner</td>\n",
       "      <td>1-2yr</td>\n",
       "      <td>Other</td>\n",
       "      <td>Owner</td>\n",
       "      <td>NaN</td>\n",
       "      <td>No defect</td>\n",
       "      <td>Other</td>\n",
       "      <td>Double carriageway (median)</td>\n",
       "      <td>Tangent road with flat terrain</td>\n",
       "      <td>Y Shape</td>\n",
       "      <td>Asphalt roads</td>\n",
       "      <td>Wet or damp</td>\n",
       "      <td>Daylight</td>\n",
       "      <td>Normal</td>\n",
       "      <td>Vehicle with vehicle collision</td>\n",
       "      <td>2</td>\n",
       "      <td>1</td>\n",
       "      <td>Going straight</td>\n",
       "      <td>Driver or rider</td>\n",
       "      <td>Female</td>\n",
       "      <td>18-30</td>\n",
       "      <td>3</td>\n",
       "      <td>Driver</td>\n",
       "      <td>Normal</td>\n",
       "      <td>Not a Pedestrian</td>\n",
       "      <td>No priority to vehicle</td>\n",
       "      <td>Slight Injury</td>\n",
       "    </tr>\n",
       "    <tr>\n",
       "      <th>2024</th>\n",
       "      <td>9:47:00</td>\n",
       "      <td>Wednesday</td>\n",
       "      <td>31-50</td>\n",
       "      <td>Male</td>\n",
       "      <td>Junior high school</td>\n",
       "      <td>Employee</td>\n",
       "      <td>Below 1yr</td>\n",
       "      <td>Pick up upto 10Q</td>\n",
       "      <td>Governmental</td>\n",
       "      <td>1-2yr</td>\n",
       "      <td>No defect</td>\n",
       "      <td>Other</td>\n",
       "      <td>Double carriageway (median)</td>\n",
       "      <td>Tangent road with flat terrain</td>\n",
       "      <td>Crossing</td>\n",
       "      <td>Asphalt roads</td>\n",
       "      <td>Dry</td>\n",
       "      <td>Daylight</td>\n",
       "      <td>Normal</td>\n",
       "      <td>Collision with roadside objects</td>\n",
       "      <td>1</td>\n",
       "      <td>1</td>\n",
       "      <td>Going straight</td>\n",
       "      <td>Passenger</td>\n",
       "      <td>Male</td>\n",
       "      <td>18-30</td>\n",
       "      <td>3</td>\n",
       "      <td>NaN</td>\n",
       "      <td>NaN</td>\n",
       "      <td>Not a Pedestrian</td>\n",
       "      <td>Overtaking</td>\n",
       "      <td>Serious Injury</td>\n",
       "    </tr>\n",
       "    <tr>\n",
       "      <th>7302</th>\n",
       "      <td>6:07:00</td>\n",
       "      <td>Thursday</td>\n",
       "      <td>18-30</td>\n",
       "      <td>Male</td>\n",
       "      <td>NaN</td>\n",
       "      <td>Employee</td>\n",
       "      <td>NaN</td>\n",
       "      <td>Pick up upto 10Q</td>\n",
       "      <td>Owner</td>\n",
       "      <td>NaN</td>\n",
       "      <td>7</td>\n",
       "      <td>Outside rural areas</td>\n",
       "      <td>other</td>\n",
       "      <td>Tangent road with flat terrain</td>\n",
       "      <td>No junction</td>\n",
       "      <td>Asphalt roads</td>\n",
       "      <td>Dry</td>\n",
       "      <td>Darkness - lights lit</td>\n",
       "      <td>Normal</td>\n",
       "      <td>Vehicle with vehicle collision</td>\n",
       "      <td>1</td>\n",
       "      <td>1</td>\n",
       "      <td>Going straight</td>\n",
       "      <td>na</td>\n",
       "      <td>na</td>\n",
       "      <td>na</td>\n",
       "      <td>na</td>\n",
       "      <td>Self-employed</td>\n",
       "      <td>Normal</td>\n",
       "      <td>Not a Pedestrian</td>\n",
       "      <td>No priority to vehicle</td>\n",
       "      <td>Serious Injury</td>\n",
       "    </tr>\n",
       "  </tbody>\n",
       "</table>\n",
       "</div>"
      ],
      "text/plain": [
       "           Time Day_of_week Age_band_of_driver Sex_of_driver  \\\n",
       "10703   7:40:00   Wednesday              18-30          Male   \n",
       "4911    9:40:00      Monday              31-50          Male   \n",
       "4481   16:30:00      Monday            Unknown          Male   \n",
       "2024    9:47:00   Wednesday              31-50          Male   \n",
       "7302    6:07:00    Thursday              18-30          Male   \n",
       "\n",
       "        Educational_level Vehicle_driver_relation Driving_experience  \\\n",
       "10703   Above high school                Employee             5-10yr   \n",
       "4911    Writing & reading                Employee          Below 1yr   \n",
       "4481          High school                   Owner              1-2yr   \n",
       "2024   Junior high school                Employee          Below 1yr   \n",
       "7302                  NaN                Employee                NaN   \n",
       "\n",
       "        Type_of_vehicle Owner_of_vehicle Service_year_of_vehicle  \\\n",
       "10703             Other            Owner                     NaN   \n",
       "4911         Automobile            Owner                 Unknown   \n",
       "4481              Other            Owner                     NaN   \n",
       "2024   Pick up upto 10Q     Governmental                   1-2yr   \n",
       "7302   Pick up upto 10Q            Owner                     NaN   \n",
       "\n",
       "      Defect_of_vehicle Area_accident_occured  \\\n",
       "10703               NaN    Recreational areas   \n",
       "4911          No defect          Office areas   \n",
       "4481          No defect                 Other   \n",
       "2024          No defect                 Other   \n",
       "7302                  7   Outside rural areas   \n",
       "\n",
       "                                       Lanes_or_Medians  \\\n",
       "10703  Two-way (divided with broken lines road marking)   \n",
       "4911                                  Undivided Two way   \n",
       "4481                        Double carriageway (median)   \n",
       "2024                        Double carriageway (median)   \n",
       "7302                                              other   \n",
       "\n",
       "                      Road_allignment Types_of_Junction Road_surface_type  \\\n",
       "10703  Tangent road with flat terrain               NaN     Asphalt roads   \n",
       "4911   Tangent road with flat terrain           Y Shape     Asphalt roads   \n",
       "4481   Tangent road with flat terrain           Y Shape     Asphalt roads   \n",
       "2024   Tangent road with flat terrain          Crossing     Asphalt roads   \n",
       "7302   Tangent road with flat terrain       No junction     Asphalt roads   \n",
       "\n",
       "      Road_surface_conditions       Light_conditions Weather_conditions  \\\n",
       "10703                     Dry               Daylight             Normal   \n",
       "4911                      Dry               Daylight              Other   \n",
       "4481              Wet or damp               Daylight             Normal   \n",
       "2024                      Dry               Daylight             Normal   \n",
       "7302                      Dry  Darkness - lights lit             Normal   \n",
       "\n",
       "                     Type_of_collision  Number_of_vehicles_involved  \\\n",
       "10703   Vehicle with vehicle collision                            2   \n",
       "4911    Vehicle with vehicle collision                            2   \n",
       "4481    Vehicle with vehicle collision                            2   \n",
       "2024   Collision with roadside objects                            1   \n",
       "7302    Vehicle with vehicle collision                            1   \n",
       "\n",
       "       Number_of_casualties Vehicle_movement   Casualty_class Sex_of_casualty  \\\n",
       "10703                     1         Stopping  Driver or rider          Female   \n",
       "4911                      1   Going straight        Passenger            Male   \n",
       "4481                      1   Going straight  Driver or rider          Female   \n",
       "2024                      1   Going straight        Passenger            Male   \n",
       "7302                      1   Going straight               na              na   \n",
       "\n",
       "      Age_band_of_casualty Casualty_severity Work_of_casuality  \\\n",
       "10703              Over 51                 3     Self-employed   \n",
       "4911                 31-50                 3            Driver   \n",
       "4481                 18-30                 3            Driver   \n",
       "2024                 18-30                 3               NaN   \n",
       "7302                    na                na     Self-employed   \n",
       "\n",
       "      Fitness_of_casuality Pedestrian_movement          Cause_of_accident  \\\n",
       "10703               Normal    Not a Pedestrian  Changing lane to the left   \n",
       "4911                Normal    Not a Pedestrian     No priority to vehicle   \n",
       "4481                Normal    Not a Pedestrian     No priority to vehicle   \n",
       "2024                   NaN    Not a Pedestrian                 Overtaking   \n",
       "7302                Normal    Not a Pedestrian     No priority to vehicle   \n",
       "\n",
       "      Accident_severity  \n",
       "10703     Slight Injury  \n",
       "4911      Slight Injury  \n",
       "4481      Slight Injury  \n",
       "2024     Serious Injury  \n",
       "7302     Serious Injury  "
      ]
     },
     "execution_count": 19,
     "metadata": {},
     "output_type": "execute_result"
    }
   ],
   "source": [
    "df.sample(5)"
   ]
  },
  {
   "cell_type": "markdown",
   "id": "db019eb4",
   "metadata": {},
   "source": [
    "<a name = Section42></a>\n",
    "### 4.2 Data Description \n",
    "\n",
    "- In this section we will get **information about the data** and see some observations.          "
   ]
  },
  {
   "cell_type": "code",
   "execution_count": 20,
   "id": "78c226a2",
   "metadata": {
    "ExecuteTime": {
     "end_time": "2022-03-13T11:57:23.710271Z",
     "start_time": "2022-03-13T11:57:23.020268Z"
    }
   },
   "outputs": [
    {
     "data": {
      "text/html": [
       "<style type=\"text/css\">\n",
       "</style>\n",
       "<table id=\"T_4e56c\">\n",
       "  <thead>\n",
       "    <tr>\n",
       "      <th class=\"blank level0\" >&nbsp;</th>\n",
       "      <th id=\"T_4e56c_level0_col0\" class=\"col_heading level0 col0\" >Number_of_vehicles_involved</th>\n",
       "      <th id=\"T_4e56c_level0_col1\" class=\"col_heading level0 col1\" >Number_of_casualties</th>\n",
       "    </tr>\n",
       "  </thead>\n",
       "  <tbody>\n",
       "    <tr>\n",
       "      <th id=\"T_4e56c_level0_row0\" class=\"row_heading level0 row0\" >count</th>\n",
       "      <td id=\"T_4e56c_row0_col0\" class=\"data row0 col0\" >12316.000000</td>\n",
       "      <td id=\"T_4e56c_row0_col1\" class=\"data row0 col1\" >12316.000000</td>\n",
       "    </tr>\n",
       "    <tr>\n",
       "      <th id=\"T_4e56c_level0_row1\" class=\"row_heading level0 row1\" >mean</th>\n",
       "      <td id=\"T_4e56c_row1_col0\" class=\"data row1 col0\" >2.040679</td>\n",
       "      <td id=\"T_4e56c_row1_col1\" class=\"data row1 col1\" >1.548149</td>\n",
       "    </tr>\n",
       "    <tr>\n",
       "      <th id=\"T_4e56c_level0_row2\" class=\"row_heading level0 row2\" >std</th>\n",
       "      <td id=\"T_4e56c_row2_col0\" class=\"data row2 col0\" >0.688790</td>\n",
       "      <td id=\"T_4e56c_row2_col1\" class=\"data row2 col1\" >1.007179</td>\n",
       "    </tr>\n",
       "    <tr>\n",
       "      <th id=\"T_4e56c_level0_row3\" class=\"row_heading level0 row3\" >min</th>\n",
       "      <td id=\"T_4e56c_row3_col0\" class=\"data row3 col0\" >1.000000</td>\n",
       "      <td id=\"T_4e56c_row3_col1\" class=\"data row3 col1\" >1.000000</td>\n",
       "    </tr>\n",
       "    <tr>\n",
       "      <th id=\"T_4e56c_level0_row4\" class=\"row_heading level0 row4\" >25%</th>\n",
       "      <td id=\"T_4e56c_row4_col0\" class=\"data row4 col0\" >2.000000</td>\n",
       "      <td id=\"T_4e56c_row4_col1\" class=\"data row4 col1\" >1.000000</td>\n",
       "    </tr>\n",
       "    <tr>\n",
       "      <th id=\"T_4e56c_level0_row5\" class=\"row_heading level0 row5\" >50%</th>\n",
       "      <td id=\"T_4e56c_row5_col0\" class=\"data row5 col0\" >2.000000</td>\n",
       "      <td id=\"T_4e56c_row5_col1\" class=\"data row5 col1\" >1.000000</td>\n",
       "    </tr>\n",
       "    <tr>\n",
       "      <th id=\"T_4e56c_level0_row6\" class=\"row_heading level0 row6\" >75%</th>\n",
       "      <td id=\"T_4e56c_row6_col0\" class=\"data row6 col0\" >2.000000</td>\n",
       "      <td id=\"T_4e56c_row6_col1\" class=\"data row6 col1\" >2.000000</td>\n",
       "    </tr>\n",
       "    <tr>\n",
       "      <th id=\"T_4e56c_level0_row7\" class=\"row_heading level0 row7\" >max</th>\n",
       "      <td id=\"T_4e56c_row7_col0\" class=\"data row7 col0\" >7.000000</td>\n",
       "      <td id=\"T_4e56c_row7_col1\" class=\"data row7 col1\" >8.000000</td>\n",
       "    </tr>\n",
       "  </tbody>\n",
       "</table>\n"
      ],
      "text/plain": [
       "<pandas.io.formats.style.Styler at 0x203f76a5340>"
      ]
     },
     "execution_count": 20,
     "metadata": {},
     "output_type": "execute_result"
    }
   ],
   "source": [
    "df.describe().style.highlight_null(null_color = 'lime')"
   ]
  },
  {
   "cell_type": "code",
   "execution_count": 21,
   "id": "ad88680c",
   "metadata": {
    "ExecuteTime": {
     "end_time": "2022-03-13T11:57:24.006053Z",
     "start_time": "2022-03-13T11:57:23.727227Z"
    }
   },
   "outputs": [
    {
     "data": {
      "text/html": [
       "<div>\n",
       "<style scoped>\n",
       "    .dataframe tbody tr th:only-of-type {\n",
       "        vertical-align: middle;\n",
       "    }\n",
       "\n",
       "    .dataframe tbody tr th {\n",
       "        vertical-align: top;\n",
       "    }\n",
       "\n",
       "    .dataframe thead th {\n",
       "        text-align: right;\n",
       "    }\n",
       "</style>\n",
       "<table border=\"1\" class=\"dataframe\">\n",
       "  <thead>\n",
       "    <tr style=\"text-align: right;\">\n",
       "      <th></th>\n",
       "      <th>Time</th>\n",
       "      <th>Day_of_week</th>\n",
       "      <th>Age_band_of_driver</th>\n",
       "      <th>Sex_of_driver</th>\n",
       "      <th>Educational_level</th>\n",
       "      <th>Vehicle_driver_relation</th>\n",
       "      <th>Driving_experience</th>\n",
       "      <th>Type_of_vehicle</th>\n",
       "      <th>Owner_of_vehicle</th>\n",
       "      <th>Service_year_of_vehicle</th>\n",
       "      <th>Defect_of_vehicle</th>\n",
       "      <th>Area_accident_occured</th>\n",
       "      <th>Lanes_or_Medians</th>\n",
       "      <th>Road_allignment</th>\n",
       "      <th>Types_of_Junction</th>\n",
       "      <th>Road_surface_type</th>\n",
       "      <th>Road_surface_conditions</th>\n",
       "      <th>Light_conditions</th>\n",
       "      <th>Weather_conditions</th>\n",
       "      <th>Type_of_collision</th>\n",
       "      <th>Vehicle_movement</th>\n",
       "      <th>Casualty_class</th>\n",
       "      <th>Sex_of_casualty</th>\n",
       "      <th>Age_band_of_casualty</th>\n",
       "      <th>Casualty_severity</th>\n",
       "      <th>Work_of_casuality</th>\n",
       "      <th>Fitness_of_casuality</th>\n",
       "      <th>Pedestrian_movement</th>\n",
       "      <th>Cause_of_accident</th>\n",
       "      <th>Accident_severity</th>\n",
       "    </tr>\n",
       "  </thead>\n",
       "  <tbody>\n",
       "    <tr>\n",
       "      <th>count</th>\n",
       "      <td>12316</td>\n",
       "      <td>12316</td>\n",
       "      <td>12316</td>\n",
       "      <td>12316</td>\n",
       "      <td>11575</td>\n",
       "      <td>11737</td>\n",
       "      <td>11487</td>\n",
       "      <td>11366</td>\n",
       "      <td>11834</td>\n",
       "      <td>8388</td>\n",
       "      <td>7889</td>\n",
       "      <td>12077</td>\n",
       "      <td>11931</td>\n",
       "      <td>12174</td>\n",
       "      <td>11429</td>\n",
       "      <td>12144</td>\n",
       "      <td>12316</td>\n",
       "      <td>12316</td>\n",
       "      <td>12316</td>\n",
       "      <td>12161</td>\n",
       "      <td>12008</td>\n",
       "      <td>12316</td>\n",
       "      <td>12316</td>\n",
       "      <td>12316</td>\n",
       "      <td>12316</td>\n",
       "      <td>9118</td>\n",
       "      <td>9681</td>\n",
       "      <td>12316</td>\n",
       "      <td>12316</td>\n",
       "      <td>12316</td>\n",
       "    </tr>\n",
       "    <tr>\n",
       "      <th>unique</th>\n",
       "      <td>1074</td>\n",
       "      <td>7</td>\n",
       "      <td>5</td>\n",
       "      <td>3</td>\n",
       "      <td>7</td>\n",
       "      <td>4</td>\n",
       "      <td>7</td>\n",
       "      <td>17</td>\n",
       "      <td>4</td>\n",
       "      <td>6</td>\n",
       "      <td>3</td>\n",
       "      <td>14</td>\n",
       "      <td>7</td>\n",
       "      <td>9</td>\n",
       "      <td>8</td>\n",
       "      <td>5</td>\n",
       "      <td>4</td>\n",
       "      <td>4</td>\n",
       "      <td>9</td>\n",
       "      <td>10</td>\n",
       "      <td>13</td>\n",
       "      <td>4</td>\n",
       "      <td>3</td>\n",
       "      <td>6</td>\n",
       "      <td>4</td>\n",
       "      <td>7</td>\n",
       "      <td>5</td>\n",
       "      <td>9</td>\n",
       "      <td>20</td>\n",
       "      <td>3</td>\n",
       "    </tr>\n",
       "    <tr>\n",
       "      <th>top</th>\n",
       "      <td>15:30:00</td>\n",
       "      <td>Friday</td>\n",
       "      <td>18-30</td>\n",
       "      <td>Male</td>\n",
       "      <td>Junior high school</td>\n",
       "      <td>Employee</td>\n",
       "      <td>5-10yr</td>\n",
       "      <td>Automobile</td>\n",
       "      <td>Owner</td>\n",
       "      <td>Unknown</td>\n",
       "      <td>No defect</td>\n",
       "      <td>Other</td>\n",
       "      <td>Two-way (divided with broken lines road marking)</td>\n",
       "      <td>Tangent road with flat terrain</td>\n",
       "      <td>Y Shape</td>\n",
       "      <td>Asphalt roads</td>\n",
       "      <td>Dry</td>\n",
       "      <td>Daylight</td>\n",
       "      <td>Normal</td>\n",
       "      <td>Vehicle with vehicle collision</td>\n",
       "      <td>Going straight</td>\n",
       "      <td>Driver or rider</td>\n",
       "      <td>Male</td>\n",
       "      <td>na</td>\n",
       "      <td>3</td>\n",
       "      <td>Driver</td>\n",
       "      <td>Normal</td>\n",
       "      <td>Not a Pedestrian</td>\n",
       "      <td>No distancing</td>\n",
       "      <td>Slight Injury</td>\n",
       "    </tr>\n",
       "    <tr>\n",
       "      <th>freq</th>\n",
       "      <td>120</td>\n",
       "      <td>2041</td>\n",
       "      <td>4271</td>\n",
       "      <td>11437</td>\n",
       "      <td>7619</td>\n",
       "      <td>9627</td>\n",
       "      <td>3363</td>\n",
       "      <td>3205</td>\n",
       "      <td>10459</td>\n",
       "      <td>2883</td>\n",
       "      <td>7777</td>\n",
       "      <td>3819</td>\n",
       "      <td>4411</td>\n",
       "      <td>10459</td>\n",
       "      <td>4543</td>\n",
       "      <td>11296</td>\n",
       "      <td>9340</td>\n",
       "      <td>8798</td>\n",
       "      <td>10063</td>\n",
       "      <td>8774</td>\n",
       "      <td>8158</td>\n",
       "      <td>4944</td>\n",
       "      <td>5253</td>\n",
       "      <td>4443</td>\n",
       "      <td>7076</td>\n",
       "      <td>5903</td>\n",
       "      <td>9608</td>\n",
       "      <td>11390</td>\n",
       "      <td>2263</td>\n",
       "      <td>10415</td>\n",
       "    </tr>\n",
       "  </tbody>\n",
       "</table>\n",
       "</div>"
      ],
      "text/plain": [
       "            Time Day_of_week Age_band_of_driver Sex_of_driver  \\\n",
       "count      12316       12316              12316         12316   \n",
       "unique      1074           7                  5             3   \n",
       "top     15:30:00      Friday              18-30          Male   \n",
       "freq         120        2041               4271         11437   \n",
       "\n",
       "         Educational_level Vehicle_driver_relation Driving_experience  \\\n",
       "count                11575                   11737              11487   \n",
       "unique                   7                       4                  7   \n",
       "top     Junior high school                Employee             5-10yr   \n",
       "freq                  7619                    9627               3363   \n",
       "\n",
       "       Type_of_vehicle Owner_of_vehicle Service_year_of_vehicle  \\\n",
       "count            11366            11834                    8388   \n",
       "unique              17                4                       6   \n",
       "top         Automobile            Owner                 Unknown   \n",
       "freq              3205            10459                    2883   \n",
       "\n",
       "       Defect_of_vehicle Area_accident_occured  \\\n",
       "count               7889                 12077   \n",
       "unique                 3                    14   \n",
       "top            No defect                 Other   \n",
       "freq                7777                  3819   \n",
       "\n",
       "                                        Lanes_or_Medians  \\\n",
       "count                                              11931   \n",
       "unique                                                 7   \n",
       "top     Two-way (divided with broken lines road marking)   \n",
       "freq                                                4411   \n",
       "\n",
       "                       Road_allignment Types_of_Junction Road_surface_type  \\\n",
       "count                            12174             11429             12144   \n",
       "unique                               9                 8                 5   \n",
       "top     Tangent road with flat terrain           Y Shape     Asphalt roads   \n",
       "freq                             10459              4543             11296   \n",
       "\n",
       "       Road_surface_conditions Light_conditions Weather_conditions  \\\n",
       "count                    12316            12316              12316   \n",
       "unique                       4                4                  9   \n",
       "top                        Dry         Daylight             Normal   \n",
       "freq                      9340             8798              10063   \n",
       "\n",
       "                     Type_of_collision Vehicle_movement   Casualty_class  \\\n",
       "count                            12161            12008            12316   \n",
       "unique                              10               13                4   \n",
       "top     Vehicle with vehicle collision   Going straight  Driver or rider   \n",
       "freq                              8774             8158             4944   \n",
       "\n",
       "       Sex_of_casualty Age_band_of_casualty Casualty_severity  \\\n",
       "count            12316                12316             12316   \n",
       "unique               3                    6                 4   \n",
       "top               Male                   na                 3   \n",
       "freq              5253                 4443              7076   \n",
       "\n",
       "       Work_of_casuality Fitness_of_casuality Pedestrian_movement  \\\n",
       "count               9118                 9681               12316   \n",
       "unique                 7                    5                   9   \n",
       "top               Driver               Normal    Not a Pedestrian   \n",
       "freq                5903                 9608               11390   \n",
       "\n",
       "       Cause_of_accident Accident_severity  \n",
       "count              12316             12316  \n",
       "unique                20                 3  \n",
       "top        No distancing     Slight Injury  \n",
       "freq                2263             10415  "
      ]
     },
     "execution_count": 21,
     "metadata": {},
     "output_type": "execute_result"
    }
   ],
   "source": [
    "df.describe(include=\"object\")"
   ]
  },
  {
   "cell_type": "markdown",
   "id": "0c13ec49",
   "metadata": {},
   "source": [
    "**Observations:**\n",
    "\n",
    "- Total count/ records are  **12316** in the data.\n",
    "\n",
    "- There are quite a no of   missing values in various columns."
   ]
  },
  {
   "cell_type": "code",
   "execution_count": 22,
   "id": "bfdca5a0",
   "metadata": {
    "ExecuteTime": {
     "end_time": "2022-03-13T11:57:24.052354Z",
     "start_time": "2022-03-13T11:57:24.010315Z"
    }
   },
   "outputs": [],
   "source": [
    "# Only for columns of train data set\n",
    "df.columns = df.columns.str.lower().str.replace(' ', '_')"
   ]
  },
  {
   "cell_type": "markdown",
   "id": "a84ab028",
   "metadata": {
    "ExecuteTime": {
     "end_time": "2022-03-01T04:53:32.442245Z",
     "start_time": "2022-03-01T04:53:32.425257Z"
    }
   },
   "source": [
    "<a name = Section5></a>\n",
    "\n",
    "---\n",
    "# **5. Data Pre-Processing**\n",
    "---"
   ]
  },
  {
   "cell_type": "markdown",
   "id": "0acce35c",
   "metadata": {},
   "source": [
    "<a name = Section51></a>\n",
    "### **5.1 Data Pre-Profiling**\n",
    "\n",
    "- For **quick analysis** pandas profiling is very handy.\n",
    "\n",
    "- Generates profile reports from a pandas DataFrame.\n",
    "\n",
    "- For each column **statistics** are presented in an interactive HTML report."
   ]
  },
  {
   "cell_type": "code",
   "execution_count": 23,
   "id": "8d40e7ab",
   "metadata": {
    "ExecuteTime": {
     "end_time": "2022-03-13T11:58:15.912096Z",
     "start_time": "2022-03-13T11:57:24.057606Z"
    }
   },
   "outputs": [
    {
     "data": {
      "application/vnd.jupyter.widget-view+json": {
       "model_id": "a83fcdcbc4b440f2a14f1f771469cef0",
       "version_major": 2,
       "version_minor": 0
      },
      "text/plain": [
       "Summarize dataset:   0%|          | 0/5 [00:00<?, ?it/s]"
      ]
     },
     "metadata": {},
     "output_type": "display_data"
    },
    {
     "data": {
      "application/vnd.jupyter.widget-view+json": {
       "model_id": "4fdf0fd2c76545db9edf8c11a74790a9",
       "version_major": 2,
       "version_minor": 0
      },
      "text/plain": [
       "Generate report structure:   0%|          | 0/1 [00:00<?, ?it/s]"
      ]
     },
     "metadata": {},
     "output_type": "display_data"
    },
    {
     "data": {
      "application/vnd.jupyter.widget-view+json": {
       "model_id": "b3dffd1e3baa4d7b8b8c92142fb69715",
       "version_major": 2,
       "version_minor": 0
      },
      "text/plain": [
       "Render HTML:   0%|          | 0/1 [00:00<?, ?it/s]"
      ]
     },
     "metadata": {},
     "output_type": "display_data"
    },
    {
     "data": {
      "application/vnd.jupyter.widget-view+json": {
       "model_id": "e5b3ff2319024ad8a348c76a890d86d6",
       "version_major": 2,
       "version_minor": 0
      },
      "text/plain": [
       "Export report to file:   0%|          | 0/1 [00:00<?, ?it/s]"
      ]
     },
     "metadata": {},
     "output_type": "display_data"
    },
    {
     "name": "stdout",
     "output_type": "stream",
     "text": [
      "Accomplished!\n"
     ]
    }
   ],
   "source": [
    "profile1 = ProfileReport(df=df)\n",
    "profile1.to_file(output_file='RTA-PRE-Profiling Report.html')\n",
    "print('Accomplished!')"
   ]
  },
  {
   "cell_type": "markdown",
   "id": "f578b0c6",
   "metadata": {},
   "source": [
    "<a name = Section52></a>\n",
    "### **5.2  Handling of Missing Data**\n",
    "\n",
    "- In this section, we will identify missing data and check the proportion of it and take appropriate measures."
   ]
  },
  {
   "cell_type": "code",
   "execution_count": 24,
   "id": "b024f315",
   "metadata": {
    "ExecuteTime": {
     "end_time": "2022-03-13T11:58:16.036106Z",
     "start_time": "2022-03-13T11:58:15.916144Z"
    }
   },
   "outputs": [
    {
     "name": "stdout",
     "output_type": "stream",
     "text": [
      "True\n"
     ]
    }
   ],
   "source": [
    "# Check for any missing values\n",
    "print(any(df.isna().sum()))"
   ]
  },
  {
   "cell_type": "markdown",
   "id": "127cf00f",
   "metadata": {},
   "source": [
    "**Observations:**\n",
    "-  Looks like there are missing values in the  dataset."
   ]
  },
  {
   "cell_type": "code",
   "execution_count": 25,
   "id": "7feb8fbc",
   "metadata": {
    "ExecuteTime": {
     "end_time": "2022-03-13T11:58:16.347831Z",
     "start_time": "2022-03-13T11:58:16.041257Z"
    }
   },
   "outputs": [
    {
     "name": "stdout",
     "output_type": "stream",
     "text": [
      "9427\n"
     ]
    }
   ],
   "source": [
    "# Check for any missing values\n",
    "#print(df[df.isna().any(axis=1)])\n",
    "print(len(df[df.isna().any(axis=1)]))"
   ]
  },
  {
   "cell_type": "markdown",
   "id": "23fa21f0",
   "metadata": {},
   "source": [
    "**Observations:**\n",
    "\n",
    "-  As we had observed there are missing values in the events dataset. \n",
    "- There are approx 9427 missing values in the entire dataset."
   ]
  },
  {
   "cell_type": "code",
   "execution_count": 26,
   "id": "fb3d2aa4",
   "metadata": {
    "ExecuteTime": {
     "end_time": "2022-03-13T11:58:16.737675Z",
     "start_time": "2022-03-13T11:58:16.353196Z"
    }
   },
   "outputs": [
    {
     "data": {
      "text/html": [
       "<div>\n",
       "<style scoped>\n",
       "    .dataframe tbody tr th:only-of-type {\n",
       "        vertical-align: middle;\n",
       "    }\n",
       "\n",
       "    .dataframe tbody tr th {\n",
       "        vertical-align: top;\n",
       "    }\n",
       "\n",
       "    .dataframe thead th {\n",
       "        text-align: right;\n",
       "    }\n",
       "</style>\n",
       "<table border=\"1\" class=\"dataframe\">\n",
       "  <thead>\n",
       "    <tr style=\"text-align: right;\">\n",
       "      <th></th>\n",
       "      <th>time</th>\n",
       "      <th>day_of_week</th>\n",
       "      <th>age_band_of_driver</th>\n",
       "      <th>sex_of_driver</th>\n",
       "      <th>educational_level</th>\n",
       "      <th>vehicle_driver_relation</th>\n",
       "      <th>driving_experience</th>\n",
       "      <th>type_of_vehicle</th>\n",
       "      <th>owner_of_vehicle</th>\n",
       "      <th>service_year_of_vehicle</th>\n",
       "      <th>defect_of_vehicle</th>\n",
       "      <th>area_accident_occured</th>\n",
       "      <th>lanes_or_medians</th>\n",
       "      <th>road_allignment</th>\n",
       "      <th>types_of_junction</th>\n",
       "      <th>road_surface_type</th>\n",
       "      <th>road_surface_conditions</th>\n",
       "      <th>light_conditions</th>\n",
       "      <th>weather_conditions</th>\n",
       "      <th>type_of_collision</th>\n",
       "      <th>number_of_vehicles_involved</th>\n",
       "      <th>number_of_casualties</th>\n",
       "      <th>vehicle_movement</th>\n",
       "      <th>casualty_class</th>\n",
       "      <th>sex_of_casualty</th>\n",
       "      <th>age_band_of_casualty</th>\n",
       "      <th>casualty_severity</th>\n",
       "      <th>work_of_casuality</th>\n",
       "      <th>fitness_of_casuality</th>\n",
       "      <th>pedestrian_movement</th>\n",
       "      <th>cause_of_accident</th>\n",
       "      <th>accident_severity</th>\n",
       "    </tr>\n",
       "  </thead>\n",
       "  <tbody>\n",
       "    <tr>\n",
       "      <th>Null Frequency</th>\n",
       "      <td>0.0</td>\n",
       "      <td>0.0</td>\n",
       "      <td>0.0</td>\n",
       "      <td>0.0</td>\n",
       "      <td>741.00</td>\n",
       "      <td>579.0</td>\n",
       "      <td>829.00</td>\n",
       "      <td>950.00</td>\n",
       "      <td>482.00</td>\n",
       "      <td>3928.00</td>\n",
       "      <td>4427.00</td>\n",
       "      <td>239.00</td>\n",
       "      <td>385.00</td>\n",
       "      <td>142.00</td>\n",
       "      <td>887.0</td>\n",
       "      <td>172.0</td>\n",
       "      <td>0.0</td>\n",
       "      <td>0.0</td>\n",
       "      <td>0.0</td>\n",
       "      <td>155.00</td>\n",
       "      <td>0.0</td>\n",
       "      <td>0.0</td>\n",
       "      <td>308.0</td>\n",
       "      <td>0.0</td>\n",
       "      <td>0.0</td>\n",
       "      <td>0.0</td>\n",
       "      <td>0.0</td>\n",
       "      <td>3198.00</td>\n",
       "      <td>2635.00</td>\n",
       "      <td>0.0</td>\n",
       "      <td>0.0</td>\n",
       "      <td>0.0</td>\n",
       "    </tr>\n",
       "    <tr>\n",
       "      <th>Missing %age</th>\n",
       "      <td>0.0</td>\n",
       "      <td>0.0</td>\n",
       "      <td>0.0</td>\n",
       "      <td>0.0</td>\n",
       "      <td>6.02</td>\n",
       "      <td>4.7</td>\n",
       "      <td>6.73</td>\n",
       "      <td>7.71</td>\n",
       "      <td>3.91</td>\n",
       "      <td>31.89</td>\n",
       "      <td>35.95</td>\n",
       "      <td>1.94</td>\n",
       "      <td>3.13</td>\n",
       "      <td>1.15</td>\n",
       "      <td>7.2</td>\n",
       "      <td>1.4</td>\n",
       "      <td>0.0</td>\n",
       "      <td>0.0</td>\n",
       "      <td>0.0</td>\n",
       "      <td>1.26</td>\n",
       "      <td>0.0</td>\n",
       "      <td>0.0</td>\n",
       "      <td>2.5</td>\n",
       "      <td>0.0</td>\n",
       "      <td>0.0</td>\n",
       "      <td>0.0</td>\n",
       "      <td>0.0</td>\n",
       "      <td>25.97</td>\n",
       "      <td>21.39</td>\n",
       "      <td>0.0</td>\n",
       "      <td>0.0</td>\n",
       "      <td>0.0</td>\n",
       "    </tr>\n",
       "  </tbody>\n",
       "</table>\n",
       "</div>"
      ],
      "text/plain": [
       "                time  day_of_week  age_band_of_driver  sex_of_driver  \\\n",
       "Null Frequency   0.0          0.0                 0.0            0.0   \n",
       "Missing %age     0.0          0.0                 0.0            0.0   \n",
       "\n",
       "                educational_level  vehicle_driver_relation  \\\n",
       "Null Frequency             741.00                    579.0   \n",
       "Missing %age                 6.02                      4.7   \n",
       "\n",
       "                driving_experience  type_of_vehicle  owner_of_vehicle  \\\n",
       "Null Frequency              829.00           950.00            482.00   \n",
       "Missing %age                  6.73             7.71              3.91   \n",
       "\n",
       "                service_year_of_vehicle  defect_of_vehicle  \\\n",
       "Null Frequency                  3928.00            4427.00   \n",
       "Missing %age                      31.89              35.95   \n",
       "\n",
       "                area_accident_occured  lanes_or_medians  road_allignment  \\\n",
       "Null Frequency                 239.00            385.00           142.00   \n",
       "Missing %age                     1.94              3.13             1.15   \n",
       "\n",
       "                types_of_junction  road_surface_type  road_surface_conditions  \\\n",
       "Null Frequency              887.0              172.0                      0.0   \n",
       "Missing %age                  7.2                1.4                      0.0   \n",
       "\n",
       "                light_conditions  weather_conditions  type_of_collision  \\\n",
       "Null Frequency               0.0                 0.0             155.00   \n",
       "Missing %age                 0.0                 0.0               1.26   \n",
       "\n",
       "                number_of_vehicles_involved  number_of_casualties  \\\n",
       "Null Frequency                          0.0                   0.0   \n",
       "Missing %age                            0.0                   0.0   \n",
       "\n",
       "                vehicle_movement  casualty_class  sex_of_casualty  \\\n",
       "Null Frequency             308.0             0.0              0.0   \n",
       "Missing %age                 2.5             0.0              0.0   \n",
       "\n",
       "                age_band_of_casualty  casualty_severity  work_of_casuality  \\\n",
       "Null Frequency                   0.0                0.0            3198.00   \n",
       "Missing %age                     0.0                0.0              25.97   \n",
       "\n",
       "                fitness_of_casuality  pedestrian_movement  cause_of_accident  \\\n",
       "Null Frequency               2635.00                  0.0                0.0   \n",
       "Missing %age                   21.39                  0.0                0.0   \n",
       "\n",
       "                accident_severity  \n",
       "Null Frequency                0.0  \n",
       "Missing %age                  0.0  "
      ]
     },
     "execution_count": 26,
     "metadata": {},
     "output_type": "execute_result"
    }
   ],
   "source": [
    "null_frame = pd.DataFrame(index = df.columns.values)\n",
    "null_frame['Null Frequency'] = df.isnull().sum().values\n",
    "percent = df.isnull().sum().values/df.shape[0]\n",
    "null_frame['Missing %age'] = np.round(percent, decimals = 4) * 100\n",
    "null_frame.transpose()"
   ]
  },
  {
   "cell_type": "markdown",
   "id": "66ba0b19",
   "metadata": {},
   "source": [
    "**Observations:**\n",
    "- Total % for missing values in state, longitude and latitude column is around 1 % and we fill the na values."
   ]
  },
  {
   "cell_type": "code",
   "execution_count": 27,
   "id": "44b2a487",
   "metadata": {
    "ExecuteTime": {
     "end_time": "2022-03-13T11:58:16.784071Z",
     "start_time": "2022-03-13T11:58:16.745424Z"
    }
   },
   "outputs": [
    {
     "data": {
      "text/plain": [
       "array([nan, 'Public (12 seats)', 'Pick up upto 10Q', 'Lorry (11?40Q)',\n",
       "       'Stationwagen', 'Automobile', 'Bajaj', 'Other', 'Long lorry',\n",
       "       'Lorry (41?100Q)', 'Ridden horse', 'Public (13?45 seats)',\n",
       "       'Motorcycle', 'Public (> 45 seats)', 'Taxi', 'Turbo',\n",
       "       'Special vehicle', 'Bicycle'], dtype=object)"
      ]
     },
     "execution_count": 27,
     "metadata": {},
     "output_type": "execute_result"
    }
   ],
   "source": [
    "df[df['defect_of_vehicle'].isnull()]['type_of_vehicle'].unique()"
   ]
  },
  {
   "cell_type": "code",
   "execution_count": 28,
   "id": "69f070e7",
   "metadata": {
    "ExecuteTime": {
     "end_time": "2022-03-13T11:58:17.019994Z",
     "start_time": "2022-03-13T11:58:16.788322Z"
    }
   },
   "outputs": [
    {
     "data": {
      "text/html": [
       "<div>\n",
       "<style scoped>\n",
       "    .dataframe tbody tr th:only-of-type {\n",
       "        vertical-align: middle;\n",
       "    }\n",
       "\n",
       "    .dataframe tbody tr th {\n",
       "        vertical-align: top;\n",
       "    }\n",
       "\n",
       "    .dataframe thead th {\n",
       "        text-align: right;\n",
       "    }\n",
       "</style>\n",
       "<table border=\"1\" class=\"dataframe\">\n",
       "  <thead>\n",
       "    <tr style=\"text-align: right;\">\n",
       "      <th></th>\n",
       "      <th>Feature</th>\n",
       "      <th>Unique_values</th>\n",
       "      <th>Percentage of missing values</th>\n",
       "      <th>Percentage of values in the biggest category</th>\n",
       "      <th>type</th>\n",
       "    </tr>\n",
       "  </thead>\n",
       "  <tbody>\n",
       "    <tr>\n",
       "      <th>10</th>\n",
       "      <td>defect_of_vehicle</td>\n",
       "      <td>3</td>\n",
       "      <td>35.945112</td>\n",
       "      <td>63.145502</td>\n",
       "      <td>object</td>\n",
       "    </tr>\n",
       "    <tr>\n",
       "      <th>9</th>\n",
       "      <td>service_year_of_vehicle</td>\n",
       "      <td>6</td>\n",
       "      <td>31.893472</td>\n",
       "      <td>31.893472</td>\n",
       "      <td>object</td>\n",
       "    </tr>\n",
       "    <tr>\n",
       "      <th>27</th>\n",
       "      <td>work_of_casuality</td>\n",
       "      <td>7</td>\n",
       "      <td>25.966223</td>\n",
       "      <td>47.929523</td>\n",
       "      <td>object</td>\n",
       "    </tr>\n",
       "    <tr>\n",
       "      <th>28</th>\n",
       "      <td>fitness_of_casuality</td>\n",
       "      <td>5</td>\n",
       "      <td>21.394933</td>\n",
       "      <td>78.012342</td>\n",
       "      <td>object</td>\n",
       "    </tr>\n",
       "    <tr>\n",
       "      <th>7</th>\n",
       "      <td>type_of_vehicle</td>\n",
       "      <td>17</td>\n",
       "      <td>7.713543</td>\n",
       "      <td>26.023059</td>\n",
       "      <td>object</td>\n",
       "    </tr>\n",
       "    <tr>\n",
       "      <th>14</th>\n",
       "      <td>types_of_junction</td>\n",
       "      <td>8</td>\n",
       "      <td>7.202014</td>\n",
       "      <td>36.886976</td>\n",
       "      <td>object</td>\n",
       "    </tr>\n",
       "    <tr>\n",
       "      <th>6</th>\n",
       "      <td>driving_experience</td>\n",
       "      <td>7</td>\n",
       "      <td>6.731082</td>\n",
       "      <td>27.305943</td>\n",
       "      <td>object</td>\n",
       "    </tr>\n",
       "    <tr>\n",
       "      <th>4</th>\n",
       "      <td>educational_level</td>\n",
       "      <td>7</td>\n",
       "      <td>6.016564</td>\n",
       "      <td>61.862618</td>\n",
       "      <td>object</td>\n",
       "    </tr>\n",
       "    <tr>\n",
       "      <th>5</th>\n",
       "      <td>vehicle_driver_relation</td>\n",
       "      <td>4</td>\n",
       "      <td>4.701202</td>\n",
       "      <td>78.166613</td>\n",
       "      <td>object</td>\n",
       "    </tr>\n",
       "    <tr>\n",
       "      <th>8</th>\n",
       "      <td>owner_of_vehicle</td>\n",
       "      <td>4</td>\n",
       "      <td>3.913608</td>\n",
       "      <td>84.922053</td>\n",
       "      <td>object</td>\n",
       "    </tr>\n",
       "    <tr>\n",
       "      <th>12</th>\n",
       "      <td>lanes_or_medians</td>\n",
       "      <td>7</td>\n",
       "      <td>3.126015</td>\n",
       "      <td>35.815200</td>\n",
       "      <td>object</td>\n",
       "    </tr>\n",
       "    <tr>\n",
       "      <th>22</th>\n",
       "      <td>vehicle_movement</td>\n",
       "      <td>13</td>\n",
       "      <td>2.500812</td>\n",
       "      <td>66.239039</td>\n",
       "      <td>object</td>\n",
       "    </tr>\n",
       "    <tr>\n",
       "      <th>11</th>\n",
       "      <td>area_accident_occured</td>\n",
       "      <td>14</td>\n",
       "      <td>1.940565</td>\n",
       "      <td>31.008444</td>\n",
       "      <td>object</td>\n",
       "    </tr>\n",
       "    <tr>\n",
       "      <th>15</th>\n",
       "      <td>road_surface_type</td>\n",
       "      <td>5</td>\n",
       "      <td>1.396557</td>\n",
       "      <td>91.718090</td>\n",
       "      <td>object</td>\n",
       "    </tr>\n",
       "    <tr>\n",
       "      <th>19</th>\n",
       "      <td>type_of_collision</td>\n",
       "      <td>10</td>\n",
       "      <td>1.258525</td>\n",
       "      <td>71.240663</td>\n",
       "      <td>object</td>\n",
       "    </tr>\n",
       "    <tr>\n",
       "      <th>13</th>\n",
       "      <td>road_allignment</td>\n",
       "      <td>9</td>\n",
       "      <td>1.152972</td>\n",
       "      <td>84.922053</td>\n",
       "      <td>object</td>\n",
       "    </tr>\n",
       "    <tr>\n",
       "      <th>23</th>\n",
       "      <td>casualty_class</td>\n",
       "      <td>4</td>\n",
       "      <td>0.000000</td>\n",
       "      <td>40.142904</td>\n",
       "      <td>object</td>\n",
       "    </tr>\n",
       "    <tr>\n",
       "      <th>29</th>\n",
       "      <td>pedestrian_movement</td>\n",
       "      <td>9</td>\n",
       "      <td>0.000000</td>\n",
       "      <td>92.481325</td>\n",
       "      <td>object</td>\n",
       "    </tr>\n",
       "    <tr>\n",
       "      <th>30</th>\n",
       "      <td>cause_of_accident</td>\n",
       "      <td>20</td>\n",
       "      <td>0.000000</td>\n",
       "      <td>18.374472</td>\n",
       "      <td>object</td>\n",
       "    </tr>\n",
       "    <tr>\n",
       "      <th>26</th>\n",
       "      <td>casualty_severity</td>\n",
       "      <td>4</td>\n",
       "      <td>0.000000</td>\n",
       "      <td>57.453719</td>\n",
       "      <td>object</td>\n",
       "    </tr>\n",
       "    <tr>\n",
       "      <th>25</th>\n",
       "      <td>age_band_of_casualty</td>\n",
       "      <td>6</td>\n",
       "      <td>0.000000</td>\n",
       "      <td>36.075024</td>\n",
       "      <td>object</td>\n",
       "    </tr>\n",
       "    <tr>\n",
       "      <th>24</th>\n",
       "      <td>sex_of_casualty</td>\n",
       "      <td>3</td>\n",
       "      <td>0.000000</td>\n",
       "      <td>42.651835</td>\n",
       "      <td>object</td>\n",
       "    </tr>\n",
       "    <tr>\n",
       "      <th>0</th>\n",
       "      <td>time</td>\n",
       "      <td>1074</td>\n",
       "      <td>0.000000</td>\n",
       "      <td>0.974342</td>\n",
       "      <td>object</td>\n",
       "    </tr>\n",
       "    <tr>\n",
       "      <th>16</th>\n",
       "      <td>road_surface_conditions</td>\n",
       "      <td>4</td>\n",
       "      <td>0.000000</td>\n",
       "      <td>75.836310</td>\n",
       "      <td>object</td>\n",
       "    </tr>\n",
       "    <tr>\n",
       "      <th>21</th>\n",
       "      <td>number_of_casualties</td>\n",
       "      <td>8</td>\n",
       "      <td>0.000000</td>\n",
       "      <td>68.179604</td>\n",
       "      <td>int64</td>\n",
       "    </tr>\n",
       "    <tr>\n",
       "      <th>20</th>\n",
       "      <td>number_of_vehicles_involved</td>\n",
       "      <td>6</td>\n",
       "      <td>0.000000</td>\n",
       "      <td>67.716791</td>\n",
       "      <td>int64</td>\n",
       "    </tr>\n",
       "    <tr>\n",
       "      <th>18</th>\n",
       "      <td>weather_conditions</td>\n",
       "      <td>9</td>\n",
       "      <td>0.000000</td>\n",
       "      <td>81.706723</td>\n",
       "      <td>object</td>\n",
       "    </tr>\n",
       "    <tr>\n",
       "      <th>17</th>\n",
       "      <td>light_conditions</td>\n",
       "      <td>4</td>\n",
       "      <td>0.000000</td>\n",
       "      <td>71.435531</td>\n",
       "      <td>object</td>\n",
       "    </tr>\n",
       "    <tr>\n",
       "      <th>1</th>\n",
       "      <td>day_of_week</td>\n",
       "      <td>7</td>\n",
       "      <td>0.000000</td>\n",
       "      <td>16.571939</td>\n",
       "      <td>object</td>\n",
       "    </tr>\n",
       "    <tr>\n",
       "      <th>3</th>\n",
       "      <td>sex_of_driver</td>\n",
       "      <td>3</td>\n",
       "      <td>0.000000</td>\n",
       "      <td>92.862943</td>\n",
       "      <td>object</td>\n",
       "    </tr>\n",
       "    <tr>\n",
       "      <th>2</th>\n",
       "      <td>age_band_of_driver</td>\n",
       "      <td>5</td>\n",
       "      <td>0.000000</td>\n",
       "      <td>34.678467</td>\n",
       "      <td>object</td>\n",
       "    </tr>\n",
       "    <tr>\n",
       "      <th>31</th>\n",
       "      <td>accident_severity</td>\n",
       "      <td>3</td>\n",
       "      <td>0.000000</td>\n",
       "      <td>84.564794</td>\n",
       "      <td>object</td>\n",
       "    </tr>\n",
       "  </tbody>\n",
       "</table>\n",
       "</div>"
      ],
      "text/plain": [
       "                        Feature  Unique_values  Percentage of missing values  \\\n",
       "10            defect_of_vehicle              3                     35.945112   \n",
       "9       service_year_of_vehicle              6                     31.893472   \n",
       "27            work_of_casuality              7                     25.966223   \n",
       "28         fitness_of_casuality              5                     21.394933   \n",
       "7               type_of_vehicle             17                      7.713543   \n",
       "14            types_of_junction              8                      7.202014   \n",
       "6            driving_experience              7                      6.731082   \n",
       "4             educational_level              7                      6.016564   \n",
       "5       vehicle_driver_relation              4                      4.701202   \n",
       "8              owner_of_vehicle              4                      3.913608   \n",
       "12             lanes_or_medians              7                      3.126015   \n",
       "22             vehicle_movement             13                      2.500812   \n",
       "11        area_accident_occured             14                      1.940565   \n",
       "15            road_surface_type              5                      1.396557   \n",
       "19            type_of_collision             10                      1.258525   \n",
       "13              road_allignment              9                      1.152972   \n",
       "23               casualty_class              4                      0.000000   \n",
       "29          pedestrian_movement              9                      0.000000   \n",
       "30            cause_of_accident             20                      0.000000   \n",
       "26            casualty_severity              4                      0.000000   \n",
       "25         age_band_of_casualty              6                      0.000000   \n",
       "24              sex_of_casualty              3                      0.000000   \n",
       "0                          time           1074                      0.000000   \n",
       "16      road_surface_conditions              4                      0.000000   \n",
       "21         number_of_casualties              8                      0.000000   \n",
       "20  number_of_vehicles_involved              6                      0.000000   \n",
       "18           weather_conditions              9                      0.000000   \n",
       "17             light_conditions              4                      0.000000   \n",
       "1                   day_of_week              7                      0.000000   \n",
       "3                 sex_of_driver              3                      0.000000   \n",
       "2            age_band_of_driver              5                      0.000000   \n",
       "31            accident_severity              3                      0.000000   \n",
       "\n",
       "    Percentage of values in the biggest category    type  \n",
       "10                                     63.145502  object  \n",
       "9                                      31.893472  object  \n",
       "27                                     47.929523  object  \n",
       "28                                     78.012342  object  \n",
       "7                                      26.023059  object  \n",
       "14                                     36.886976  object  \n",
       "6                                      27.305943  object  \n",
       "4                                      61.862618  object  \n",
       "5                                      78.166613  object  \n",
       "8                                      84.922053  object  \n",
       "12                                     35.815200  object  \n",
       "22                                     66.239039  object  \n",
       "11                                     31.008444  object  \n",
       "15                                     91.718090  object  \n",
       "19                                     71.240663  object  \n",
       "13                                     84.922053  object  \n",
       "23                                     40.142904  object  \n",
       "29                                     92.481325  object  \n",
       "30                                     18.374472  object  \n",
       "26                                     57.453719  object  \n",
       "25                                     36.075024  object  \n",
       "24                                     42.651835  object  \n",
       "0                                       0.974342  object  \n",
       "16                                     75.836310  object  \n",
       "21                                     68.179604   int64  \n",
       "20                                     67.716791   int64  \n",
       "18                                     81.706723  object  \n",
       "17                                     71.435531  object  \n",
       "1                                      16.571939  object  \n",
       "3                                      92.862943  object  \n",
       "2                                      34.678467  object  \n",
       "31                                     84.564794  object  "
      ]
     },
     "execution_count": 28,
     "metadata": {},
     "output_type": "execute_result"
    }
   ],
   "source": [
    "# Stats of dataframe\n",
    "stats    = []\n",
    "for col in df.columns:\n",
    "    stats.append((col, df[col].nunique(), df[col].isnull().sum() * 100 / df.shape[0], df[col].value_counts(normalize=True, dropna=False).values[0] * 100, df[col].dtype))\n",
    "    \n",
    "stats_df = pd.DataFrame(stats, columns=['Feature', 'Unique_values', 'Percentage of missing values', 'Percentage of values in the biggest category', 'type'])\n",
    "stats_df.sort_values('Percentage of missing values', ascending=False)"
   ]
  },
  {
   "cell_type": "markdown",
   "id": "81463b63",
   "metadata": {},
   "source": [
    "**Observations:**\n",
    "\n",
    "-  There are no missing values in the events dataset. Now lets check for redundant data, if any."
   ]
  },
  {
   "cell_type": "code",
   "execution_count": 29,
   "id": "d6d9e9bb",
   "metadata": {
    "ExecuteTime": {
     "end_time": "2022-03-13T11:58:17.082336Z",
     "start_time": "2022-03-13T11:58:17.023956Z"
    }
   },
   "outputs": [
    {
     "name": "stdout",
     "output_type": "stream",
     "text": [
      "col is number_of_vehicles_involved\n",
      "col is number_of_casualties\n"
     ]
    }
   ],
   "source": [
    "for c in df.select_dtypes(exclude=['object', 'datetime64[ns]']):\n",
    "    print(\"col is\",c)\n",
    "    if df[c].isna().sum() != 0:\n",
    "        #print(c)\n",
    "        med_c = df[c].median()\n",
    "        print(med_c)\n",
    "        df[c]=df[c].replace(to_replace=np.nan, value=med_c)\n",
    "        decimals = 2    \n",
    "        df[c] = df[c].apply(lambda x: round(x, decimals))\n",
    "    else:\n",
    "        decimals = 2    \n",
    "        df[c] = df[c].apply(lambda x: round(x, decimals))"
   ]
  },
  {
   "cell_type": "code",
   "execution_count": 30,
   "id": "5adfcf12",
   "metadata": {
    "ExecuteTime": {
     "end_time": "2022-03-13T11:58:17.409039Z",
     "start_time": "2022-03-13T11:58:17.087248Z"
    }
   },
   "outputs": [],
   "source": [
    "for co in df.select_dtypes(include=['object']):\n",
    "    #print(\"col is\",co)\n",
    "    if df[co].isna().sum() != 0:\n",
    "        #print(\"insideif loop\", co)\n",
    "        med_co = df[co].mode()[0]\n",
    "        #print(med_co)\n",
    "        df[co]=df[co].replace(to_replace=np.nan, value=med_co) "
   ]
  },
  {
   "cell_type": "code",
   "execution_count": 31,
   "id": "9e019293",
   "metadata": {
    "ExecuteTime": {
     "end_time": "2022-03-13T11:58:17.532844Z",
     "start_time": "2022-03-13T11:58:17.414126Z"
    }
   },
   "outputs": [
    {
     "data": {
      "text/plain": [
       "time                           0\n",
       "day_of_week                    0\n",
       "age_band_of_driver             0\n",
       "sex_of_driver                  0\n",
       "educational_level              0\n",
       "vehicle_driver_relation        0\n",
       "driving_experience             0\n",
       "type_of_vehicle                0\n",
       "owner_of_vehicle               0\n",
       "service_year_of_vehicle        0\n",
       "defect_of_vehicle              0\n",
       "area_accident_occured          0\n",
       "lanes_or_medians               0\n",
       "road_allignment                0\n",
       "types_of_junction              0\n",
       "road_surface_type              0\n",
       "road_surface_conditions        0\n",
       "light_conditions               0\n",
       "weather_conditions             0\n",
       "type_of_collision              0\n",
       "number_of_vehicles_involved    0\n",
       "number_of_casualties           0\n",
       "vehicle_movement               0\n",
       "casualty_class                 0\n",
       "sex_of_casualty                0\n",
       "age_band_of_casualty           0\n",
       "casualty_severity              0\n",
       "work_of_casuality              0\n",
       "fitness_of_casuality           0\n",
       "pedestrian_movement            0\n",
       "cause_of_accident              0\n",
       "accident_severity              0\n",
       "dtype: int64"
      ]
     },
     "execution_count": 31,
     "metadata": {},
     "output_type": "execute_result"
    }
   ],
   "source": [
    "df.isna().sum()"
   ]
  },
  {
   "cell_type": "markdown",
   "id": "40c579c0",
   "metadata": {},
   "source": [
    "<a name = Section53></a>\n",
    "### **5.3 Handling of Redundant Data**\n",
    "\n",
    "- In this section, we will identify redundant data and check the proportion of it and take appropriate measures."
   ]
  },
  {
   "cell_type": "code",
   "execution_count": 32,
   "id": "ffd1774b",
   "metadata": {
    "ExecuteTime": {
     "end_time": "2022-03-13T11:58:17.751014Z",
     "start_time": "2022-03-13T11:58:17.536948Z"
    }
   },
   "outputs": [
    {
     "name": "stdout",
     "output_type": "stream",
     "text": [
      "Data have  Duplicate Rows? False\n"
     ]
    }
   ],
   "source": [
    "#check if any duplicate row\n",
    "print('Data have  Duplicate Rows?', df.duplicated().any())"
   ]
  },
  {
   "cell_type": "code",
   "execution_count": 33,
   "id": "0e960ca5",
   "metadata": {
    "ExecuteTime": {
     "end_time": "2022-03-13T11:58:17.921633Z",
     "start_time": "2022-03-13T11:58:17.755809Z"
    }
   },
   "outputs": [
    {
     "data": {
      "text/plain": [
       "0"
      ]
     },
     "execution_count": 33,
     "metadata": {},
     "output_type": "execute_result"
    }
   ],
   "source": [
    "#To get the total count of duplicate values.\n",
    "df.duplicated().sum()"
   ]
  },
  {
   "cell_type": "code",
   "execution_count": 34,
   "id": "bc5b4219",
   "metadata": {
    "ExecuteTime": {
     "end_time": "2022-03-13T11:58:18.046084Z",
     "start_time": "2022-03-13T11:58:17.926498Z"
    }
   },
   "outputs": [],
   "source": [
    "# We will start by first removing the duplicate rows if there are any\n",
    "if df.duplicated().any() : \n",
    "    df.drop_duplicates(keep=\"first\", inplace=True)"
   ]
  },
  {
   "cell_type": "markdown",
   "id": "055e4453",
   "metadata": {},
   "source": [
    "<a name = Section54></a>\n",
    "### **5.4 Handling of Inconsistent Data**\n",
    "\n",
    "- In this section, we will **identify inconsistency** in data and and then **take appropriate measures**.\n",
    "\n",
    "- Previously, we observed that **Timestamp** feature was **incorrectly indentified** as Object, so, we will rectify it.\n",
    "\n",
    "- Additionally, we can observe that some features are having language of different format such as brand and model."
   ]
  },
  {
   "cell_type": "code",
   "execution_count": 35,
   "id": "657cca11",
   "metadata": {
    "ExecuteTime": {
     "end_time": "2022-03-13T11:58:18.124952Z",
     "start_time": "2022-03-13T11:58:18.050261Z"
    }
   },
   "outputs": [
    {
     "data": {
      "text/plain": [
       "array(['17:02:00', '1:06:00', '14:15:00', ..., '7:24:00', '19:18:00',\n",
       "       '2:47:00'], dtype=object)"
      ]
     },
     "execution_count": 35,
     "metadata": {},
     "output_type": "execute_result"
    }
   ],
   "source": [
    "df['time'].unique()"
   ]
  },
  {
   "cell_type": "code",
   "execution_count": 36,
   "id": "610247ac",
   "metadata": {
    "ExecuteTime": {
     "end_time": "2022-03-13T11:58:18.557197Z",
     "start_time": "2022-03-13T11:58:18.130657Z"
    }
   },
   "outputs": [],
   "source": [
    "df['time'] = pd.to_datetime(df['time'])\n",
    "#df['year'] = df['Time'].dt.year\n",
    "#df['month'] = df['Time'].dt.month\n",
    "#df['day'] = df['Time'].dt.day\n",
    "df['hour'] = df['time'].dt.hour\n",
    "df['min'] = df['time'].dt.minute\n",
    "df['sec'] = df['time'].dt.second"
   ]
  },
  {
   "cell_type": "code",
   "execution_count": 37,
   "id": "0b6c4596",
   "metadata": {
    "ExecuteTime": {
     "end_time": "2022-03-13T11:58:18.587925Z",
     "start_time": "2022-03-13T11:58:18.561670Z"
    }
   },
   "outputs": [
    {
     "name": "stdout",
     "output_type": "stream",
     "text": [
      "Distinct responses for accident_severity (Frequency): 3\n",
      "Distinct responses for accident_severity: {'Fatal injury', 'Slight Injury', 'Serious Injury'}\n"
     ]
    }
   ],
   "source": [
    "# Learn more about the variable brand.\n",
    "print(\"Distinct responses for accident_severity (Frequency):\", len(set(df['accident_severity'])))\n",
    "print(\"Distinct responses for accident_severity:\", set(df['accident_severity']))  "
   ]
  },
  {
   "cell_type": "markdown",
   "id": "7eb13dc2",
   "metadata": {},
   "source": [
    "**Observations:**\n",
    "\n",
    "-  There are no 3 type of accident severity"
   ]
  },
  {
   "cell_type": "code",
   "execution_count": 38,
   "id": "e84ef12c",
   "metadata": {
    "ExecuteTime": {
     "end_time": "2022-03-13T11:58:18.774162Z",
     "start_time": "2022-03-13T11:58:18.602409Z"
    }
   },
   "outputs": [
    {
     "data": {
      "text/plain": [
       "0             Automobile\n",
       "1    Public_(>_45_seats)\n",
       "2        Lorry_(41?100Q)\n",
       "3    Public_(>_45_seats)\n",
       "4             Automobile\n",
       "Name: type_of_vehicle, dtype: object"
      ]
     },
     "execution_count": 38,
     "metadata": {},
     "output_type": "execute_result"
    }
   ],
   "source": [
    "df.type_of_vehicle =  df.type_of_vehicle.replace([' ', '?', \"\", '-','|','#','@','!'], value='_')\n",
    "df.type_of_vehicle =  df.type_of_vehicle.str.replace(' ', '_')\n",
    "df.type_of_vehicle.head()"
   ]
  },
  {
   "cell_type": "code",
   "execution_count": 39,
   "id": "abb51859",
   "metadata": {
    "ExecuteTime": {
     "end_time": "2022-03-13T11:58:19.382428Z",
     "start_time": "2022-03-13T11:58:18.785130Z"
    }
   },
   "outputs": [
    {
     "data": {
      "text/plain": [
       "274844"
      ]
     },
     "execution_count": 39,
     "metadata": {},
     "output_type": "execute_result"
    }
   ],
   "source": [
    "gc.collect()"
   ]
  },
  {
   "cell_type": "code",
   "execution_count": 40,
   "id": "4c5c86b8",
   "metadata": {
    "ExecuteTime": {
     "end_time": "2022-03-13T11:58:19.540047Z",
     "start_time": "2022-03-13T11:58:19.387021Z"
    }
   },
   "outputs": [
    {
     "name": "stdout",
     "output_type": "stream",
     "text": [
      "Categorical cols of dataset =  ['day_of_week', 'age_band_of_driver', 'sex_of_driver', 'educational_level', 'vehicle_driver_relation', 'driving_experience', 'type_of_vehicle', 'owner_of_vehicle', 'service_year_of_vehicle', 'defect_of_vehicle', 'area_accident_occured', 'lanes_or_medians', 'road_allignment', 'types_of_junction', 'road_surface_type', 'road_surface_conditions', 'light_conditions', 'weather_conditions', 'type_of_collision', 'vehicle_movement', 'casualty_class', 'sex_of_casualty', 'age_band_of_casualty', 'casualty_severity', 'work_of_casuality', 'fitness_of_casuality', 'pedestrian_movement', 'cause_of_accident', 'accident_severity'] . No of categorical features =  29\n",
      "DateTime cols of dataset =  ['time'] . No of datetime features =  1\n",
      "Numerical cols of dataset =  ['number_of_vehicles_involved', 'number_of_casualties', 'hour', 'min', 'sec'] . No of numerical features =  5\n"
     ]
    }
   ],
   "source": [
    "# Get list of categorical variables,date  and numerical variables for the data set\n",
    "catcol=[col for col in df.columns if df[col].dtype == \"object\"]\n",
    "print(\"Categorical cols of dataset = \", catcol, \". No of categorical features = \", len(catcol))\n",
    "datecol=[col for col in df.columns if df[col].dtype == \"datetime64[ns]\"]\n",
    "print(\"DateTime cols of dataset = \", datecol, \". No of datetime features = \", len(datecol))\n",
    "numcol = [col for col in df.columns if (df[col].dtype != \"object\") & (df[col].dtype != \"datetime64[ns]\")]\n",
    "print(\"Numerical cols of dataset = \", numcol, \". No of numerical features = \", len(numcol))"
   ]
  },
  {
   "cell_type": "code",
   "execution_count": 41,
   "id": "43d9f9fa",
   "metadata": {
    "ExecuteTime": {
     "end_time": "2022-03-13T11:58:19.710239Z",
     "start_time": "2022-03-13T11:58:19.544249Z"
    }
   },
   "outputs": [
    {
     "data": {
      "text/plain": [
       "1548"
      ]
     },
     "execution_count": 41,
     "metadata": {},
     "output_type": "execute_result"
    }
   ],
   "source": [
    "len(df[df.age_band_of_driver==\"Unknown\"])"
   ]
  },
  {
   "cell_type": "code",
   "execution_count": 42,
   "id": "66a94771",
   "metadata": {
    "ExecuteTime": {
     "end_time": "2022-03-13T11:58:19.787962Z",
     "start_time": "2022-03-13T11:58:19.716691Z"
    }
   },
   "outputs": [
    {
     "data": {
      "text/plain": [
       "18-30       4271\n",
       "31-50       4087\n",
       "Over 51     1585\n",
       "Unknown     1548\n",
       "Under 18     825\n",
       "Name: age_band_of_driver, dtype: int64"
      ]
     },
     "execution_count": 42,
     "metadata": {},
     "output_type": "execute_result"
    }
   ],
   "source": [
    "df.age_band_of_driver.value_counts()"
   ]
  },
  {
   "cell_type": "code",
   "execution_count": 43,
   "id": "55a43b96",
   "metadata": {
    "ExecuteTime": {
     "end_time": "2022-03-13T11:58:19.942246Z",
     "start_time": "2022-03-13T11:58:19.792277Z"
    }
   },
   "outputs": [
    {
     "data": {
      "text/plain": [
       "Male       1621\n",
       "Female      104\n",
       "Unknown      18\n",
       "Name: sex_of_driver, dtype: int64"
      ]
     },
     "execution_count": 43,
     "metadata": {},
     "output_type": "execute_result"
    }
   ],
   "source": [
    "df[df['accident_severity']==\"Serious Injury\"]['sex_of_driver'].value_counts()"
   ]
  },
  {
   "cell_type": "code",
   "execution_count": 44,
   "id": "3fe3c2a1",
   "metadata": {
    "ExecuteTime": {
     "end_time": "2022-03-13T11:58:20.266632Z",
     "start_time": "2022-03-13T11:58:19.949639Z"
    }
   },
   "outputs": [
    {
     "data": {
      "text/html": [
       "<div>\n",
       "<style scoped>\n",
       "    .dataframe tbody tr th:only-of-type {\n",
       "        vertical-align: middle;\n",
       "    }\n",
       "\n",
       "    .dataframe tbody tr th {\n",
       "        vertical-align: top;\n",
       "    }\n",
       "\n",
       "    .dataframe thead th {\n",
       "        text-align: right;\n",
       "    }\n",
       "</style>\n",
       "<table border=\"1\" class=\"dataframe\">\n",
       "  <thead>\n",
       "    <tr style=\"text-align: right;\">\n",
       "      <th>sex_of_driver</th>\n",
       "      <th>Female</th>\n",
       "      <th>Male</th>\n",
       "      <th>Unknown</th>\n",
       "    </tr>\n",
       "    <tr>\n",
       "      <th>accident_severity</th>\n",
       "      <th></th>\n",
       "      <th></th>\n",
       "      <th></th>\n",
       "    </tr>\n",
       "  </thead>\n",
       "  <tbody>\n",
       "    <tr>\n",
       "      <th>Fatal injury</th>\n",
       "      <td>5</td>\n",
       "      <td>152</td>\n",
       "      <td>1</td>\n",
       "    </tr>\n",
       "    <tr>\n",
       "      <th>Serious Injury</th>\n",
       "      <td>104</td>\n",
       "      <td>1621</td>\n",
       "      <td>18</td>\n",
       "    </tr>\n",
       "    <tr>\n",
       "      <th>Slight Injury</th>\n",
       "      <td>592</td>\n",
       "      <td>9664</td>\n",
       "      <td>159</td>\n",
       "    </tr>\n",
       "  </tbody>\n",
       "</table>\n",
       "</div>"
      ],
      "text/plain": [
       "sex_of_driver      Female  Male  Unknown\n",
       "accident_severity                       \n",
       "Fatal injury            5   152        1\n",
       "Serious Injury        104  1621       18\n",
       "Slight Injury         592  9664      159"
      ]
     },
     "execution_count": 44,
     "metadata": {},
     "output_type": "execute_result"
    }
   ],
   "source": [
    "pd.crosstab(index=df['accident_severity'], columns=df['sex_of_driver'])"
   ]
  },
  {
   "cell_type": "code",
   "execution_count": 45,
   "id": "3559f984",
   "metadata": {
    "ExecuteTime": {
     "end_time": "2022-03-13T11:58:22.046008Z",
     "start_time": "2022-03-13T11:58:20.271894Z"
    }
   },
   "outputs": [
    {
     "data": {
      "text/plain": [
       "<Figure size 432x288 with 0 Axes>"
      ]
     },
     "metadata": {},
     "output_type": "display_data"
    },
    {
     "data": {
      "image/png": "[encoded data removed]",
      "text/plain": [
       "<Figure size 1728x1440 with 6 Axes>"
      ]
     },
     "metadata": {
      "needs_background": "light"
     },
     "output_type": "display_data"
    }
   ],
   "source": [
    "# checking the distribution \n",
    "plt.suptitle('Hist plots for the data set',bbox={'facecolor': '0.8', 'pad': 8}, fontsize=20)\n",
    "df.hist(figsize=(24, 20), bins=8)\n",
    "plt.show()"
   ]
  },
  {
   "cell_type": "code",
   "execution_count": 46,
   "id": "34147222",
   "metadata": {
    "ExecuteTime": {
     "end_time": "2022-03-13T11:58:22.545486Z",
     "start_time": "2022-03-13T11:58:22.050856Z"
    }
   },
   "outputs": [
    {
     "data": {
      "image/png": "[encoded data removed]",
      "text/plain": [
       "<Figure size 720x576 with 1 Axes>"
      ]
     },
     "metadata": {
      "needs_background": "light"
     },
     "output_type": "display_data"
    }
   ],
   "source": [
    "fig = plt.figure(figsize=(10,8))\n",
    "sns.boxplot(data=df, y='number_of_vehicles_involved')\n",
    "fig.suptitle('Box plots for the data set', bbox={'facecolor': '0.8', 'pad': 8}, fontsize=14)\n",
    "plt.show()"
   ]
  },
  {
   "cell_type": "code",
   "execution_count": 47,
   "id": "88db19a1",
   "metadata": {
    "ExecuteTime": {
     "end_time": "2022-03-13T11:58:22.998453Z",
     "start_time": "2022-03-13T11:58:22.556519Z"
    }
   },
   "outputs": [
    {
     "data": {
      "image/png": "[encoded data removed]",
      "text/plain": [
       "<Figure size 720x576 with 1 Axes>"
      ]
     },
     "metadata": {
      "needs_background": "light"
     },
     "output_type": "display_data"
    }
   ],
   "source": [
    "fig = plt.figure(figsize=(10,8))\n",
    "sns.boxplot(data=df, y='number_of_vehicles_involved', x='number_of_casualties')\n",
    "fig.suptitle('Box plots for the no of casualties', bbox={'facecolor': '0.8', 'pad': 8}, fontsize=14)\n",
    "plt.show()"
   ]
  },
  {
   "cell_type": "markdown",
   "id": "c6d7a67c",
   "metadata": {},
   "source": [
    "<a name = Section55></a>\n",
    "### **5.5 Handling of Outliers**\n"
   ]
  },
  {
   "cell_type": "code",
   "execution_count": 48,
   "id": "20c2cd44",
   "metadata": {
    "ExecuteTime": {
     "end_time": "2022-03-13T11:58:24.187910Z",
     "start_time": "2022-03-13T11:58:23.003194Z"
    }
   },
   "outputs": [
    {
     "data": {
      "image/png": "[encoded data removed]",
      "text/plain": [
       "<Figure size 1728x1440 with 5 Axes>"
      ]
     },
     "metadata": {
      "needs_background": "light"
     },
     "output_type": "display_data"
    }
   ],
   "source": [
    "# for data\n",
    "numcol = ['number_of_vehicles_involved', 'number_of_casualties', 'hour', 'min', 'sec']\n",
    "fig = plt.figure(figsize=(24, 20))\n",
    "fig.suptitle('Box plots for the data set with outliers',bbox={'facecolor': '0.8', 'pad': 8}, fontsize=20)\n",
    "for predictor in numcol:\n",
    "    ctrain_o = numcol.index(predictor)\n",
    "    # print(cntss)\n",
    "    subsc = fig.add_subplot(3,3, ctrain_o+1)\n",
    "    subsc.set_xlabel(predictor.upper())\n",
    "    # sns.boxplot(y=trainstay[predictor])\n",
    "    df[predictor].plot.box(grid=True, layout=(4, 2), vert=False, sym='rs')\n",
    "    subsc.title.set_text('Boxplot Test: ' + str(predictor))"
   ]
  },
  {
   "cell_type": "code",
   "execution_count": 49,
   "id": "2b51d7d2",
   "metadata": {
    "ExecuteTime": {
     "end_time": "2022-03-13T11:58:24.327001Z",
     "start_time": "2022-03-13T11:58:24.192380Z"
    }
   },
   "outputs": [
    {
     "name": "stdout",
     "output_type": "stream",
     "text": [
      "number_of_vehicles_involved\n",
      "Percentiles: 25th(Q1)=2.000, 75th(Q3)=2.000, IQR=0.000\n",
      "Identified outliers: 3976\n",
      "number_of_casualties\n",
      "Percentiles: 25th(Q1)=1.000, 75th(Q3)=1.000, IQR=1.000\n",
      "Identified outliers: 720\n",
      "hour\n",
      "Percentiles: 25th(Q1)=10.000, 75th(Q3)=10.000, IQR=8.000\n",
      "Identified outliers: 0\n",
      "min\n",
      "Percentiles: 25th(Q1)=12.000, 75th(Q3)=12.000, IQR=31.000\n",
      "Identified outliers: 0\n",
      "sec\n",
      "Percentiles: 25th(Q1)=0.000, 75th(Q3)=0.000, IQR=0.000\n",
      "Identified outliers: 0\n"
     ]
    }
   ],
   "source": [
    "# For testing  data \n",
    "\n",
    "for c in numcol:\n",
    "    print(c)    \n",
    "    Q1 = df[c].quantile(0.25)\n",
    "    Q3 = df[c].quantile(0.75)   \n",
    "    IQR = Q3-Q1\n",
    "    upper = Q3+1.5*IQR    \n",
    "    lower = Q1-1.5*IQR\n",
    "    print('Percentiles: 25th(Q1)=%.3f, 75th(Q3)=%.3f, IQR=%.3f' % (Q1, Q1, IQR))\n",
    "    # Identify outliers\n",
    "    outliers = [x for x in df[c] if x < lower or x > upper]\n",
    "    print('Identified outliers: %d' % len(outliers))\n",
    "    #print(trainstay[c])         \n",
    "    df[c][df[c]>=upper]=upper\n",
    "    df[c][df[c]<=lower]=lower"
   ]
  },
  {
   "cell_type": "code",
   "execution_count": 50,
   "id": "750129e2",
   "metadata": {
    "ExecuteTime": {
     "end_time": "2022-03-13T11:58:25.452252Z",
     "start_time": "2022-03-13T11:58:24.332232Z"
    }
   },
   "outputs": [
    {
     "data": {
      "image/png": "[encoded data removed]",
      "text/plain": [
       "<Figure size 1728x1440 with 5 Axes>"
      ]
     },
     "metadata": {
      "needs_background": "light"
     },
     "output_type": "display_data"
    }
   ],
   "source": [
    "# for data\n",
    "fig = plt.figure(figsize=(24, 20))\n",
    "fig.suptitle(' Box and whisker plot for the data set after removing OUTLIERS', bbox={'facecolor':'0.8', 'pad':12}, fontsize = 20)\n",
    "# Plotting scatter chart for each predictor vs the target variable\n",
    "for predictor in numcol:\n",
    "    ctrain = numcol.index(predictor)    \n",
    "    #print(cntss)    \n",
    "    subsc = fig.add_subplot(3, 3, ctrain+1)    \n",
    "    subsc.set_xlabel(predictor.upper()) \n",
    "    #sns.boxplot(y=teststay[predictor])\n",
    "    df[predictor].plot.box(grid=True, layout=(4, 2), vert = False, sym='rs')\n",
    "    #plt.show(block=True)\n",
    "    subsc.title.set_text('Boxplot : '+ str(predictor))  "
   ]
  },
  {
   "cell_type": "code",
   "execution_count": 51,
   "id": "5eacb94f",
   "metadata": {
    "ExecuteTime": {
     "end_time": "2022-03-13T11:58:25.966629Z",
     "start_time": "2022-03-13T11:58:25.457010Z"
    }
   },
   "outputs": [
    {
     "data": {
      "text/plain": [
       "<AxesSubplot:>"
      ]
     },
     "execution_count": 51,
     "metadata": {},
     "output_type": "execute_result"
    },
    {
     "data": {
      "image/png": "[encoded data removed]",
      "text/plain": [
       "<Figure size 432x288 with 2 Axes>"
      ]
     },
     "metadata": {
      "needs_background": "light"
     },
     "output_type": "display_data"
    }
   ],
   "source": [
    "corr = df.drop('accident_severity', axis=1).corr()\n",
    "sns.heatmap(corr[(corr >= 0.5) | (corr <= -0.4)], annot=True, cmap='RdYlGn',\n",
    "            vmax=1.0, vmin=-1.0, center=0, linewidth=0.1, annot_kws={'size': 8}, square=True, fmt='.2f',)"
   ]
  },
  {
   "cell_type": "markdown",
   "id": "fbade729",
   "metadata": {
    "ExecuteTime": {
     "end_time": "2022-03-02T12:12:11.394143Z",
     "start_time": "2022-03-02T12:12:11.376326Z"
    }
   },
   "source": [
    "<a name = Section6></a>\n",
    "\n",
    "---\n",
    "# **6. Exploratory Data Analysis**\n",
    "---\n",
    "\n",
    "**NOTE**:  \n",
    "\n",
    "- Exploratory Data Analysis will explore all the features and their relationship with other features\n",
    "- Both non-graphical and graphical method will be used as applicable to respective features\n",
    "- Both univariate and bivariate method be used as applicable to respective features"
   ]
  },
  {
   "cell_type": "code",
   "execution_count": 52,
   "id": "dcbfc3b9",
   "metadata": {
    "ExecuteTime": {
     "end_time": "2022-03-13T11:58:25.998515Z",
     "start_time": "2022-03-13T11:58:25.970431Z"
    }
   },
   "outputs": [
    {
     "data": {
      "text/plain": [
       "Slight Injury     10415\n",
       "Serious Injury     1743\n",
       "Fatal injury        158\n",
       "Name: accident_severity, dtype: int64"
      ]
     },
     "execution_count": 52,
     "metadata": {},
     "output_type": "execute_result"
    }
   ],
   "source": [
    "df['accident_severity'].value_counts()"
   ]
  },
  {
   "cell_type": "code",
   "execution_count": 53,
   "id": "6601afba",
   "metadata": {
    "ExecuteTime": {
     "end_time": "2022-03-13T11:58:26.230115Z",
     "start_time": "2022-03-13T11:58:26.002733Z"
    }
   },
   "outputs": [
    {
     "data": {
      "text/plain": [
       "5-10yr        4192\n",
       "2-5yr         2613\n",
       "Above 10yr    2262\n",
       "1-2yr         1756\n",
       "Below 1yr     1342\n",
       "No Licence     118\n",
       "unknown         33\n",
       "Name: driving_experience, dtype: int64"
      ]
     },
     "execution_count": 53,
     "metadata": {},
     "output_type": "execute_result"
    }
   ],
   "source": [
    "df.driving_experience.value_counts()"
   ]
  },
  {
   "cell_type": "code",
   "execution_count": 54,
   "id": "2d06b10f",
   "metadata": {
    "ExecuteTime": {
     "end_time": "2022-03-13T11:58:26.371356Z",
     "start_time": "2022-03-13T11:58:26.240089Z"
    }
   },
   "outputs": [
    {
     "data": {
      "text/plain": [
       "Index(['time', 'day_of_week', 'age_band_of_driver', 'sex_of_driver',\n",
       "       'educational_level', 'vehicle_driver_relation', 'driving_experience',\n",
       "       'type_of_vehicle', 'owner_of_vehicle', 'service_year_of_vehicle',\n",
       "       'defect_of_vehicle', 'area_accident_occured', 'lanes_or_medians',\n",
       "       'road_allignment', 'types_of_junction', 'road_surface_type',\n",
       "       'road_surface_conditions', 'light_conditions', 'weather_conditions',\n",
       "       'type_of_collision', 'number_of_vehicles_involved',\n",
       "       'number_of_casualties', 'vehicle_movement', 'casualty_class',\n",
       "       'sex_of_casualty', 'age_band_of_casualty', 'casualty_severity',\n",
       "       'work_of_casuality', 'fitness_of_casuality', 'pedestrian_movement',\n",
       "       'cause_of_accident', 'accident_severity', 'hour', 'min', 'sec'],\n",
       "      dtype='object')"
      ]
     },
     "execution_count": 54,
     "metadata": {},
     "output_type": "execute_result"
    }
   ],
   "source": [
    "df.columns"
   ]
  },
  {
   "cell_type": "code",
   "execution_count": 55,
   "id": "6030cc82",
   "metadata": {
    "ExecuteTime": {
     "end_time": "2022-03-13T11:58:26.497233Z",
     "start_time": "2022-03-13T11:58:26.378393Z"
    }
   },
   "outputs": [
    {
     "data": {
      "text/plain": [
       "Junior high school    8360\n",
       "Elementary school     2163\n",
       "High school           1110\n",
       "Above high school      362\n",
       "Writing & reading      176\n",
       "Unknown                100\n",
       "Illiterate              45\n",
       "Name: educational_level, dtype: int64"
      ]
     },
     "execution_count": 55,
     "metadata": {},
     "output_type": "execute_result"
    }
   ],
   "source": [
    "df[\"educational_level\"].value_counts()"
   ]
  },
  {
   "cell_type": "code",
   "execution_count": 56,
   "id": "94cd577f",
   "metadata": {
    "ExecuteTime": {
     "end_time": "2022-03-13T11:58:26.621309Z",
     "start_time": "2022-03-13T11:58:26.505315Z"
    }
   },
   "outputs": [
    {
     "data": {
      "text/plain": [
       "Automobile              4155\n",
       "Lorry_(41?100Q)         2186\n",
       "Other                   1208\n",
       "Pick_up_upto_10Q         811\n",
       "Public_(12_seats)        711\n",
       "Stationwagen             687\n",
       "Lorry_(11?40Q)           541\n",
       "Public_(13?45_seats)     532\n",
       "Public_(>_45_seats)      404\n",
       "Long_lorry               383\n",
       "Taxi                     265\n",
       "Motorcycle               177\n",
       "Special_vehicle           84\n",
       "Ridden_horse              76\n",
       "Turbo                     46\n",
       "Bajaj                     29\n",
       "Bicycle                   21\n",
       "Name: type_of_vehicle, dtype: int64"
      ]
     },
     "execution_count": 56,
     "metadata": {},
     "output_type": "execute_result"
    }
   ],
   "source": [
    "df.type_of_vehicle.value_counts()"
   ]
  },
  {
   "cell_type": "code",
   "execution_count": 57,
   "id": "347dafde",
   "metadata": {
    "ExecuteTime": {
     "end_time": "2022-03-13T11:58:26.853301Z",
     "start_time": "2022-03-13T11:58:26.626815Z"
    }
   },
   "outputs": [
    {
     "data": {
      "text/plain": [
       "18-30       4271\n",
       "31-50       4087\n",
       "Over 51     1585\n",
       "Unknown     1548\n",
       "Under 18     825\n",
       "Name: age_band_of_driver, dtype: int64"
      ]
     },
     "execution_count": 57,
     "metadata": {},
     "output_type": "execute_result"
    }
   ],
   "source": [
    "df.age_band_of_driver.value_counts()"
   ]
  },
  {
   "cell_type": "code",
   "execution_count": 58,
   "id": "993bc12c",
   "metadata": {
    "ExecuteTime": {
     "end_time": "2022-03-13T11:58:27.086067Z",
     "start_time": "2022-03-13T11:58:26.862823Z"
    }
   },
   "outputs": [
    {
     "data": {
      "text/html": [
       "<div>\n",
       "<style scoped>\n",
       "    .dataframe tbody tr th:only-of-type {\n",
       "        vertical-align: middle;\n",
       "    }\n",
       "\n",
       "    .dataframe tbody tr th {\n",
       "        vertical-align: top;\n",
       "    }\n",
       "\n",
       "    .dataframe thead th {\n",
       "        text-align: right;\n",
       "    }\n",
       "</style>\n",
       "<table border=\"1\" class=\"dataframe\">\n",
       "  <thead>\n",
       "    <tr style=\"text-align: right;\">\n",
       "      <th></th>\n",
       "      <th>number_of_vehicles_involved</th>\n",
       "      <th>number_of_casualties</th>\n",
       "      <th>hour</th>\n",
       "      <th>min</th>\n",
       "      <th>sec</th>\n",
       "    </tr>\n",
       "  </thead>\n",
       "  <tbody>\n",
       "    <tr>\n",
       "      <th>count</th>\n",
       "      <td>12316.0</td>\n",
       "      <td>12316.000000</td>\n",
       "      <td>12316.000000</td>\n",
       "      <td>12316.000000</td>\n",
       "      <td>12316.0</td>\n",
       "    </tr>\n",
       "    <tr>\n",
       "      <th>mean</th>\n",
       "      <td>2.0</td>\n",
       "      <td>1.479701</td>\n",
       "      <td>13.835823</td>\n",
       "      <td>27.696736</td>\n",
       "      <td>0.0</td>\n",
       "    </tr>\n",
       "    <tr>\n",
       "      <th>std</th>\n",
       "      <td>0.0</td>\n",
       "      <td>0.785161</td>\n",
       "      <td>5.202923</td>\n",
       "      <td>17.482604</td>\n",
       "      <td>0.0</td>\n",
       "    </tr>\n",
       "    <tr>\n",
       "      <th>min</th>\n",
       "      <td>2.0</td>\n",
       "      <td>1.000000</td>\n",
       "      <td>0.000000</td>\n",
       "      <td>0.000000</td>\n",
       "      <td>0.0</td>\n",
       "    </tr>\n",
       "    <tr>\n",
       "      <th>25%</th>\n",
       "      <td>2.0</td>\n",
       "      <td>1.000000</td>\n",
       "      <td>10.000000</td>\n",
       "      <td>12.000000</td>\n",
       "      <td>0.0</td>\n",
       "    </tr>\n",
       "    <tr>\n",
       "      <th>50%</th>\n",
       "      <td>2.0</td>\n",
       "      <td>1.000000</td>\n",
       "      <td>15.000000</td>\n",
       "      <td>30.000000</td>\n",
       "      <td>0.0</td>\n",
       "    </tr>\n",
       "    <tr>\n",
       "      <th>75%</th>\n",
       "      <td>2.0</td>\n",
       "      <td>2.000000</td>\n",
       "      <td>18.000000</td>\n",
       "      <td>43.000000</td>\n",
       "      <td>0.0</td>\n",
       "    </tr>\n",
       "    <tr>\n",
       "      <th>max</th>\n",
       "      <td>2.0</td>\n",
       "      <td>3.500000</td>\n",
       "      <td>23.000000</td>\n",
       "      <td>59.000000</td>\n",
       "      <td>0.0</td>\n",
       "    </tr>\n",
       "  </tbody>\n",
       "</table>\n",
       "</div>"
      ],
      "text/plain": [
       "       number_of_vehicles_involved  number_of_casualties          hour  \\\n",
       "count                      12316.0          12316.000000  12316.000000   \n",
       "mean                           2.0              1.479701     13.835823   \n",
       "std                            0.0              0.785161      5.202923   \n",
       "min                            2.0              1.000000      0.000000   \n",
       "25%                            2.0              1.000000     10.000000   \n",
       "50%                            2.0              1.000000     15.000000   \n",
       "75%                            2.0              2.000000     18.000000   \n",
       "max                            2.0              3.500000     23.000000   \n",
       "\n",
       "                min      sec  \n",
       "count  12316.000000  12316.0  \n",
       "mean      27.696736      0.0  \n",
       "std       17.482604      0.0  \n",
       "min        0.000000      0.0  \n",
       "25%       12.000000      0.0  \n",
       "50%       30.000000      0.0  \n",
       "75%       43.000000      0.0  \n",
       "max       59.000000      0.0  "
      ]
     },
     "execution_count": 58,
     "metadata": {},
     "output_type": "execute_result"
    }
   ],
   "source": [
    "df.describe()"
   ]
  },
  {
   "cell_type": "code",
   "execution_count": 59,
   "id": "be6609fd",
   "metadata": {
    "ExecuteTime": {
     "end_time": "2022-03-13T11:58:27.318176Z",
     "start_time": "2022-03-13T11:58:27.092304Z"
    }
   },
   "outputs": [
    {
     "name": "stdout",
     "output_type": "stream",
     "text": [
      "Categorical cols of dataset =  ['day_of_week', 'age_band_of_driver', 'sex_of_driver', 'educational_level', 'vehicle_driver_relation', 'driving_experience', 'type_of_vehicle', 'owner_of_vehicle', 'service_year_of_vehicle', 'defect_of_vehicle', 'area_accident_occured', 'lanes_or_medians', 'road_allignment', 'types_of_junction', 'road_surface_type', 'road_surface_conditions', 'light_conditions', 'weather_conditions', 'type_of_collision', 'vehicle_movement', 'casualty_class', 'sex_of_casualty', 'age_band_of_casualty', 'casualty_severity', 'work_of_casuality', 'fitness_of_casuality', 'pedestrian_movement', 'cause_of_accident', 'accident_severity'] . No of categorical features =  29\n",
      "DateTime cols of dataset =  ['time'] . No of datetime features =  1\n",
      "Numerical cols of dataset =  ['number_of_vehicles_involved', 'number_of_casualties', 'hour', 'min', 'sec'] . No of numerical features =  5\n"
     ]
    }
   ],
   "source": [
    "# Get list of categorical variables,date  and numerical variables for the data set\n",
    "fcatcol=[col for col in df.columns if df[col].dtype == \"object\"]\n",
    "print(\"Categorical cols of dataset = \", catcol, \". No of categorical features = \", len(catcol))\n",
    "fdatecol=[col for col in df.columns if df[col].dtype == \"datetime64[ns]\"]\n",
    "print(\"DateTime cols of dataset = \", datecol, \". No of datetime features = \", len(datecol))\n",
    "fnumcol = [col for col in df.columns if (df[col].dtype != \"object\") & (df[col].dtype != \"datetime64[ns]\")]\n",
    "print(\"Numerical cols of dataset = \", numcol, \". No of numerical features = \", len(numcol))"
   ]
  },
  {
   "cell_type": "code",
   "execution_count": 60,
   "id": "447e1d4a",
   "metadata": {
    "ExecuteTime": {
     "end_time": "2022-03-13T11:58:30.222116Z",
     "start_time": "2022-03-13T11:58:27.322426Z"
    }
   },
   "outputs": [
    {
     "data": {
      "text/plain": [
       "Text(0.5, 0.98, \"Histogram Plot['number_of_vehicles_involved', 'number_of_casualties', 'hour', 'min', 'sec']\")"
      ]
     },
     "execution_count": 60,
     "metadata": {},
     "output_type": "execute_result"
    },
    {
     "data": {
      "text/plain": [
       "<Figure size 864x864 with 0 Axes>"
      ]
     },
     "metadata": {},
     "output_type": "display_data"
    },
    {
     "data": {
      "image/png": "[encoded data removed]",
      "text/plain": [
       "<Figure size 1440x1440 with 9 Axes>"
      ]
     },
     "metadata": {
      "needs_background": "light"
     },
     "output_type": "display_data"
    }
   ],
   "source": [
    "plt.figure(figsize=(12, 12))\n",
    "df.hist(figsize=(20,20), grid=True, layout=(3,3), bins = 30)\n",
    "plt.suptitle(\"Histogram Plot\" + str(numcol), bbox={'facecolor':'0.8','pad':5},fontsize = 14)"
   ]
  },
  {
   "cell_type": "code",
   "execution_count": 61,
   "id": "051f900c",
   "metadata": {
    "ExecuteTime": {
     "end_time": "2022-03-13T11:58:42.872869Z",
     "start_time": "2022-03-13T11:58:30.227139Z"
    }
   },
   "outputs": [
    {
     "data": {
      "image/png": "[encoded data removed]",
      "text/plain": [
       "<Figure size 2160x720 with 29 Axes>"
      ]
     },
     "metadata": {
      "needs_background": "light"
     },
     "output_type": "display_data"
    }
   ],
   "source": [
    "plt.figure(figsize=(30,10))\n",
    "for i,feature in enumerate(fcatcol):\n",
    "    plt.subplot(5,6,i+1)\n",
    "    sns.countplot(df[feature],hue=df['accident_severity'])\n",
    "    \n",
    "plt.suptitle(\"countplotplot\" + str(numcol), bbox={'facecolor':'0.8','pad':5},fontsize = 14)\n",
    "plt.show()"
   ]
  },
  {
   "cell_type": "code",
   "execution_count": 62,
   "id": "a4f60889",
   "metadata": {
    "ExecuteTime": {
     "end_time": "2022-03-13T11:58:43.185126Z",
     "start_time": "2022-03-13T11:58:42.877304Z"
    }
   },
   "outputs": [
    {
     "data": {
      "image/png": "[encoded data removed]",
      "text/plain": [
       "<Figure size 720x504 with 1 Axes>"
      ]
     },
     "metadata": {
      "needs_background": "light"
     },
     "output_type": "display_data"
    }
   ],
   "source": [
    "plt.figure(figsize=(10,7))\n",
    "sns.boxplot(data=df, y='number_of_vehicles_involved', x='accident_severity')\n",
    "plt.suptitle(\"Boxplot for no of vehicles and accident severity\", bbox={'facecolor':'0.8','pad':5},fontsize = 14)\n",
    "plt.show()"
   ]
  },
  {
   "cell_type": "code",
   "execution_count": 63,
   "id": "37efacfd",
   "metadata": {
    "ExecuteTime": {
     "end_time": "2022-03-13T11:58:44.014951Z",
     "start_time": "2022-03-13T11:58:43.189795Z"
    }
   },
   "outputs": [
    {
     "data": {
      "image/png": "[encoded data removed]",
      "text/plain": [
       "<Figure size 720x504 with 1 Axes>"
      ]
     },
     "metadata": {
      "needs_background": "light"
     },
     "output_type": "display_data"
    }
   ],
   "source": [
    "plt.figure(figsize=(10,7))\n",
    "sns.boxplot(data=df, y='hour', x='light_conditions', hue = 'accident_severity')\n",
    "plt.suptitle(\"Boxplot for hour Vs light conditions wrt  accident severity\", bbox={'facecolor':'0.8','pad':5},fontsize = 14)\n",
    "plt.show()"
   ]
  },
  {
   "cell_type": "code",
   "execution_count": 64,
   "id": "14caeaf3",
   "metadata": {
    "ExecuteTime": {
     "end_time": "2022-03-13T11:58:44.109263Z",
     "start_time": "2022-03-13T11:58:44.019199Z"
    }
   },
   "outputs": [
    {
     "data": {
      "text/html": [
       "<div>\n",
       "<style scoped>\n",
       "    .dataframe tbody tr th:only-of-type {\n",
       "        vertical-align: middle;\n",
       "    }\n",
       "\n",
       "    .dataframe tbody tr th {\n",
       "        vertical-align: top;\n",
       "    }\n",
       "\n",
       "    .dataframe thead th {\n",
       "        text-align: right;\n",
       "    }\n",
       "</style>\n",
       "<table border=\"1\" class=\"dataframe\">\n",
       "  <thead>\n",
       "    <tr style=\"text-align: right;\">\n",
       "      <th>vehicle_movement</th>\n",
       "      <th>Entering a junction</th>\n",
       "      <th>Getting off</th>\n",
       "      <th>Going straight</th>\n",
       "      <th>Moving Backward</th>\n",
       "      <th>Other</th>\n",
       "      <th>Overtaking</th>\n",
       "      <th>Parked</th>\n",
       "      <th>Reversing</th>\n",
       "      <th>Stopping</th>\n",
       "      <th>Turnover</th>\n",
       "      <th>U-Turn</th>\n",
       "      <th>Unknown</th>\n",
       "      <th>Waiting to go</th>\n",
       "    </tr>\n",
       "    <tr>\n",
       "      <th>area_accident_occured</th>\n",
       "      <th></th>\n",
       "      <th></th>\n",
       "      <th></th>\n",
       "      <th></th>\n",
       "      <th></th>\n",
       "      <th></th>\n",
       "      <th></th>\n",
       "      <th></th>\n",
       "      <th></th>\n",
       "      <th></th>\n",
       "      <th></th>\n",
       "      <th></th>\n",
       "      <th></th>\n",
       "    </tr>\n",
       "  </thead>\n",
       "  <tbody>\n",
       "    <tr>\n",
       "      <th>Market areas</th>\n",
       "      <td>3</td>\n",
       "      <td>1</td>\n",
       "      <td>48</td>\n",
       "      <td>3</td>\n",
       "      <td>5</td>\n",
       "      <td>0</td>\n",
       "      <td>0</td>\n",
       "      <td>0</td>\n",
       "      <td>0</td>\n",
       "      <td>3</td>\n",
       "      <td>0</td>\n",
       "      <td>0</td>\n",
       "      <td>0</td>\n",
       "    </tr>\n",
       "    <tr>\n",
       "      <th>Recreational areas</th>\n",
       "      <td>8</td>\n",
       "      <td>17</td>\n",
       "      <td>197</td>\n",
       "      <td>37</td>\n",
       "      <td>28</td>\n",
       "      <td>2</td>\n",
       "      <td>1</td>\n",
       "      <td>17</td>\n",
       "      <td>6</td>\n",
       "      <td>11</td>\n",
       "      <td>0</td>\n",
       "      <td>3</td>\n",
       "      <td>0</td>\n",
       "    </tr>\n",
       "    <tr>\n",
       "      <th>Church areas</th>\n",
       "      <td>15</td>\n",
       "      <td>26</td>\n",
       "      <td>753</td>\n",
       "      <td>78</td>\n",
       "      <td>77</td>\n",
       "      <td>4</td>\n",
       "      <td>1</td>\n",
       "      <td>49</td>\n",
       "      <td>5</td>\n",
       "      <td>43</td>\n",
       "      <td>4</td>\n",
       "      <td>3</td>\n",
       "      <td>2</td>\n",
       "    </tr>\n",
       "    <tr>\n",
       "      <th>Hospital areas</th>\n",
       "      <td>0</td>\n",
       "      <td>1</td>\n",
       "      <td>100</td>\n",
       "      <td>10</td>\n",
       "      <td>7</td>\n",
       "      <td>1</td>\n",
       "      <td>0</td>\n",
       "      <td>2</td>\n",
       "      <td>0</td>\n",
       "      <td>0</td>\n",
       "      <td>0</td>\n",
       "      <td>0</td>\n",
       "      <td>0</td>\n",
       "    </tr>\n",
       "    <tr>\n",
       "      <th>Industrial areas</th>\n",
       "      <td>13</td>\n",
       "      <td>8</td>\n",
       "      <td>338</td>\n",
       "      <td>26</td>\n",
       "      <td>27</td>\n",
       "      <td>5</td>\n",
       "      <td>1</td>\n",
       "      <td>13</td>\n",
       "      <td>3</td>\n",
       "      <td>16</td>\n",
       "      <td>1</td>\n",
       "      <td>5</td>\n",
       "      <td>0</td>\n",
       "    </tr>\n",
       "    <tr>\n",
       "      <th>Outside rural areas</th>\n",
       "      <td>6</td>\n",
       "      <td>2</td>\n",
       "      <td>134</td>\n",
       "      <td>24</td>\n",
       "      <td>25</td>\n",
       "      <td>1</td>\n",
       "      <td>0</td>\n",
       "      <td>10</td>\n",
       "      <td>3</td>\n",
       "      <td>8</td>\n",
       "      <td>2</td>\n",
       "      <td>2</td>\n",
       "      <td>1</td>\n",
       "    </tr>\n",
       "    <tr>\n",
       "      <th>Office areas</th>\n",
       "      <td>48</td>\n",
       "      <td>82</td>\n",
       "      <td>2386</td>\n",
       "      <td>264</td>\n",
       "      <td>270</td>\n",
       "      <td>24</td>\n",
       "      <td>3</td>\n",
       "      <td>156</td>\n",
       "      <td>21</td>\n",
       "      <td>136</td>\n",
       "      <td>17</td>\n",
       "      <td>32</td>\n",
       "      <td>12</td>\n",
       "    </tr>\n",
       "    <tr>\n",
       "      <th>Other</th>\n",
       "      <td>51</td>\n",
       "      <td>114</td>\n",
       "      <td>2766</td>\n",
       "      <td>330</td>\n",
       "      <td>315</td>\n",
       "      <td>30</td>\n",
       "      <td>4</td>\n",
       "      <td>199</td>\n",
       "      <td>10</td>\n",
       "      <td>179</td>\n",
       "      <td>17</td>\n",
       "      <td>26</td>\n",
       "      <td>17</td>\n",
       "    </tr>\n",
       "    <tr>\n",
       "      <th>Recreational areas</th>\n",
       "      <td>0</td>\n",
       "      <td>0</td>\n",
       "      <td>1</td>\n",
       "      <td>0</td>\n",
       "      <td>0</td>\n",
       "      <td>0</td>\n",
       "      <td>0</td>\n",
       "      <td>0</td>\n",
       "      <td>0</td>\n",
       "      <td>0</td>\n",
       "      <td>0</td>\n",
       "      <td>0</td>\n",
       "      <td>0</td>\n",
       "    </tr>\n",
       "    <tr>\n",
       "      <th>Residential areas</th>\n",
       "      <td>42</td>\n",
       "      <td>70</td>\n",
       "      <td>1394</td>\n",
       "      <td>172</td>\n",
       "      <td>143</td>\n",
       "      <td>21</td>\n",
       "      <td>0</td>\n",
       "      <td>100</td>\n",
       "      <td>11</td>\n",
       "      <td>80</td>\n",
       "      <td>8</td>\n",
       "      <td>13</td>\n",
       "      <td>6</td>\n",
       "    </tr>\n",
       "    <tr>\n",
       "      <th>Rural village areas</th>\n",
       "      <td>2</td>\n",
       "      <td>2</td>\n",
       "      <td>28</td>\n",
       "      <td>2</td>\n",
       "      <td>5</td>\n",
       "      <td>0</td>\n",
       "      <td>0</td>\n",
       "      <td>2</td>\n",
       "      <td>0</td>\n",
       "      <td>2</td>\n",
       "      <td>1</td>\n",
       "      <td>0</td>\n",
       "      <td>0</td>\n",
       "    </tr>\n",
       "    <tr>\n",
       "      <th>Rural village areasOffice areas</th>\n",
       "      <td>0</td>\n",
       "      <td>0</td>\n",
       "      <td>16</td>\n",
       "      <td>0</td>\n",
       "      <td>3</td>\n",
       "      <td>0</td>\n",
       "      <td>0</td>\n",
       "      <td>1</td>\n",
       "      <td>0</td>\n",
       "      <td>0</td>\n",
       "      <td>0</td>\n",
       "      <td>0</td>\n",
       "      <td>0</td>\n",
       "    </tr>\n",
       "    <tr>\n",
       "      <th>School areas</th>\n",
       "      <td>3</td>\n",
       "      <td>16</td>\n",
       "      <td>290</td>\n",
       "      <td>37</td>\n",
       "      <td>30</td>\n",
       "      <td>8</td>\n",
       "      <td>0</td>\n",
       "      <td>13</td>\n",
       "      <td>2</td>\n",
       "      <td>11</td>\n",
       "      <td>0</td>\n",
       "      <td>4</td>\n",
       "      <td>1</td>\n",
       "    </tr>\n",
       "    <tr>\n",
       "      <th>Unknown</th>\n",
       "      <td>2</td>\n",
       "      <td>0</td>\n",
       "      <td>15</td>\n",
       "      <td>2</td>\n",
       "      <td>2</td>\n",
       "      <td>0</td>\n",
       "      <td>0</td>\n",
       "      <td>1</td>\n",
       "      <td>0</td>\n",
       "      <td>0</td>\n",
       "      <td>0</td>\n",
       "      <td>0</td>\n",
       "      <td>0</td>\n",
       "    </tr>\n",
       "  </tbody>\n",
       "</table>\n",
       "</div>"
      ],
      "text/plain": [
       "vehicle_movement                 Entering a junction  Getting off  \\\n",
       "area_accident_occured                                               \n",
       "  Market areas                                     3            1   \n",
       "  Recreational areas                               8           17   \n",
       " Church areas                                     15           26   \n",
       " Hospital areas                                    0            1   \n",
       " Industrial areas                                 13            8   \n",
       " Outside rural areas                               6            2   \n",
       "Office areas                                      48           82   \n",
       "Other                                             51          114   \n",
       "Recreational areas                                 0            0   \n",
       "Residential areas                                 42           70   \n",
       "Rural village areas                                2            2   \n",
       "Rural village areasOffice areas                    0            0   \n",
       "School areas                                       3           16   \n",
       "Unknown                                            2            0   \n",
       "\n",
       "vehicle_movement                 Going straight  Moving Backward  Other  \\\n",
       "area_accident_occured                                                     \n",
       "  Market areas                               48                3      5   \n",
       "  Recreational areas                        197               37     28   \n",
       " Church areas                               753               78     77   \n",
       " Hospital areas                             100               10      7   \n",
       " Industrial areas                           338               26     27   \n",
       " Outside rural areas                        134               24     25   \n",
       "Office areas                               2386              264    270   \n",
       "Other                                      2766              330    315   \n",
       "Recreational areas                            1                0      0   \n",
       "Residential areas                          1394              172    143   \n",
       "Rural village areas                          28                2      5   \n",
       "Rural village areasOffice areas              16                0      3   \n",
       "School areas                                290               37     30   \n",
       "Unknown                                      15                2      2   \n",
       "\n",
       "vehicle_movement                 Overtaking  Parked  Reversing  Stopping  \\\n",
       "area_accident_occured                                                      \n",
       "  Market areas                            0       0          0         0   \n",
       "  Recreational areas                      2       1         17         6   \n",
       " Church areas                             4       1         49         5   \n",
       " Hospital areas                           1       0          2         0   \n",
       " Industrial areas                         5       1         13         3   \n",
       " Outside rural areas                      1       0         10         3   \n",
       "Office areas                             24       3        156        21   \n",
       "Other                                    30       4        199        10   \n",
       "Recreational areas                        0       0          0         0   \n",
       "Residential areas                        21       0        100        11   \n",
       "Rural village areas                       0       0          2         0   \n",
       "Rural village areasOffice areas           0       0          1         0   \n",
       "School areas                              8       0         13         2   \n",
       "Unknown                                   0       0          1         0   \n",
       "\n",
       "vehicle_movement                 Turnover  U-Turn  Unknown  Waiting to go  \n",
       "area_accident_occured                                                      \n",
       "  Market areas                          3       0        0              0  \n",
       "  Recreational areas                   11       0        3              0  \n",
       " Church areas                          43       4        3              2  \n",
       " Hospital areas                         0       0        0              0  \n",
       " Industrial areas                      16       1        5              0  \n",
       " Outside rural areas                    8       2        2              1  \n",
       "Office areas                          136      17       32             12  \n",
       "Other                                 179      17       26             17  \n",
       "Recreational areas                      0       0        0              0  \n",
       "Residential areas                      80       8       13              6  \n",
       "Rural village areas                     2       1        0              0  \n",
       "Rural village areasOffice areas         0       0        0              0  \n",
       "School areas                           11       0        4              1  \n",
       "Unknown                                 0       0        0              0  "
      ]
     },
     "execution_count": 64,
     "metadata": {},
     "output_type": "execute_result"
    }
   ],
   "source": [
    "pd.crosstab(index=df['area_accident_occured'], columns=df['vehicle_movement'])"
   ]
  },
  {
   "cell_type": "code",
   "execution_count": 65,
   "id": "d1322976",
   "metadata": {
    "ExecuteTime": {
     "end_time": "2022-03-13T11:58:45.566944Z",
     "start_time": "2022-03-13T11:58:44.114003Z"
    }
   },
   "outputs": [
    {
     "data": {
      "text/plain": [
       "<Figure size 720x504 with 0 Axes>"
      ]
     },
     "metadata": {},
     "output_type": "display_data"
    },
    {
     "data": {
      "image/png": "[encoded data removed]",
      "text/plain": [
       "<Figure size 864x288 with 3 Axes>"
      ]
     },
     "metadata": {
      "needs_background": "light"
     },
     "output_type": "display_data"
    }
   ],
   "source": [
    "# creating a facet grid with columns \n",
    "plt.figure(figsize=(10,7))\n",
    "grid = sns.FacetGrid(data=df, col='accident_severity', height=4, aspect=1, sharey=False)\n",
    "# mapping bar plot and the data on to the grid\n",
    "grid.map(sns.countplot, 'type_of_collision', palette=['black', 'brown', 'orange'])\n",
    "plt.suptitle(\"countplot for and typr of collision wrt  accident severity\", bbox={'facecolor':'0.8','pad':5},fontsize = 14)\n",
    "plt.show()"
   ]
  },
  {
   "cell_type": "code",
   "execution_count": 66,
   "id": "36c1045d",
   "metadata": {
    "ExecuteTime": {
     "end_time": "2022-03-13T11:58:46.701202Z",
     "start_time": "2022-03-13T11:58:45.572121Z"
    }
   },
   "outputs": [
    {
     "data": {
      "text/plain": [
       "<Figure size 720x504 with 0 Axes>"
      ]
     },
     "metadata": {},
     "output_type": "display_data"
    },
    {
     "data": {
      "image/png": "[encoded data removed]",
      "text/plain": [
       "<Figure size 864x288 with 3 Axes>"
      ]
     },
     "metadata": {
      "needs_background": "light"
     },
     "output_type": "display_data"
    }
   ],
   "source": [
    "# creating a facet grid with columns \n",
    "plt.figure(figsize=(10,7))\n",
    "grid = sns.FacetGrid(data=df, col='accident_severity', height=4, aspect=1, sharey=False)\n",
    "# mapping bar plot and the data on to the grid\n",
    "grid.map(sns.countplot, 'owner_of_vehicle', palette='viridis')\n",
    "plt.suptitle(\"countplot for and owner_of_vehicle wrt  accident severity\", bbox={'facecolor':'0.8','pad':5},fontsize = 14)\n",
    "plt.show()"
   ]
  },
  {
   "cell_type": "code",
   "execution_count": 67,
   "id": "94535379",
   "metadata": {
    "ExecuteTime": {
     "end_time": "2022-03-13T11:58:47.792736Z",
     "start_time": "2022-03-13T11:58:46.705344Z"
    }
   },
   "outputs": [
    {
     "data": {
      "text/plain": [
       "<Figure size 720x504 with 0 Axes>"
      ]
     },
     "metadata": {},
     "output_type": "display_data"
    },
    {
     "data": {
      "image/png": "[encoded data removed]",
      "text/plain": [
       "<Figure size 864x288 with 3 Axes>"
      ]
     },
     "metadata": {
      "needs_background": "light"
     },
     "output_type": "display_data"
    }
   ],
   "source": [
    "# creating a facet grid with columns \n",
    "plt.figure(figsize=(10,7))\n",
    "grid = sns.FacetGrid(data=df, col='accident_severity', height=4, aspect=1, sharey=False)\n",
    "# mapping bar plot and the data on to the grid\n",
    "grid.map(sns.countplot, 'driving_experience', palette='viridis')\n",
    "plt.suptitle(\"countplot for and driving_experience wrt  accident severity\", bbox={'facecolor':'0.8','pad':5},fontsize = 14)\n",
    "plt.show()"
   ]
  },
  {
   "cell_type": "code",
   "execution_count": 68,
   "id": "c2880505",
   "metadata": {
    "ExecuteTime": {
     "end_time": "2022-03-13T11:58:48.873047Z",
     "start_time": "2022-03-13T11:58:47.797721Z"
    }
   },
   "outputs": [
    {
     "data": {
      "text/plain": [
       "<Figure size 720x504 with 0 Axes>"
      ]
     },
     "metadata": {},
     "output_type": "display_data"
    },
    {
     "data": {
      "image/png": "[encoded data removed]",
      "text/plain": [
       "<Figure size 864x288 with 3 Axes>"
      ]
     },
     "metadata": {
      "needs_background": "light"
     },
     "output_type": "display_data"
    }
   ],
   "source": [
    "# creating a facet grid with columns \n",
    "plt.figure(figsize=(10,7))\n",
    "grid = sns.FacetGrid(data=df, col='accident_severity', height=4, aspect=1, sharey=False)\n",
    "# mapping bar plot and the data on to the grid\n",
    "grid.map(sns.countplot, 'day_of_week', palette='viridis')\n",
    "plt.suptitle(\"countplot for and day_of_week wrt  accident severity\", bbox={'facecolor':'0.8','pad':5},fontsize = 14)\n",
    "plt.show()"
   ]
  },
  {
   "cell_type": "code",
   "execution_count": 69,
   "id": "6e225a63",
   "metadata": {
    "ExecuteTime": {
     "end_time": "2022-03-13T11:58:50.426822Z",
     "start_time": "2022-03-13T11:58:48.877591Z"
    }
   },
   "outputs": [
    {
     "data": {
      "text/plain": [
       "<Figure size 720x504 with 0 Axes>"
      ]
     },
     "metadata": {},
     "output_type": "display_data"
    },
    {
     "data": {
      "image/png": "[encoded data removed]",
      "text/plain": [
       "<Figure size 864x288 with 3 Axes>"
      ]
     },
     "metadata": {
      "needs_background": "light"
     },
     "output_type": "display_data"
    }
   ],
   "source": [
    "# creating a facet grid with columns \n",
    "plt.figure(figsize=(10,7))\n",
    "grid = sns.FacetGrid(data=df, col='accident_severity', height=4, aspect=1, sharey=False)\n",
    "# mapping bar plot and the data on to the grid\n",
    "grid.map(sns.countplot, 'cause_of_accident', palette='viridis')\n",
    "plt.suptitle(\"countplot for and cause_of_accident wrt  accident severity\", bbox={'facecolor':'0.8','pad':5},fontsize = 14)\n",
    "plt.show()"
   ]
  },
  {
   "cell_type": "code",
   "execution_count": 70,
   "id": "53e63e17",
   "metadata": {
    "ExecuteTime": {
     "end_time": "2022-03-13T11:58:51.471423Z",
     "start_time": "2022-03-13T11:58:50.432406Z"
    }
   },
   "outputs": [
    {
     "data": {
      "text/plain": [
       "<Figure size 720x504 with 0 Axes>"
      ]
     },
     "metadata": {},
     "output_type": "display_data"
    },
    {
     "data": {
      "image/png": "[encoded data removed]",
      "text/plain": [
       "<Figure size 864x288 with 3 Axes>"
      ]
     },
     "metadata": {
      "needs_background": "light"
     },
     "output_type": "display_data"
    }
   ],
   "source": [
    "# creating a facet grid with columns \n",
    "plt.figure(figsize=(10,7))\n",
    "grid = sns.FacetGrid(data=df, col='accident_severity', height=4, aspect=1, sharey=False)\n",
    "# mapping bar plot and the data on to the grid\n",
    "grid.map(sns.countplot, 'weather_conditions', palette='viridis')\n",
    "plt.suptitle(\"countplot for and weather_conditions wrt  accident severity\", bbox={'facecolor':'0.8','pad':5},fontsize = 14)\n",
    "plt.show()"
   ]
  },
  {
   "cell_type": "code",
   "execution_count": 71,
   "id": "43cfaef5",
   "metadata": {
    "ExecuteTime": {
     "end_time": "2022-03-13T11:58:51.518152Z",
     "start_time": "2022-03-13T11:58:51.476631Z"
    }
   },
   "outputs": [
    {
     "name": "stdout",
     "output_type": "stream",
     "text": [
      "Number of casualty_severity:  Male       152\n",
      "Female       5\n",
      "Unknown      1\n",
      "Name: sex_of_driver, dtype: int64\n",
      "Number of vehicle_driver_relation:  Male       9471\n",
      "Female      591\n",
      "Unknown     144\n",
      "Name: sex_of_driver, dtype: int64\n"
     ]
    }
   ],
   "source": [
    "print(\"Number of casualty_severity: \", df[df['accident_severity']=='Fatal injury']['sex_of_driver'].value_counts())\n",
    "print(\"Number of vehicle_driver_relation: \", df[df['vehicle_driver_relation']=='Employee']['sex_of_driver'].value_counts())"
   ]
  },
  {
   "cell_type": "code",
   "execution_count": 72,
   "id": "38837bf3",
   "metadata": {
    "ExecuteTime": {
     "end_time": "2022-03-13T11:58:51.674037Z",
     "start_time": "2022-03-13T11:58:51.522178Z"
    }
   },
   "outputs": [
    {
     "data": {
      "text/plain": [
       "Normal          12243\n",
       "NormalNormal       19\n",
       "Deaf               18\n",
       "Other              18\n",
       "Blind              18\n",
       "Name: fitness_of_casuality, dtype: int64"
      ]
     },
     "execution_count": 72,
     "metadata": {},
     "output_type": "execute_result"
    }
   ],
   "source": [
    "df['fitness_of_casuality'].value_counts()"
   ]
  },
  {
   "cell_type": "code",
   "execution_count": 73,
   "id": "3175b012",
   "metadata": {
    "ExecuteTime": {
     "end_time": "2022-03-13T11:59:01.440582Z",
     "start_time": "2022-03-13T11:58:51.698917Z"
    }
   },
   "outputs": [
    {
     "ename": "KeyError",
     "evalue": "'accident_severity'",
     "output_type": "error",
     "traceback": [
      "\u001b[1;31m---------------------------------------------------------------------------\u001b[0m",
      "\u001b[1;31mKeyError\u001b[0m                                  Traceback (most recent call last)",
      "File \u001b[1;32mG:\\anaconda\\lib\\site-packages\\pandas\\core\\indexes\\base.py:3621\u001b[0m, in \u001b[0;36mIndex.get_loc\u001b[1;34m(self, key, method, tolerance)\u001b[0m\n\u001b[0;32m   3620\u001b[0m \u001b[38;5;28;01mtry\u001b[39;00m:\n\u001b[1;32m-> 3621\u001b[0m     \u001b[38;5;28;01mreturn\u001b[39;00m \u001b[38;5;28;43mself\u001b[39;49m\u001b[38;5;241;43m.\u001b[39;49m\u001b[43m_engine\u001b[49m\u001b[38;5;241;43m.\u001b[39;49m\u001b[43mget_loc\u001b[49m\u001b[43m(\u001b[49m\u001b[43mcasted_key\u001b[49m\u001b[43m)\u001b[49m\n\u001b[0;32m   3622\u001b[0m \u001b[38;5;28;01mexcept\u001b[39;00m \u001b[38;5;167;01mKeyError\u001b[39;00m \u001b[38;5;28;01mas\u001b[39;00m err:\n",
      "File \u001b[1;32mG:\\anaconda\\lib\\site-packages\\pandas\\_libs\\index.pyx:136\u001b[0m, in \u001b[0;36mpandas._libs.index.IndexEngine.get_loc\u001b[1;34m()\u001b[0m\n",
      "File \u001b[1;32mG:\\anaconda\\lib\\site-packages\\pandas\\_libs\\index.pyx:163\u001b[0m, in \u001b[0;36mpandas._libs.index.IndexEngine.get_loc\u001b[1;34m()\u001b[0m\n",
      "File \u001b[1;32mpandas\\_libs\\hashtable_class_helper.pxi:5198\u001b[0m, in \u001b[0;36mpandas._libs.hashtable.PyObjectHashTable.get_item\u001b[1;34m()\u001b[0m\n",
      "File \u001b[1;32mpandas\\_libs\\hashtable_class_helper.pxi:5206\u001b[0m, in \u001b[0;36mpandas._libs.hashtable.PyObjectHashTable.get_item\u001b[1;34m()\u001b[0m\n",
      "\u001b[1;31mKeyError\u001b[0m: 'accident_severity'",
      "\nThe above exception was the direct cause of the following exception:\n",
      "\u001b[1;31mKeyError\u001b[0m                                  Traceback (most recent call last)",
      "Input \u001b[1;32mIn [73]\u001b[0m, in \u001b[0;36m<cell line: 1>\u001b[1;34m()\u001b[0m\n\u001b[1;32m----> 1\u001b[0m \u001b[43msns\u001b[49m\u001b[38;5;241;43m.\u001b[39;49m\u001b[43mpairplot\u001b[49m\u001b[43m(\u001b[49m\u001b[43mdf\u001b[49m\u001b[43m[\u001b[49m\u001b[43m[\u001b[49m\u001b[38;5;124;43m'\u001b[39;49m\u001b[38;5;124;43mnumber_of_vehicles_involved\u001b[39;49m\u001b[38;5;124;43m'\u001b[39;49m\u001b[43m,\u001b[49m\u001b[43m \u001b[49m\u001b[38;5;124;43m'\u001b[39;49m\u001b[38;5;124;43mnumber_of_casualties\u001b[39;49m\u001b[38;5;124;43m'\u001b[39;49m\u001b[43m,\u001b[49m\u001b[38;5;124;43m'\u001b[39;49m\u001b[38;5;124;43mmin\u001b[39;49m\u001b[38;5;124;43m'\u001b[39;49m\u001b[43m,\u001b[49m\u001b[38;5;124;43m'\u001b[39;49m\u001b[38;5;124;43msec\u001b[39;49m\u001b[38;5;124;43m'\u001b[39;49m\u001b[43m]\u001b[49m\u001b[43m]\u001b[49m\u001b[43m,\u001b[49m\u001b[38;5;28;43mvars\u001b[39;49m\u001b[43m \u001b[49m\u001b[38;5;241;43m=\u001b[39;49m\u001b[43m \u001b[49m\u001b[43m[\u001b[49m\u001b[38;5;124;43m'\u001b[39;49m\u001b[38;5;124;43mnumber_of_vehicles_involved\u001b[39;49m\u001b[38;5;124;43m'\u001b[39;49m\u001b[43m,\u001b[49m\u001b[43m \u001b[49m\u001b[38;5;124;43m'\u001b[39;49m\u001b[38;5;124;43mnumber_of_casualties\u001b[39;49m\u001b[38;5;124;43m'\u001b[39;49m\u001b[43m,\u001b[49m\u001b[43m \u001b[49m\u001b[38;5;124;43m'\u001b[39;49m\u001b[38;5;124;43mhour\u001b[39;49m\u001b[38;5;124;43m'\u001b[39;49m\u001b[43m,\u001b[49m\u001b[43m \u001b[49m\u001b[38;5;124;43m'\u001b[39;49m\u001b[38;5;124;43mmin\u001b[39;49m\u001b[38;5;124;43m'\u001b[39;49m\u001b[43m,\u001b[49m\u001b[43m \u001b[49m\u001b[38;5;124;43m'\u001b[39;49m\u001b[38;5;124;43msec\u001b[39;49m\u001b[38;5;124;43m'\u001b[39;49m\u001b[43m]\u001b[49m\u001b[43m,\u001b[49m\u001b[43mhue\u001b[49m\u001b[38;5;241;43m=\u001b[39;49m\u001b[38;5;124;43m\"\u001b[39;49m\u001b[38;5;124;43maccident_severity\u001b[39;49m\u001b[38;5;124;43m\"\u001b[39;49m\u001b[43m,\u001b[49m\u001b[43m \u001b[49m\u001b[43mdropna\u001b[49m\u001b[38;5;241;43m=\u001b[39;49m\u001b[38;5;28;43;01mTrue\u001b[39;49;00m\u001b[43m,\u001b[49m\u001b[43mmarkers\u001b[49m\u001b[38;5;241;43m=\u001b[39;49m\u001b[43m[\u001b[49m\u001b[38;5;124;43m\"\u001b[39;49m\u001b[38;5;124;43mo\u001b[39;49m\u001b[38;5;124;43m\"\u001b[39;49m\u001b[43m,\u001b[49m\u001b[43m \u001b[49m\u001b[38;5;124;43m\"\u001b[39;49m\u001b[38;5;124;43ms\u001b[39;49m\u001b[38;5;124;43m\"\u001b[39;49m\u001b[43m]\u001b[49m\u001b[43m)\u001b[49m\n\u001b[0;32m      2\u001b[0m plt\u001b[38;5;241m.\u001b[39mtitle(\u001b[38;5;124m\"\u001b[39m\u001b[38;5;124mPair Plot wrt  accident severity\u001b[39m\u001b[38;5;124m\"\u001b[39m, bbox\u001b[38;5;241m=\u001b[39m{\u001b[38;5;124m'\u001b[39m\u001b[38;5;124mfacecolor\u001b[39m\u001b[38;5;124m'\u001b[39m:\u001b[38;5;124m'\u001b[39m\u001b[38;5;124m0.8\u001b[39m\u001b[38;5;124m'\u001b[39m,\u001b[38;5;124m'\u001b[39m\u001b[38;5;124mpad\u001b[39m\u001b[38;5;124m'\u001b[39m:\u001b[38;5;241m5\u001b[39m},fontsize \u001b[38;5;241m=\u001b[39m \u001b[38;5;241m14\u001b[39m)\n",
      "File \u001b[1;32mG:\\anaconda\\lib\\site-packages\\seaborn\\_decorators.py:46\u001b[0m, in \u001b[0;36m_deprecate_positional_args.<locals>.inner_f\u001b[1;34m(*args, **kwargs)\u001b[0m\n\u001b[0;32m     36\u001b[0m     warnings\u001b[38;5;241m.\u001b[39mwarn(\n\u001b[0;32m     37\u001b[0m         \u001b[38;5;124m\"\u001b[39m\u001b[38;5;124mPass the following variable\u001b[39m\u001b[38;5;132;01m{}\u001b[39;00m\u001b[38;5;124m as \u001b[39m\u001b[38;5;132;01m{}\u001b[39;00m\u001b[38;5;124mkeyword arg\u001b[39m\u001b[38;5;132;01m{}\u001b[39;00m\u001b[38;5;124m: \u001b[39m\u001b[38;5;132;01m{}\u001b[39;00m\u001b[38;5;124m. \u001b[39m\u001b[38;5;124m\"\u001b[39m\n\u001b[0;32m     38\u001b[0m         \u001b[38;5;124m\"\u001b[39m\u001b[38;5;124mFrom version 0.12, the only valid positional argument \u001b[39m\u001b[38;5;124m\"\u001b[39m\n\u001b[1;32m   (...)\u001b[0m\n\u001b[0;32m     43\u001b[0m         \u001b[38;5;167;01mFutureWarning\u001b[39;00m\n\u001b[0;32m     44\u001b[0m     )\n\u001b[0;32m     45\u001b[0m kwargs\u001b[38;5;241m.\u001b[39mupdate({k: arg \u001b[38;5;28;01mfor\u001b[39;00m k, arg \u001b[38;5;129;01min\u001b[39;00m \u001b[38;5;28mzip\u001b[39m(sig\u001b[38;5;241m.\u001b[39mparameters, args)})\n\u001b[1;32m---> 46\u001b[0m \u001b[38;5;28;01mreturn\u001b[39;00m f(\u001b[38;5;241m*\u001b[39m\u001b[38;5;241m*\u001b[39mkwargs)\n",
      "File \u001b[1;32mG:\\anaconda\\lib\\site-packages\\seaborn\\axisgrid.py:2096\u001b[0m, in \u001b[0;36mpairplot\u001b[1;34m(data, hue, hue_order, palette, vars, x_vars, y_vars, kind, diag_kind, markers, height, aspect, corner, dropna, plot_kws, diag_kws, grid_kws, size)\u001b[0m\n\u001b[0;32m   2094\u001b[0m \u001b[38;5;66;03m# Set up the PairGrid\u001b[39;00m\n\u001b[0;32m   2095\u001b[0m grid_kws\u001b[38;5;241m.\u001b[39msetdefault(\u001b[38;5;124m\"\u001b[39m\u001b[38;5;124mdiag_sharey\u001b[39m\u001b[38;5;124m\"\u001b[39m, diag_kind \u001b[38;5;241m==\u001b[39m \u001b[38;5;124m\"\u001b[39m\u001b[38;5;124mhist\u001b[39m\u001b[38;5;124m\"\u001b[39m)\n\u001b[1;32m-> 2096\u001b[0m grid \u001b[38;5;241m=\u001b[39m PairGrid(data, \u001b[38;5;28mvars\u001b[39m\u001b[38;5;241m=\u001b[39m\u001b[38;5;28mvars\u001b[39m, x_vars\u001b[38;5;241m=\u001b[39mx_vars, y_vars\u001b[38;5;241m=\u001b[39my_vars, hue\u001b[38;5;241m=\u001b[39mhue,\n\u001b[0;32m   2097\u001b[0m                 hue_order\u001b[38;5;241m=\u001b[39mhue_order, palette\u001b[38;5;241m=\u001b[39mpalette, corner\u001b[38;5;241m=\u001b[39mcorner,\n\u001b[0;32m   2098\u001b[0m                 height\u001b[38;5;241m=\u001b[39mheight, aspect\u001b[38;5;241m=\u001b[39maspect, dropna\u001b[38;5;241m=\u001b[39mdropna, \u001b[38;5;241m*\u001b[39m\u001b[38;5;241m*\u001b[39mgrid_kws)\n\u001b[0;32m   2100\u001b[0m \u001b[38;5;66;03m# Add the markers here as PairGrid has figured out how many levels of the\u001b[39;00m\n\u001b[0;32m   2101\u001b[0m \u001b[38;5;66;03m# hue variable are needed and we don't want to duplicate that process\u001b[39;00m\n\u001b[0;32m   2102\u001b[0m \u001b[38;5;28;01mif\u001b[39;00m markers \u001b[38;5;129;01mis\u001b[39;00m \u001b[38;5;129;01mnot\u001b[39;00m \u001b[38;5;28;01mNone\u001b[39;00m:\n",
      "File \u001b[1;32mG:\\anaconda\\lib\\site-packages\\seaborn\\_decorators.py:46\u001b[0m, in \u001b[0;36m_deprecate_positional_args.<locals>.inner_f\u001b[1;34m(*args, **kwargs)\u001b[0m\n\u001b[0;32m     36\u001b[0m     warnings\u001b[38;5;241m.\u001b[39mwarn(\n\u001b[0;32m     37\u001b[0m         \u001b[38;5;124m\"\u001b[39m\u001b[38;5;124mPass the following variable\u001b[39m\u001b[38;5;132;01m{}\u001b[39;00m\u001b[38;5;124m as \u001b[39m\u001b[38;5;132;01m{}\u001b[39;00m\u001b[38;5;124mkeyword arg\u001b[39m\u001b[38;5;132;01m{}\u001b[39;00m\u001b[38;5;124m: \u001b[39m\u001b[38;5;132;01m{}\u001b[39;00m\u001b[38;5;124m. \u001b[39m\u001b[38;5;124m\"\u001b[39m\n\u001b[0;32m     38\u001b[0m         \u001b[38;5;124m\"\u001b[39m\u001b[38;5;124mFrom version 0.12, the only valid positional argument \u001b[39m\u001b[38;5;124m\"\u001b[39m\n\u001b[1;32m   (...)\u001b[0m\n\u001b[0;32m     43\u001b[0m         \u001b[38;5;167;01mFutureWarning\u001b[39;00m\n\u001b[0;32m     44\u001b[0m     )\n\u001b[0;32m     45\u001b[0m kwargs\u001b[38;5;241m.\u001b[39mupdate({k: arg \u001b[38;5;28;01mfor\u001b[39;00m k, arg \u001b[38;5;129;01min\u001b[39;00m \u001b[38;5;28mzip\u001b[39m(sig\u001b[38;5;241m.\u001b[39mparameters, args)})\n\u001b[1;32m---> 46\u001b[0m \u001b[38;5;28;01mreturn\u001b[39;00m f(\u001b[38;5;241m*\u001b[39m\u001b[38;5;241m*\u001b[39mkwargs)\n",
      "File \u001b[1;32mG:\\anaconda\\lib\\site-packages\\seaborn\\axisgrid.py:1289\u001b[0m, in \u001b[0;36mPairGrid.__init__\u001b[1;34m(self, data, hue, hue_order, palette, hue_kws, vars, x_vars, y_vars, corner, diag_sharey, height, aspect, layout_pad, despine, dropna, size)\u001b[0m\n\u001b[0;32m   1278\u001b[0m     \u001b[38;5;28mself\u001b[39m\u001b[38;5;241m.\u001b[39mhue_vals \u001b[38;5;241m=\u001b[39m pd\u001b[38;5;241m.\u001b[39mSeries([\u001b[38;5;124m\"\u001b[39m\u001b[38;5;124m_nolegend_\u001b[39m\u001b[38;5;124m\"\u001b[39m] \u001b[38;5;241m*\u001b[39m \u001b[38;5;28mlen\u001b[39m(data),\n\u001b[0;32m   1279\u001b[0m                               index\u001b[38;5;241m=\u001b[39mdata\u001b[38;5;241m.\u001b[39mindex)\n\u001b[0;32m   1280\u001b[0m \u001b[38;5;28;01melse\u001b[39;00m:\n\u001b[0;32m   1281\u001b[0m     \u001b[38;5;66;03m# We need hue_order and hue_names because the former is used to control\u001b[39;00m\n\u001b[0;32m   1282\u001b[0m     \u001b[38;5;66;03m# the order of drawing and the latter is used to control the order of\u001b[39;00m\n\u001b[1;32m   (...)\u001b[0m\n\u001b[0;32m   1287\u001b[0m     \u001b[38;5;66;03m# to the axes-level functions, while always handling legend creation.\u001b[39;00m\n\u001b[0;32m   1288\u001b[0m     \u001b[38;5;66;03m# See GH2307\u001b[39;00m\n\u001b[1;32m-> 1289\u001b[0m     hue_names \u001b[38;5;241m=\u001b[39m hue_order \u001b[38;5;241m=\u001b[39m categorical_order(\u001b[43mdata\u001b[49m\u001b[43m[\u001b[49m\u001b[43mhue\u001b[49m\u001b[43m]\u001b[49m, hue_order)\n\u001b[0;32m   1290\u001b[0m     \u001b[38;5;28;01mif\u001b[39;00m dropna:\n\u001b[0;32m   1291\u001b[0m         \u001b[38;5;66;03m# Filter NA from the list of unique hue names\u001b[39;00m\n\u001b[0;32m   1292\u001b[0m         hue_names \u001b[38;5;241m=\u001b[39m \u001b[38;5;28mlist\u001b[39m(\u001b[38;5;28mfilter\u001b[39m(pd\u001b[38;5;241m.\u001b[39mnotnull, hue_names))\n",
      "File \u001b[1;32mG:\\anaconda\\lib\\site-packages\\pandas\\core\\frame.py:3505\u001b[0m, in \u001b[0;36mDataFrame.__getitem__\u001b[1;34m(self, key)\u001b[0m\n\u001b[0;32m   3503\u001b[0m \u001b[38;5;28;01mif\u001b[39;00m \u001b[38;5;28mself\u001b[39m\u001b[38;5;241m.\u001b[39mcolumns\u001b[38;5;241m.\u001b[39mnlevels \u001b[38;5;241m>\u001b[39m \u001b[38;5;241m1\u001b[39m:\n\u001b[0;32m   3504\u001b[0m     \u001b[38;5;28;01mreturn\u001b[39;00m \u001b[38;5;28mself\u001b[39m\u001b[38;5;241m.\u001b[39m_getitem_multilevel(key)\n\u001b[1;32m-> 3505\u001b[0m indexer \u001b[38;5;241m=\u001b[39m \u001b[38;5;28;43mself\u001b[39;49m\u001b[38;5;241;43m.\u001b[39;49m\u001b[43mcolumns\u001b[49m\u001b[38;5;241;43m.\u001b[39;49m\u001b[43mget_loc\u001b[49m\u001b[43m(\u001b[49m\u001b[43mkey\u001b[49m\u001b[43m)\u001b[49m\n\u001b[0;32m   3506\u001b[0m \u001b[38;5;28;01mif\u001b[39;00m is_integer(indexer):\n\u001b[0;32m   3507\u001b[0m     indexer \u001b[38;5;241m=\u001b[39m [indexer]\n",
      "File \u001b[1;32mG:\\anaconda\\lib\\site-packages\\pandas\\core\\indexes\\base.py:3623\u001b[0m, in \u001b[0;36mIndex.get_loc\u001b[1;34m(self, key, method, tolerance)\u001b[0m\n\u001b[0;32m   3621\u001b[0m     \u001b[38;5;28;01mreturn\u001b[39;00m \u001b[38;5;28mself\u001b[39m\u001b[38;5;241m.\u001b[39m_engine\u001b[38;5;241m.\u001b[39mget_loc(casted_key)\n\u001b[0;32m   3622\u001b[0m \u001b[38;5;28;01mexcept\u001b[39;00m \u001b[38;5;167;01mKeyError\u001b[39;00m \u001b[38;5;28;01mas\u001b[39;00m err:\n\u001b[1;32m-> 3623\u001b[0m     \u001b[38;5;28;01mraise\u001b[39;00m \u001b[38;5;167;01mKeyError\u001b[39;00m(key) \u001b[38;5;28;01mfrom\u001b[39;00m \u001b[38;5;21;01merr\u001b[39;00m\n\u001b[0;32m   3624\u001b[0m \u001b[38;5;28;01mexcept\u001b[39;00m \u001b[38;5;167;01mTypeError\u001b[39;00m:\n\u001b[0;32m   3625\u001b[0m     \u001b[38;5;66;03m# If we have a listlike key, _check_indexing_error will raise\u001b[39;00m\n\u001b[0;32m   3626\u001b[0m     \u001b[38;5;66;03m#  InvalidIndexError. Otherwise we fall through and re-raise\u001b[39;00m\n\u001b[0;32m   3627\u001b[0m     \u001b[38;5;66;03m#  the TypeError.\u001b[39;00m\n\u001b[0;32m   3628\u001b[0m     \u001b[38;5;28mself\u001b[39m\u001b[38;5;241m.\u001b[39m_check_indexing_error(key)\n",
      "\u001b[1;31mKeyError\u001b[0m: 'accident_severity'"
     ]
    },
    {
     "data": {
      "image/png": "[encoded data removed]",
      "text/plain": [
       "<Figure size 900x900 with 25 Axes>"
      ]
     },
     "metadata": {
      "needs_background": "light"
     },
     "output_type": "display_data"
    }
   ],
   "source": [
    "sns.pairplot(df[['number_of_vehicles_involved', 'number_of_casualties','min','sec']],vars = ['number_of_vehicles_involved', 'number_of_casualties', 'hour', 'min', 'sec'],hue=\"accident_severity\", dropna=True,markers=[\"o\", \"s\"])\n",
    "plt.title(\"Pair Plot wrt  accident severity\", bbox={'facecolor':'0.8','pad':5},fontsize = 14)\n",
    "#plt.title('Pair Plot')"
   ]
  },
  {
   "cell_type": "markdown",
   "id": "d36f9de8",
   "metadata": {},
   "source": [
    "<a name = Section7></a>\n",
    "\n",
    "---\n",
    "# **7. Data Post-Processing**"
   ]
  },
  {
   "cell_type": "markdown",
   "id": "e7672395",
   "metadata": {
    "ExecuteTime": {
     "end_time": "2022-03-02T12:18:24.004656Z",
     "start_time": "2022-03-02T12:18:23.985621Z"
    }
   },
   "source": [
    "<a name = Section71></a>\n",
    "### **7.1 Data Encoding**\n",
    "\n",
    "- In this section, we will encode our categorical features as necessary and manipulate any column as necessary"
   ]
  },
  {
   "cell_type": "code",
   "execution_count": 75,
   "id": "7197a742",
   "metadata": {
    "ExecuteTime": {
     "end_time": "2022-03-13T11:59:51.478366Z",
     "start_time": "2022-03-13T11:59:51.455117Z"
    }
   },
   "outputs": [
    {
     "data": {
      "text/plain": [
       "Index(['time', 'day_of_week', 'age_band_of_driver', 'sex_of_driver',\n",
       "       'educational_level', 'vehicle_driver_relation', 'driving_experience',\n",
       "       'type_of_vehicle', 'owner_of_vehicle', 'service_year_of_vehicle',\n",
       "       'defect_of_vehicle', 'area_accident_occured', 'lanes_or_medians',\n",
       "       'road_allignment', 'types_of_junction', 'road_surface_type',\n",
       "       'road_surface_conditions', 'light_conditions', 'weather_conditions',\n",
       "       'type_of_collision', 'number_of_vehicles_involved',\n",
       "       'number_of_casualties', 'vehicle_movement', 'casualty_class',\n",
       "       'sex_of_casualty', 'age_band_of_casualty', 'casualty_severity',\n",
       "       'work_of_casuality', 'fitness_of_casuality', 'pedestrian_movement',\n",
       "       'cause_of_accident', 'accident_severity', 'hour', 'min', 'sec'],\n",
       "      dtype='object')"
      ]
     },
     "execution_count": 75,
     "metadata": {},
     "output_type": "execute_result"
    }
   ],
   "source": [
    "df.columns"
   ]
  },
  {
   "cell_type": "code",
   "execution_count": 76,
   "id": "640db8fb",
   "metadata": {
    "ExecuteTime": {
     "end_time": "2022-03-13T11:59:52.023289Z",
     "start_time": "2022-03-13T11:59:52.006243Z"
    }
   },
   "outputs": [
    {
     "data": {
      "text/plain": [
       "(12316, 35)"
      ]
     },
     "execution_count": 76,
     "metadata": {},
     "output_type": "execute_result"
    }
   ],
   "source": [
    "df.shape"
   ]
  },
  {
   "cell_type": "code",
   "execution_count": 77,
   "id": "0cc9e7e3",
   "metadata": {
    "ExecuteTime": {
     "end_time": "2022-03-13T11:59:52.691871Z",
     "start_time": "2022-03-13T11:59:52.306120Z"
    }
   },
   "outputs": [],
   "source": [
    "from sklearn.preprocessing import LabelEncoder\n",
    "le = LabelEncoder()\n",
    "for a in fcatcol:    \n",
    "    df[a]= le.fit_transform(df[a])"
   ]
  },
  {
   "cell_type": "code",
   "execution_count": 78,
   "id": "f0fcf3c6",
   "metadata": {
    "ExecuteTime": {
     "end_time": "2022-03-13T11:59:52.753954Z",
     "start_time": "2022-03-13T11:59:52.700191Z"
    }
   },
   "outputs": [
    {
     "data": {
      "text/html": [
       "<div>\n",
       "<style scoped>\n",
       "    .dataframe tbody tr th:only-of-type {\n",
       "        vertical-align: middle;\n",
       "    }\n",
       "\n",
       "    .dataframe tbody tr th {\n",
       "        vertical-align: top;\n",
       "    }\n",
       "\n",
       "    .dataframe thead th {\n",
       "        text-align: right;\n",
       "    }\n",
       "</style>\n",
       "<table border=\"1\" class=\"dataframe\">\n",
       "  <thead>\n",
       "    <tr style=\"text-align: right;\">\n",
       "      <th></th>\n",
       "      <th>time</th>\n",
       "      <th>day_of_week</th>\n",
       "      <th>age_band_of_driver</th>\n",
       "      <th>sex_of_driver</th>\n",
       "      <th>educational_level</th>\n",
       "      <th>vehicle_driver_relation</th>\n",
       "      <th>driving_experience</th>\n",
       "      <th>type_of_vehicle</th>\n",
       "      <th>owner_of_vehicle</th>\n",
       "      <th>service_year_of_vehicle</th>\n",
       "      <th>defect_of_vehicle</th>\n",
       "      <th>area_accident_occured</th>\n",
       "      <th>lanes_or_medians</th>\n",
       "      <th>road_allignment</th>\n",
       "      <th>types_of_junction</th>\n",
       "      <th>road_surface_type</th>\n",
       "      <th>road_surface_conditions</th>\n",
       "      <th>light_conditions</th>\n",
       "      <th>weather_conditions</th>\n",
       "      <th>type_of_collision</th>\n",
       "      <th>number_of_vehicles_involved</th>\n",
       "      <th>number_of_casualties</th>\n",
       "      <th>vehicle_movement</th>\n",
       "      <th>casualty_class</th>\n",
       "      <th>sex_of_casualty</th>\n",
       "      <th>age_band_of_casualty</th>\n",
       "      <th>casualty_severity</th>\n",
       "      <th>work_of_casuality</th>\n",
       "      <th>fitness_of_casuality</th>\n",
       "      <th>pedestrian_movement</th>\n",
       "      <th>cause_of_accident</th>\n",
       "      <th>accident_severity</th>\n",
       "      <th>hour</th>\n",
       "      <th>min</th>\n",
       "      <th>sec</th>\n",
       "    </tr>\n",
       "  </thead>\n",
       "  <tbody>\n",
       "    <tr>\n",
       "      <th>0</th>\n",
       "      <td>2022-03-13 17:02:00</td>\n",
       "      <td>1</td>\n",
       "      <td>0</td>\n",
       "      <td>1</td>\n",
       "      <td>0</td>\n",
       "      <td>0</td>\n",
       "      <td>0</td>\n",
       "      <td>0</td>\n",
       "      <td>3</td>\n",
       "      <td>3</td>\n",
       "      <td>2</td>\n",
       "      <td>9</td>\n",
       "      <td>2</td>\n",
       "      <td>5</td>\n",
       "      <td>1</td>\n",
       "      <td>0</td>\n",
       "      <td>0</td>\n",
       "      <td>3</td>\n",
       "      <td>2</td>\n",
       "      <td>3</td>\n",
       "      <td>2</td>\n",
       "      <td>2.0</td>\n",
       "      <td>2</td>\n",
       "      <td>3</td>\n",
       "      <td>2</td>\n",
       "      <td>5</td>\n",
       "      <td>3</td>\n",
       "      <td>0</td>\n",
       "      <td>2</td>\n",
       "      <td>5</td>\n",
       "      <td>9</td>\n",
       "      <td>2</td>\n",
       "      <td>17</td>\n",
       "      <td>2</td>\n",
       "      <td>0</td>\n",
       "    </tr>\n",
       "    <tr>\n",
       "      <th>1</th>\n",
       "      <td>2022-03-13 17:02:00</td>\n",
       "      <td>1</td>\n",
       "      <td>1</td>\n",
       "      <td>1</td>\n",
       "      <td>4</td>\n",
       "      <td>0</td>\n",
       "      <td>3</td>\n",
       "      <td>11</td>\n",
       "      <td>3</td>\n",
       "      <td>2</td>\n",
       "      <td>2</td>\n",
       "      <td>6</td>\n",
       "      <td>4</td>\n",
       "      <td>5</td>\n",
       "      <td>1</td>\n",
       "      <td>0</td>\n",
       "      <td>0</td>\n",
       "      <td>3</td>\n",
       "      <td>2</td>\n",
       "      <td>8</td>\n",
       "      <td>2</td>\n",
       "      <td>2.0</td>\n",
       "      <td>2</td>\n",
       "      <td>3</td>\n",
       "      <td>2</td>\n",
       "      <td>5</td>\n",
       "      <td>3</td>\n",
       "      <td>0</td>\n",
       "      <td>2</td>\n",
       "      <td>5</td>\n",
       "      <td>16</td>\n",
       "      <td>2</td>\n",
       "      <td>17</td>\n",
       "      <td>2</td>\n",
       "      <td>0</td>\n",
       "    </tr>\n",
       "    <tr>\n",
       "      <th>2</th>\n",
       "      <td>2022-03-13 17:02:00</td>\n",
       "      <td>1</td>\n",
       "      <td>0</td>\n",
       "      <td>1</td>\n",
       "      <td>4</td>\n",
       "      <td>0</td>\n",
       "      <td>0</td>\n",
       "      <td>5</td>\n",
       "      <td>3</td>\n",
       "      <td>5</td>\n",
       "      <td>2</td>\n",
       "      <td>1</td>\n",
       "      <td>6</td>\n",
       "      <td>5</td>\n",
       "      <td>1</td>\n",
       "      <td>0</td>\n",
       "      <td>0</td>\n",
       "      <td>3</td>\n",
       "      <td>2</td>\n",
       "      <td>2</td>\n",
       "      <td>2</td>\n",
       "      <td>2.0</td>\n",
       "      <td>2</td>\n",
       "      <td>0</td>\n",
       "      <td>1</td>\n",
       "      <td>1</td>\n",
       "      <td>2</td>\n",
       "      <td>0</td>\n",
       "      <td>2</td>\n",
       "      <td>5</td>\n",
       "      <td>0</td>\n",
       "      <td>1</td>\n",
       "      <td>17</td>\n",
       "      <td>2</td>\n",
       "      <td>0</td>\n",
       "    </tr>\n",
       "    <tr>\n",
       "      <th>3</th>\n",
       "      <td>2022-03-13 01:06:00</td>\n",
       "      <td>3</td>\n",
       "      <td>0</td>\n",
       "      <td>1</td>\n",
       "      <td>4</td>\n",
       "      <td>0</td>\n",
       "      <td>2</td>\n",
       "      <td>11</td>\n",
       "      <td>0</td>\n",
       "      <td>5</td>\n",
       "      <td>2</td>\n",
       "      <td>6</td>\n",
       "      <td>6</td>\n",
       "      <td>6</td>\n",
       "      <td>7</td>\n",
       "      <td>2</td>\n",
       "      <td>0</td>\n",
       "      <td>0</td>\n",
       "      <td>2</td>\n",
       "      <td>8</td>\n",
       "      <td>2</td>\n",
       "      <td>2.0</td>\n",
       "      <td>2</td>\n",
       "      <td>2</td>\n",
       "      <td>0</td>\n",
       "      <td>0</td>\n",
       "      <td>2</td>\n",
       "      <td>0</td>\n",
       "      <td>2</td>\n",
       "      <td>5</td>\n",
       "      <td>1</td>\n",
       "      <td>2</td>\n",
       "      <td>1</td>\n",
       "      <td>6</td>\n",
       "      <td>0</td>\n",
       "    </tr>\n",
       "    <tr>\n",
       "      <th>4</th>\n",
       "      <td>2022-03-13 01:06:00</td>\n",
       "      <td>3</td>\n",
       "      <td>0</td>\n",
       "      <td>1</td>\n",
       "      <td>4</td>\n",
       "      <td>0</td>\n",
       "      <td>1</td>\n",
       "      <td>0</td>\n",
       "      <td>3</td>\n",
       "      <td>2</td>\n",
       "      <td>2</td>\n",
       "      <td>4</td>\n",
       "      <td>6</td>\n",
       "      <td>5</td>\n",
       "      <td>7</td>\n",
       "      <td>0</td>\n",
       "      <td>0</td>\n",
       "      <td>0</td>\n",
       "      <td>2</td>\n",
       "      <td>8</td>\n",
       "      <td>2</td>\n",
       "      <td>2.0</td>\n",
       "      <td>2</td>\n",
       "      <td>3</td>\n",
       "      <td>2</td>\n",
       "      <td>5</td>\n",
       "      <td>3</td>\n",
       "      <td>0</td>\n",
       "      <td>2</td>\n",
       "      <td>5</td>\n",
       "      <td>16</td>\n",
       "      <td>2</td>\n",
       "      <td>1</td>\n",
       "      <td>6</td>\n",
       "      <td>0</td>\n",
       "    </tr>\n",
       "  </tbody>\n",
       "</table>\n",
       "</div>"
      ],
      "text/plain": [
       "                 time  day_of_week  age_band_of_driver  sex_of_driver  \\\n",
       "0 2022-03-13 17:02:00            1                   0              1   \n",
       "1 2022-03-13 17:02:00            1                   1              1   \n",
       "2 2022-03-13 17:02:00            1                   0              1   \n",
       "3 2022-03-13 01:06:00            3                   0              1   \n",
       "4 2022-03-13 01:06:00            3                   0              1   \n",
       "\n",
       "   educational_level  vehicle_driver_relation  driving_experience  \\\n",
       "0                  0                        0                   0   \n",
       "1                  4                        0                   3   \n",
       "2                  4                        0                   0   \n",
       "3                  4                        0                   2   \n",
       "4                  4                        0                   1   \n",
       "\n",
       "   type_of_vehicle  owner_of_vehicle  service_year_of_vehicle  \\\n",
       "0                0                 3                        3   \n",
       "1               11                 3                        2   \n",
       "2                5                 3                        5   \n",
       "3               11                 0                        5   \n",
       "4                0                 3                        2   \n",
       "\n",
       "   defect_of_vehicle  area_accident_occured  lanes_or_medians  \\\n",
       "0                  2                      9                 2   \n",
       "1                  2                      6                 4   \n",
       "2                  2                      1                 6   \n",
       "3                  2                      6                 6   \n",
       "4                  2                      4                 6   \n",
       "\n",
       "   road_allignment  types_of_junction  road_surface_type  \\\n",
       "0                5                  1                  0   \n",
       "1                5                  1                  0   \n",
       "2                5                  1                  0   \n",
       "3                6                  7                  2   \n",
       "4                5                  7                  0   \n",
       "\n",
       "   road_surface_conditions  light_conditions  weather_conditions  \\\n",
       "0                        0                 3                   2   \n",
       "1                        0                 3                   2   \n",
       "2                        0                 3                   2   \n",
       "3                        0                 0                   2   \n",
       "4                        0                 0                   2   \n",
       "\n",
       "   type_of_collision  number_of_vehicles_involved  number_of_casualties  \\\n",
       "0                  3                            2                   2.0   \n",
       "1                  8                            2                   2.0   \n",
       "2                  2                            2                   2.0   \n",
       "3                  8                            2                   2.0   \n",
       "4                  8                            2                   2.0   \n",
       "\n",
       "   vehicle_movement  casualty_class  sex_of_casualty  age_band_of_casualty  \\\n",
       "0                 2               3                2                     5   \n",
       "1                 2               3                2                     5   \n",
       "2                 2               0                1                     1   \n",
       "3                 2               2                0                     0   \n",
       "4                 2               3                2                     5   \n",
       "\n",
       "   casualty_severity  work_of_casuality  fitness_of_casuality  \\\n",
       "0                  3                  0                     2   \n",
       "1                  3                  0                     2   \n",
       "2                  2                  0                     2   \n",
       "3                  2                  0                     2   \n",
       "4                  3                  0                     2   \n",
       "\n",
       "   pedestrian_movement  cause_of_accident  accident_severity  hour  min  sec  \n",
       "0                    5                  9                  2    17    2    0  \n",
       "1                    5                 16                  2    17    2    0  \n",
       "2                    5                  0                  1    17    2    0  \n",
       "3                    5                  1                  2     1    6    0  \n",
       "4                    5                 16                  2     1    6    0  "
      ]
     },
     "execution_count": 78,
     "metadata": {},
     "output_type": "execute_result"
    }
   ],
   "source": [
    "df.head()"
   ]
  },
  {
   "cell_type": "code",
   "execution_count": 79,
   "id": "9435eb32",
   "metadata": {
    "ExecuteTime": {
     "end_time": "2022-03-13T11:59:55.320597Z",
     "start_time": "2022-03-13T11:59:52.758466Z"
    }
   },
   "outputs": [
    {
     "data": {
      "text/html": [
       "<div>\n",
       "<style scoped>\n",
       "    .dataframe tbody tr th:only-of-type {\n",
       "        vertical-align: middle;\n",
       "    }\n",
       "\n",
       "    .dataframe tbody tr th {\n",
       "        vertical-align: top;\n",
       "    }\n",
       "\n",
       "    .dataframe thead th {\n",
       "        text-align: right;\n",
       "    }\n",
       "</style>\n",
       "<table border=\"1\" class=\"dataframe\">\n",
       "  <thead>\n",
       "    <tr style=\"text-align: right;\">\n",
       "      <th></th>\n",
       "      <th>features</th>\n",
       "      <th>VIF</th>\n",
       "    </tr>\n",
       "  </thead>\n",
       "  <tbody>\n",
       "    <tr>\n",
       "      <th>0</th>\n",
       "      <td>number_of_vehicles_involved</td>\n",
       "      <td>14.116288</td>\n",
       "    </tr>\n",
       "    <tr>\n",
       "      <th>1</th>\n",
       "      <td>number_of_casualties</td>\n",
       "      <td>1.001946</td>\n",
       "    </tr>\n",
       "    <tr>\n",
       "      <th>2</th>\n",
       "      <td>hour</td>\n",
       "      <td>1.004535</td>\n",
       "    </tr>\n",
       "    <tr>\n",
       "      <th>3</th>\n",
       "      <td>min</td>\n",
       "      <td>1.002854</td>\n",
       "    </tr>\n",
       "    <tr>\n",
       "      <th>4</th>\n",
       "      <td>sec</td>\n",
       "      <td>NaN</td>\n",
       "    </tr>\n",
       "  </tbody>\n",
       "</table>\n",
       "</div>"
      ],
      "text/plain": [
       "                      features        VIF\n",
       "0  number_of_vehicles_involved  14.116288\n",
       "1         number_of_casualties   1.001946\n",
       "2                         hour   1.004535\n",
       "3                          min   1.002854\n",
       "4                          sec        NaN"
      ]
     },
     "execution_count": 79,
     "metadata": {},
     "output_type": "execute_result"
    }
   ],
   "source": [
    "# VIF\n",
    "from statsmodels.stats.outliers_influence import variance_inflation_factor\n",
    "vartrain = df[['number_of_vehicles_involved', 'number_of_casualties', 'hour', 'min', 'sec']]\n",
    "vif = pd.DataFrame()\n",
    "vif['features'] = vartrain.columns\n",
    "vif['VIF'] = [variance_inflation_factor(\n",
    "    vartrain.values, i) for i in range(vartrain.shape[1])]\n",
    "vif"
   ]
  },
  {
   "cell_type": "code",
   "execution_count": 80,
   "id": "c92313c7",
   "metadata": {
    "ExecuteTime": {
     "end_time": "2022-03-13T11:59:55.382819Z",
     "start_time": "2022-03-13T11:59:55.327108Z"
    }
   },
   "outputs": [
    {
     "data": {
      "text/html": [
       "<div>\n",
       "<style scoped>\n",
       "    .dataframe tbody tr th:only-of-type {\n",
       "        vertical-align: middle;\n",
       "    }\n",
       "\n",
       "    .dataframe tbody tr th {\n",
       "        vertical-align: top;\n",
       "    }\n",
       "\n",
       "    .dataframe thead th {\n",
       "        text-align: right;\n",
       "    }\n",
       "</style>\n",
       "<table border=\"1\" class=\"dataframe\">\n",
       "  <thead>\n",
       "    <tr style=\"text-align: right;\">\n",
       "      <th></th>\n",
       "      <th>features</th>\n",
       "      <th>VIF</th>\n",
       "    </tr>\n",
       "  </thead>\n",
       "  <tbody>\n",
       "    <tr>\n",
       "      <th>0</th>\n",
       "      <td>number_of_casualties</td>\n",
       "      <td>3.568790</td>\n",
       "    </tr>\n",
       "    <tr>\n",
       "      <th>1</th>\n",
       "      <td>hour</td>\n",
       "      <td>4.021091</td>\n",
       "    </tr>\n",
       "    <tr>\n",
       "      <th>2</th>\n",
       "      <td>min</td>\n",
       "      <td>2.797608</td>\n",
       "    </tr>\n",
       "  </tbody>\n",
       "</table>\n",
       "</div>"
      ],
      "text/plain": [
       "               features       VIF\n",
       "0  number_of_casualties  3.568790\n",
       "1                  hour  4.021091\n",
       "2                   min  2.797608"
      ]
     },
     "execution_count": 80,
     "metadata": {},
     "output_type": "execute_result"
    }
   ],
   "source": [
    "vartrain = df[['number_of_casualties', 'hour', 'min']]\n",
    "vif = pd.DataFrame()\n",
    "vif['features'] = vartrain.columns\n",
    "vif['VIF'] = [variance_inflation_factor(\n",
    "    vartrain.values, i) for i in range(vartrain.shape[1])]\n",
    "vif"
   ]
  },
  {
   "cell_type": "code",
   "execution_count": 81,
   "id": "a6e961db",
   "metadata": {
    "ExecuteTime": {
     "end_time": "2022-03-13T11:59:55.581769Z",
     "start_time": "2022-03-13T11:59:55.387767Z"
    }
   },
   "outputs": [],
   "source": [
    "finalnumcol =['number_of_casualties', 'hour', 'min']"
   ]
  },
  {
   "cell_type": "code",
   "execution_count": 82,
   "id": "b744c93c",
   "metadata": {
    "ExecuteTime": {
     "end_time": "2022-03-13T11:59:55.737189Z",
     "start_time": "2022-03-13T11:59:55.587687Z"
    }
   },
   "outputs": [
    {
     "data": {
      "text/html": [
       "<div>\n",
       "<style scoped>\n",
       "    .dataframe tbody tr th:only-of-type {\n",
       "        vertical-align: middle;\n",
       "    }\n",
       "\n",
       "    .dataframe tbody tr th {\n",
       "        vertical-align: top;\n",
       "    }\n",
       "\n",
       "    .dataframe thead th {\n",
       "        text-align: right;\n",
       "    }\n",
       "</style>\n",
       "<table border=\"1\" class=\"dataframe\">\n",
       "  <thead>\n",
       "    <tr style=\"text-align: right;\">\n",
       "      <th></th>\n",
       "      <th>day_of_week</th>\n",
       "      <th>age_band_of_driver</th>\n",
       "      <th>sex_of_driver</th>\n",
       "      <th>educational_level</th>\n",
       "      <th>vehicle_driver_relation</th>\n",
       "      <th>driving_experience</th>\n",
       "      <th>type_of_vehicle</th>\n",
       "      <th>owner_of_vehicle</th>\n",
       "      <th>service_year_of_vehicle</th>\n",
       "      <th>defect_of_vehicle</th>\n",
       "      <th>area_accident_occured</th>\n",
       "      <th>lanes_or_medians</th>\n",
       "      <th>road_allignment</th>\n",
       "      <th>types_of_junction</th>\n",
       "      <th>road_surface_type</th>\n",
       "      <th>road_surface_conditions</th>\n",
       "      <th>light_conditions</th>\n",
       "      <th>weather_conditions</th>\n",
       "      <th>type_of_collision</th>\n",
       "      <th>number_of_vehicles_involved</th>\n",
       "      <th>number_of_casualties</th>\n",
       "      <th>vehicle_movement</th>\n",
       "      <th>casualty_class</th>\n",
       "      <th>sex_of_casualty</th>\n",
       "      <th>age_band_of_casualty</th>\n",
       "      <th>casualty_severity</th>\n",
       "      <th>work_of_casuality</th>\n",
       "      <th>fitness_of_casuality</th>\n",
       "      <th>pedestrian_movement</th>\n",
       "      <th>cause_of_accident</th>\n",
       "      <th>hour</th>\n",
       "      <th>min</th>\n",
       "    </tr>\n",
       "  </thead>\n",
       "  <tbody>\n",
       "    <tr>\n",
       "      <th>0</th>\n",
       "      <td>1</td>\n",
       "      <td>0</td>\n",
       "      <td>1</td>\n",
       "      <td>0</td>\n",
       "      <td>0</td>\n",
       "      <td>0</td>\n",
       "      <td>0</td>\n",
       "      <td>3</td>\n",
       "      <td>3</td>\n",
       "      <td>2</td>\n",
       "      <td>9</td>\n",
       "      <td>2</td>\n",
       "      <td>5</td>\n",
       "      <td>1</td>\n",
       "      <td>0</td>\n",
       "      <td>0</td>\n",
       "      <td>3</td>\n",
       "      <td>2</td>\n",
       "      <td>3</td>\n",
       "      <td>2</td>\n",
       "      <td>2.0</td>\n",
       "      <td>2</td>\n",
       "      <td>3</td>\n",
       "      <td>2</td>\n",
       "      <td>5</td>\n",
       "      <td>3</td>\n",
       "      <td>0</td>\n",
       "      <td>2</td>\n",
       "      <td>5</td>\n",
       "      <td>9</td>\n",
       "      <td>17</td>\n",
       "      <td>2</td>\n",
       "    </tr>\n",
       "    <tr>\n",
       "      <th>1</th>\n",
       "      <td>1</td>\n",
       "      <td>1</td>\n",
       "      <td>1</td>\n",
       "      <td>4</td>\n",
       "      <td>0</td>\n",
       "      <td>3</td>\n",
       "      <td>11</td>\n",
       "      <td>3</td>\n",
       "      <td>2</td>\n",
       "      <td>2</td>\n",
       "      <td>6</td>\n",
       "      <td>4</td>\n",
       "      <td>5</td>\n",
       "      <td>1</td>\n",
       "      <td>0</td>\n",
       "      <td>0</td>\n",
       "      <td>3</td>\n",
       "      <td>2</td>\n",
       "      <td>8</td>\n",
       "      <td>2</td>\n",
       "      <td>2.0</td>\n",
       "      <td>2</td>\n",
       "      <td>3</td>\n",
       "      <td>2</td>\n",
       "      <td>5</td>\n",
       "      <td>3</td>\n",
       "      <td>0</td>\n",
       "      <td>2</td>\n",
       "      <td>5</td>\n",
       "      <td>16</td>\n",
       "      <td>17</td>\n",
       "      <td>2</td>\n",
       "    </tr>\n",
       "    <tr>\n",
       "      <th>2</th>\n",
       "      <td>1</td>\n",
       "      <td>0</td>\n",
       "      <td>1</td>\n",
       "      <td>4</td>\n",
       "      <td>0</td>\n",
       "      <td>0</td>\n",
       "      <td>5</td>\n",
       "      <td>3</td>\n",
       "      <td>5</td>\n",
       "      <td>2</td>\n",
       "      <td>1</td>\n",
       "      <td>6</td>\n",
       "      <td>5</td>\n",
       "      <td>1</td>\n",
       "      <td>0</td>\n",
       "      <td>0</td>\n",
       "      <td>3</td>\n",
       "      <td>2</td>\n",
       "      <td>2</td>\n",
       "      <td>2</td>\n",
       "      <td>2.0</td>\n",
       "      <td>2</td>\n",
       "      <td>0</td>\n",
       "      <td>1</td>\n",
       "      <td>1</td>\n",
       "      <td>2</td>\n",
       "      <td>0</td>\n",
       "      <td>2</td>\n",
       "      <td>5</td>\n",
       "      <td>0</td>\n",
       "      <td>17</td>\n",
       "      <td>2</td>\n",
       "    </tr>\n",
       "    <tr>\n",
       "      <th>3</th>\n",
       "      <td>3</td>\n",
       "      <td>0</td>\n",
       "      <td>1</td>\n",
       "      <td>4</td>\n",
       "      <td>0</td>\n",
       "      <td>2</td>\n",
       "      <td>11</td>\n",
       "      <td>0</td>\n",
       "      <td>5</td>\n",
       "      <td>2</td>\n",
       "      <td>6</td>\n",
       "      <td>6</td>\n",
       "      <td>6</td>\n",
       "      <td>7</td>\n",
       "      <td>2</td>\n",
       "      <td>0</td>\n",
       "      <td>0</td>\n",
       "      <td>2</td>\n",
       "      <td>8</td>\n",
       "      <td>2</td>\n",
       "      <td>2.0</td>\n",
       "      <td>2</td>\n",
       "      <td>2</td>\n",
       "      <td>0</td>\n",
       "      <td>0</td>\n",
       "      <td>2</td>\n",
       "      <td>0</td>\n",
       "      <td>2</td>\n",
       "      <td>5</td>\n",
       "      <td>1</td>\n",
       "      <td>1</td>\n",
       "      <td>6</td>\n",
       "    </tr>\n",
       "    <tr>\n",
       "      <th>4</th>\n",
       "      <td>3</td>\n",
       "      <td>0</td>\n",
       "      <td>1</td>\n",
       "      <td>4</td>\n",
       "      <td>0</td>\n",
       "      <td>1</td>\n",
       "      <td>0</td>\n",
       "      <td>3</td>\n",
       "      <td>2</td>\n",
       "      <td>2</td>\n",
       "      <td>4</td>\n",
       "      <td>6</td>\n",
       "      <td>5</td>\n",
       "      <td>7</td>\n",
       "      <td>0</td>\n",
       "      <td>0</td>\n",
       "      <td>0</td>\n",
       "      <td>2</td>\n",
       "      <td>8</td>\n",
       "      <td>2</td>\n",
       "      <td>2.0</td>\n",
       "      <td>2</td>\n",
       "      <td>3</td>\n",
       "      <td>2</td>\n",
       "      <td>5</td>\n",
       "      <td>3</td>\n",
       "      <td>0</td>\n",
       "      <td>2</td>\n",
       "      <td>5</td>\n",
       "      <td>16</td>\n",
       "      <td>1</td>\n",
       "      <td>6</td>\n",
       "    </tr>\n",
       "  </tbody>\n",
       "</table>\n",
       "</div>"
      ],
      "text/plain": [
       "   day_of_week  age_band_of_driver  sex_of_driver  educational_level  \\\n",
       "0            1                   0              1                  0   \n",
       "1            1                   1              1                  4   \n",
       "2            1                   0              1                  4   \n",
       "3            3                   0              1                  4   \n",
       "4            3                   0              1                  4   \n",
       "\n",
       "   vehicle_driver_relation  driving_experience  type_of_vehicle  \\\n",
       "0                        0                   0                0   \n",
       "1                        0                   3               11   \n",
       "2                        0                   0                5   \n",
       "3                        0                   2               11   \n",
       "4                        0                   1                0   \n",
       "\n",
       "   owner_of_vehicle  service_year_of_vehicle  defect_of_vehicle  \\\n",
       "0                 3                        3                  2   \n",
       "1                 3                        2                  2   \n",
       "2                 3                        5                  2   \n",
       "3                 0                        5                  2   \n",
       "4                 3                        2                  2   \n",
       "\n",
       "   area_accident_occured  lanes_or_medians  road_allignment  \\\n",
       "0                      9                 2                5   \n",
       "1                      6                 4                5   \n",
       "2                      1                 6                5   \n",
       "3                      6                 6                6   \n",
       "4                      4                 6                5   \n",
       "\n",
       "   types_of_junction  road_surface_type  road_surface_conditions  \\\n",
       "0                  1                  0                        0   \n",
       "1                  1                  0                        0   \n",
       "2                  1                  0                        0   \n",
       "3                  7                  2                        0   \n",
       "4                  7                  0                        0   \n",
       "\n",
       "   light_conditions  weather_conditions  type_of_collision  \\\n",
       "0                 3                   2                  3   \n",
       "1                 3                   2                  8   \n",
       "2                 3                   2                  2   \n",
       "3                 0                   2                  8   \n",
       "4                 0                   2                  8   \n",
       "\n",
       "   number_of_vehicles_involved  number_of_casualties  vehicle_movement  \\\n",
       "0                            2                   2.0                 2   \n",
       "1                            2                   2.0                 2   \n",
       "2                            2                   2.0                 2   \n",
       "3                            2                   2.0                 2   \n",
       "4                            2                   2.0                 2   \n",
       "\n",
       "   casualty_class  sex_of_casualty  age_band_of_casualty  casualty_severity  \\\n",
       "0               3                2                     5                  3   \n",
       "1               3                2                     5                  3   \n",
       "2               0                1                     1                  2   \n",
       "3               2                0                     0                  2   \n",
       "4               3                2                     5                  3   \n",
       "\n",
       "   work_of_casuality  fitness_of_casuality  pedestrian_movement  \\\n",
       "0                  0                     2                    5   \n",
       "1                  0                     2                    5   \n",
       "2                  0                     2                    5   \n",
       "3                  0                     2                    5   \n",
       "4                  0                     2                    5   \n",
       "\n",
       "   cause_of_accident  hour  min  \n",
       "0                  9    17    2  \n",
       "1                 16    17    2  \n",
       "2                  0    17    2  \n",
       "3                  1     1    6  \n",
       "4                 16     1    6  "
      ]
     },
     "execution_count": 82,
     "metadata": {},
     "output_type": "execute_result"
    }
   ],
   "source": [
    "X = df.drop(columns = ['accident_severity', 'sec','time'], axis = 1)\n",
    "X.head()"
   ]
  },
  {
   "cell_type": "code",
   "execution_count": 83,
   "id": "dab83521",
   "metadata": {
    "ExecuteTime": {
     "end_time": "2022-03-13T11:59:55.877948Z",
     "start_time": "2022-03-13T11:59:55.741087Z"
    }
   },
   "outputs": [
    {
     "name": "stdout",
     "output_type": "stream",
     "text": [
      "0\n"
     ]
    },
    {
     "data": {
      "text/plain": [
       "0    2\n",
       "1    2\n",
       "2    1\n",
       "3    2\n",
       "4    2\n",
       "Name: accident_severity, dtype: int32"
      ]
     },
     "execution_count": 83,
     "metadata": {},
     "output_type": "execute_result"
    }
   ],
   "source": [
    "y = df['accident_severity']\n",
    "print(y.isna().sum())\n",
    "y.head()"
   ]
  },
  {
   "cell_type": "code",
   "execution_count": 84,
   "id": "e9628076",
   "metadata": {
    "ExecuteTime": {
     "end_time": "2022-03-13T11:59:56.018352Z",
     "start_time": "2022-03-13T11:59:55.885662Z"
    }
   },
   "outputs": [
    {
     "data": {
      "text/plain": [
       "Index(['day_of_week', 'age_band_of_driver', 'sex_of_driver',\n",
       "       'educational_level', 'vehicle_driver_relation', 'driving_experience',\n",
       "       'type_of_vehicle', 'owner_of_vehicle', 'service_year_of_vehicle',\n",
       "       'defect_of_vehicle', 'area_accident_occured', 'lanes_or_medians',\n",
       "       'road_allignment', 'types_of_junction', 'road_surface_type',\n",
       "       'road_surface_conditions', 'light_conditions', 'weather_conditions',\n",
       "       'type_of_collision', 'number_of_vehicles_involved',\n",
       "       'number_of_casualties', 'vehicle_movement', 'casualty_class',\n",
       "       'sex_of_casualty', 'age_band_of_casualty', 'casualty_severity',\n",
       "       'work_of_casuality', 'fitness_of_casuality', 'pedestrian_movement',\n",
       "       'cause_of_accident', 'hour', 'min'],\n",
       "      dtype='object')"
      ]
     },
     "execution_count": 84,
     "metadata": {},
     "output_type": "execute_result"
    }
   ],
   "source": [
    "X.columns"
   ]
  },
  {
   "cell_type": "code",
   "execution_count": 85,
   "id": "683e1e58",
   "metadata": {
    "ExecuteTime": {
     "end_time": "2022-03-13T11:59:56.126835Z",
     "start_time": "2022-03-13T11:59:56.021966Z"
    }
   },
   "outputs": [],
   "source": [
    "num_feats = 12"
   ]
  },
  {
   "cell_type": "code",
   "execution_count": 86,
   "id": "bc69d3d2",
   "metadata": {
    "ExecuteTime": {
     "end_time": "2022-03-13T11:59:56.282666Z",
     "start_time": "2022-03-13T11:59:56.134506Z"
    }
   },
   "outputs": [
    {
     "name": "stdout",
     "output_type": "stream",
     "text": [
      "(12316, 32) (12316,)\n"
     ]
    }
   ],
   "source": [
    "print(X.shape,y.shape)"
   ]
  },
  {
   "cell_type": "code",
   "execution_count": 87,
   "id": "667186f7",
   "metadata": {
    "ExecuteTime": {
     "end_time": "2022-03-13T11:59:59.758932Z",
     "start_time": "2022-03-13T11:59:56.287827Z"
    }
   },
   "outputs": [
    {
     "name": "stdout",
     "output_type": "stream",
     "text": [
      "12 selected features\n"
     ]
    }
   ],
   "source": [
    "embeded_rf_selector = SelectFromModel(RandomForestClassifier(n_estimators=100), max_features=num_feats)\n",
    "embeded_rf_selector.fit(X, y)\n",
    "\n",
    "embeded_rf_support = embeded_rf_selector.get_support()\n",
    "embeded_rf_feature = X.loc[:,embeded_rf_support].columns.tolist()\n",
    "print(str(len(embeded_rf_feature)), 'selected features')"
   ]
  },
  {
   "cell_type": "code",
   "execution_count": 88,
   "id": "f93266ca",
   "metadata": {
    "ExecuteTime": {
     "end_time": "2022-03-13T11:59:59.790713Z",
     "start_time": "2022-03-13T11:59:59.765781Z"
    }
   },
   "outputs": [
    {
     "name": "stdout",
     "output_type": "stream",
     "text": [
      "12 selected features\n"
     ]
    }
   ],
   "source": [
    "print(str(len(embeded_rf_feature)), 'selected features')"
   ]
  },
  {
   "cell_type": "code",
   "execution_count": 89,
   "id": "b4cc7522",
   "metadata": {
    "ExecuteTime": {
     "end_time": "2022-03-13T11:59:59.914270Z",
     "start_time": "2022-03-13T11:59:59.799217Z"
    }
   },
   "outputs": [
    {
     "name": "stdout",
     "output_type": "stream",
     "text": [
      "selected features ['day_of_week', 'age_band_of_driver', 'driving_experience', 'type_of_vehicle', 'service_year_of_vehicle', 'area_accident_occured', 'lanes_or_medians', 'types_of_junction', 'vehicle_movement', 'cause_of_accident', 'hour', 'min']\n"
     ]
    }
   ],
   "source": [
    "print( 'selected features',embeded_rf_feature)"
   ]
  },
  {
   "cell_type": "code",
   "execution_count": 90,
   "id": "8461f8c0",
   "metadata": {
    "ExecuteTime": {
     "end_time": "2022-03-13T12:00:00.037048Z",
     "start_time": "2022-03-13T11:59:59.920252Z"
    }
   },
   "outputs": [],
   "source": [
    "feature_select= X[['day_of_week', 'age_band_of_driver', 'sex_of_driver',\n",
    "       'educational_level', 'vehicle_driver_relation', 'driving_experience',\n",
    "       'type_of_vehicle', 'owner_of_vehicle', 'service_year_of_vehicle',\n",
    "       'defect_of_vehicle', 'area_accident_occured', 'lanes_or_medians',\n",
    "       'road_allignment', 'types_of_junction', 'road_surface_type',\n",
    "       'road_surface_conditions', 'light_conditions', 'weather_conditions',\n",
    "       'type_of_collision', 'number_of_vehicles_involved',\n",
    "       'number_of_casualties', 'vehicle_movement', 'casualty_class',\n",
    "       'sex_of_casualty', 'age_band_of_casualty', 'casualty_severity',\n",
    "       'work_of_casuality', 'fitness_of_casuality', 'pedestrian_movement',\n",
    "       'cause_of_accident', 'hour', 'min']]"
   ]
  },
  {
   "cell_type": "code",
   "execution_count": 91,
   "id": "203f4df8",
   "metadata": {
    "ExecuteTime": {
     "end_time": "2022-03-13T12:00:01.873121Z",
     "start_time": "2022-03-13T12:00:00.040712Z"
    }
   },
   "outputs": [
    {
     "name": "stdout",
     "output_type": "stream",
     "text": [
      "Total Features Selected are 13\n",
      "Threshold set by Model: 0.03\n",
      "Features: ['day_of_week', 'age_band_of_driver', 'educational_level', 'driving_experience', 'type_of_vehicle', 'service_year_of_vehicle', 'area_accident_occured', 'lanes_or_medians', 'types_of_junction', 'vehicle_movement', 'cause_of_accident', 'hour', 'min']\n"
     ]
    }
   ],
   "source": [
    "from sklearn.feature_selection import SelectFromModel               # To select features from model using Yellow bricks\n",
    "from yellowbrick.model_selection import FeatureImportances \n",
    "from sklearn.ensemble import RandomForestClassifier   \n",
    "\n",
    "# Have some patience, may take some time :)\n",
    "selector = SelectFromModel(RandomForestClassifier(n_estimators = 100, random_state = 42, n_jobs = -1))\n",
    "selector.fit(feature_select, y)\n",
    "\n",
    "# Extracting list of important features\n",
    "selected_feat = feature_select.columns[(selector.get_support())].tolist()\n",
    "\n",
    "print('Total Features Selected are', len(selected_feat))\n",
    "\n",
    "# Estimated by taking mean(default) of feature importance\n",
    "print('Threshold set by Model:', np.round(selector.threshold_, decimals = 2))\n",
    "print('Features:', selected_feat)"
   ]
  },
  {
   "cell_type": "code",
   "execution_count": 92,
   "id": "dd24fa58",
   "metadata": {
    "ExecuteTime": {
     "end_time": "2022-03-13T12:00:04.360741Z",
     "start_time": "2022-03-13T12:00:01.876877Z"
    }
   },
   "outputs": [
    {
     "data": {
      "image/png": "[encoded data removed]",
      "text/plain": [
       "<Figure size 1440x864 with 1 Axes>"
      ]
     },
     "metadata": {
      "needs_background": "light"
     },
     "output_type": "display_data"
    }
   ],
   "source": [
    "#Visualization of Important Features:\n",
    "figure = plt.figure(figsize = [20, 12])\n",
    "\n",
    "# If you don't want relative importance, use relative = False in below method\n",
    "viz = FeatureImportances(selector.estimator, relative = False)\n",
    "viz.fit(feature_select, y)\n",
    "\n",
    "plt.xlabel('Relative Importance', size = 14)\n",
    "plt.ylabel('Features', size = 14)\n",
    "plt.title(label = 'Feature Importances', size = 16)\n",
    "plt.show()\n"
   ]
  },
  {
   "cell_type": "markdown",
   "id": "69d3009d",
   "metadata": {},
   "source": [
    "<a name = Section72></a>\n",
    "### **7.2 Data Preparation**\n",
    "\n",
    "- Now we will **split** our **data** into **dependent** and **independent** variables for further development using holdout validation technique."
   ]
  },
  {
   "cell_type": "code",
   "execution_count": 93,
   "id": "8f88fc5e",
   "metadata": {
    "ExecuteTime": {
     "end_time": "2022-03-13T12:00:04.392683Z",
     "start_time": "2022-03-13T12:00:04.367723Z"
    }
   },
   "outputs": [
    {
     "name": "stdout",
     "output_type": "stream",
     "text": [
      "X_train shape:  (9237, 32)\n",
      "y_train shape:  (9237,)\n",
      "X_test shape:  (3079, 32)\n",
      "y_test shape:  (3079,)\n"
     ]
    }
   ],
   "source": [
    "# Splitting data into training and testing sets with Test Data as 25%\n",
    "X_train, X_test, y_train, y_test = train_test_split(X, y, test_size=0.25, random_state=42)\n",
    "\n",
    "# Display the shape of training and testing data\n",
    "print('X_train shape: ', X_train.shape)\n",
    "print('y_train shape: ', y_train.shape)\n",
    "print('X_test shape: ', X_test.shape)\n",
    "print('y_test shape: ', y_test.shape)"
   ]
  },
  {
   "cell_type": "code",
   "execution_count": 94,
   "id": "d185416b",
   "metadata": {
    "ExecuteTime": {
     "end_time": "2022-03-13T12:00:04.670646Z",
     "start_time": "2022-03-13T12:00:04.400660Z"
    }
   },
   "outputs": [
    {
     "data": {
      "text/html": [
       "<div>\n",
       "<style scoped>\n",
       "    .dataframe tbody tr th:only-of-type {\n",
       "        vertical-align: middle;\n",
       "    }\n",
       "\n",
       "    .dataframe tbody tr th {\n",
       "        vertical-align: top;\n",
       "    }\n",
       "\n",
       "    .dataframe thead th {\n",
       "        text-align: right;\n",
       "    }\n",
       "</style>\n",
       "<table border=\"1\" class=\"dataframe\">\n",
       "  <thead>\n",
       "    <tr style=\"text-align: right;\">\n",
       "      <th></th>\n",
       "      <th>day_of_week</th>\n",
       "      <th>age_band_of_driver</th>\n",
       "      <th>sex_of_driver</th>\n",
       "      <th>educational_level</th>\n",
       "      <th>vehicle_driver_relation</th>\n",
       "      <th>driving_experience</th>\n",
       "      <th>type_of_vehicle</th>\n",
       "      <th>owner_of_vehicle</th>\n",
       "      <th>service_year_of_vehicle</th>\n",
       "      <th>defect_of_vehicle</th>\n",
       "      <th>area_accident_occured</th>\n",
       "      <th>lanes_or_medians</th>\n",
       "      <th>road_allignment</th>\n",
       "      <th>types_of_junction</th>\n",
       "      <th>road_surface_type</th>\n",
       "      <th>road_surface_conditions</th>\n",
       "      <th>light_conditions</th>\n",
       "      <th>weather_conditions</th>\n",
       "      <th>type_of_collision</th>\n",
       "      <th>number_of_vehicles_involved</th>\n",
       "      <th>number_of_casualties</th>\n",
       "      <th>vehicle_movement</th>\n",
       "      <th>casualty_class</th>\n",
       "      <th>sex_of_casualty</th>\n",
       "      <th>age_band_of_casualty</th>\n",
       "      <th>casualty_severity</th>\n",
       "      <th>work_of_casuality</th>\n",
       "      <th>fitness_of_casuality</th>\n",
       "      <th>pedestrian_movement</th>\n",
       "      <th>cause_of_accident</th>\n",
       "      <th>hour</th>\n",
       "      <th>min</th>\n",
       "    </tr>\n",
       "  </thead>\n",
       "  <tbody>\n",
       "    <tr>\n",
       "      <th>36</th>\n",
       "      <td>0</td>\n",
       "      <td>0</td>\n",
       "      <td>1</td>\n",
       "      <td>0</td>\n",
       "      <td>0</td>\n",
       "      <td>0</td>\n",
       "      <td>15</td>\n",
       "      <td>3</td>\n",
       "      <td>5</td>\n",
       "      <td>2</td>\n",
       "      <td>6</td>\n",
       "      <td>0</td>\n",
       "      <td>5</td>\n",
       "      <td>0</td>\n",
       "      <td>0</td>\n",
       "      <td>0</td>\n",
       "      <td>0</td>\n",
       "      <td>2</td>\n",
       "      <td>3</td>\n",
       "      <td>2</td>\n",
       "      <td>2.0</td>\n",
       "      <td>2</td>\n",
       "      <td>3</td>\n",
       "      <td>2</td>\n",
       "      <td>5</td>\n",
       "      <td>3</td>\n",
       "      <td>0</td>\n",
       "      <td>2</td>\n",
       "      <td>5</td>\n",
       "      <td>12</td>\n",
       "      <td>20</td>\n",
       "      <td>30</td>\n",
       "    </tr>\n",
       "    <tr>\n",
       "      <th>6693</th>\n",
       "      <td>5</td>\n",
       "      <td>1</td>\n",
       "      <td>1</td>\n",
       "      <td>2</td>\n",
       "      <td>0</td>\n",
       "      <td>0</td>\n",
       "      <td>14</td>\n",
       "      <td>3</td>\n",
       "      <td>3</td>\n",
       "      <td>2</td>\n",
       "      <td>7</td>\n",
       "      <td>2</td>\n",
       "      <td>5</td>\n",
       "      <td>1</td>\n",
       "      <td>0</td>\n",
       "      <td>3</td>\n",
       "      <td>3</td>\n",
       "      <td>4</td>\n",
       "      <td>4</td>\n",
       "      <td>2</td>\n",
       "      <td>1.0</td>\n",
       "      <td>1</td>\n",
       "      <td>3</td>\n",
       "      <td>2</td>\n",
       "      <td>5</td>\n",
       "      <td>3</td>\n",
       "      <td>3</td>\n",
       "      <td>2</td>\n",
       "      <td>5</td>\n",
       "      <td>3</td>\n",
       "      <td>20</td>\n",
       "      <td>35</td>\n",
       "    </tr>\n",
       "    <tr>\n",
       "      <th>4112</th>\n",
       "      <td>0</td>\n",
       "      <td>1</td>\n",
       "      <td>1</td>\n",
       "      <td>4</td>\n",
       "      <td>0</td>\n",
       "      <td>3</td>\n",
       "      <td>0</td>\n",
       "      <td>3</td>\n",
       "      <td>5</td>\n",
       "      <td>2</td>\n",
       "      <td>6</td>\n",
       "      <td>2</td>\n",
       "      <td>6</td>\n",
       "      <td>1</td>\n",
       "      <td>0</td>\n",
       "      <td>3</td>\n",
       "      <td>3</td>\n",
       "      <td>4</td>\n",
       "      <td>8</td>\n",
       "      <td>2</td>\n",
       "      <td>1.0</td>\n",
       "      <td>2</td>\n",
       "      <td>3</td>\n",
       "      <td>2</td>\n",
       "      <td>5</td>\n",
       "      <td>3</td>\n",
       "      <td>3</td>\n",
       "      <td>2</td>\n",
       "      <td>5</td>\n",
       "      <td>11</td>\n",
       "      <td>18</td>\n",
       "      <td>47</td>\n",
       "    </tr>\n",
       "    <tr>\n",
       "      <th>7420</th>\n",
       "      <td>6</td>\n",
       "      <td>0</td>\n",
       "      <td>1</td>\n",
       "      <td>4</td>\n",
       "      <td>0</td>\n",
       "      <td>3</td>\n",
       "      <td>7</td>\n",
       "      <td>0</td>\n",
       "      <td>5</td>\n",
       "      <td>2</td>\n",
       "      <td>2</td>\n",
       "      <td>2</td>\n",
       "      <td>5</td>\n",
       "      <td>0</td>\n",
       "      <td>0</td>\n",
       "      <td>0</td>\n",
       "      <td>3</td>\n",
       "      <td>2</td>\n",
       "      <td>2</td>\n",
       "      <td>2</td>\n",
       "      <td>1.0</td>\n",
       "      <td>4</td>\n",
       "      <td>1</td>\n",
       "      <td>0</td>\n",
       "      <td>0</td>\n",
       "      <td>2</td>\n",
       "      <td>0</td>\n",
       "      <td>2</td>\n",
       "      <td>5</td>\n",
       "      <td>5</td>\n",
       "      <td>9</td>\n",
       "      <td>21</td>\n",
       "    </tr>\n",
       "    <tr>\n",
       "      <th>2249</th>\n",
       "      <td>1</td>\n",
       "      <td>1</td>\n",
       "      <td>1</td>\n",
       "      <td>1</td>\n",
       "      <td>0</td>\n",
       "      <td>2</td>\n",
       "      <td>0</td>\n",
       "      <td>3</td>\n",
       "      <td>0</td>\n",
       "      <td>2</td>\n",
       "      <td>5</td>\n",
       "      <td>4</td>\n",
       "      <td>5</td>\n",
       "      <td>0</td>\n",
       "      <td>0</td>\n",
       "      <td>0</td>\n",
       "      <td>3</td>\n",
       "      <td>2</td>\n",
       "      <td>6</td>\n",
       "      <td>2</td>\n",
       "      <td>3.5</td>\n",
       "      <td>2</td>\n",
       "      <td>1</td>\n",
       "      <td>1</td>\n",
       "      <td>4</td>\n",
       "      <td>2</td>\n",
       "      <td>3</td>\n",
       "      <td>2</td>\n",
       "      <td>5</td>\n",
       "      <td>12</td>\n",
       "      <td>14</td>\n",
       "      <td>32</td>\n",
       "    </tr>\n",
       "  </tbody>\n",
       "</table>\n",
       "</div>"
      ],
      "text/plain": [
       "      day_of_week  age_band_of_driver  sex_of_driver  educational_level  \\\n",
       "36              0                   0              1                  0   \n",
       "6693            5                   1              1                  2   \n",
       "4112            0                   1              1                  4   \n",
       "7420            6                   0              1                  4   \n",
       "2249            1                   1              1                  1   \n",
       "\n",
       "      vehicle_driver_relation  driving_experience  type_of_vehicle  \\\n",
       "36                          0                   0               15   \n",
       "6693                        0                   0               14   \n",
       "4112                        0                   3                0   \n",
       "7420                        0                   3                7   \n",
       "2249                        0                   2                0   \n",
       "\n",
       "      owner_of_vehicle  service_year_of_vehicle  defect_of_vehicle  \\\n",
       "36                   3                        5                  2   \n",
       "6693                 3                        3                  2   \n",
       "4112                 3                        5                  2   \n",
       "7420                 0                        5                  2   \n",
       "2249                 3                        0                  2   \n",
       "\n",
       "      area_accident_occured  lanes_or_medians  road_allignment  \\\n",
       "36                        6                 0                5   \n",
       "6693                      7                 2                5   \n",
       "4112                      6                 2                6   \n",
       "7420                      2                 2                5   \n",
       "2249                      5                 4                5   \n",
       "\n",
       "      types_of_junction  road_surface_type  road_surface_conditions  \\\n",
       "36                    0                  0                        0   \n",
       "6693                  1                  0                        3   \n",
       "4112                  1                  0                        3   \n",
       "7420                  0                  0                        0   \n",
       "2249                  0                  0                        0   \n",
       "\n",
       "      light_conditions  weather_conditions  type_of_collision  \\\n",
       "36                   0                   2                  3   \n",
       "6693                 3                   4                  4   \n",
       "4112                 3                   4                  8   \n",
       "7420                 3                   2                  2   \n",
       "2249                 3                   2                  6   \n",
       "\n",
       "      number_of_vehicles_involved  number_of_casualties  vehicle_movement  \\\n",
       "36                              2                   2.0                 2   \n",
       "6693                            2                   1.0                 1   \n",
       "4112                            2                   1.0                 2   \n",
       "7420                            2                   1.0                 4   \n",
       "2249                            2                   3.5                 2   \n",
       "\n",
       "      casualty_class  sex_of_casualty  age_band_of_casualty  \\\n",
       "36                 3                2                     5   \n",
       "6693               3                2                     5   \n",
       "4112               3                2                     5   \n",
       "7420               1                0                     0   \n",
       "2249               1                1                     4   \n",
       "\n",
       "      casualty_severity  work_of_casuality  fitness_of_casuality  \\\n",
       "36                    3                  0                     2   \n",
       "6693                  3                  3                     2   \n",
       "4112                  3                  3                     2   \n",
       "7420                  2                  0                     2   \n",
       "2249                  2                  3                     2   \n",
       "\n",
       "      pedestrian_movement  cause_of_accident  hour  min  \n",
       "36                      5                 12    20   30  \n",
       "6693                    5                  3    20   35  \n",
       "4112                    5                 11    18   47  \n",
       "7420                    5                  5     9   21  \n",
       "2249                    5                 12    14   32  "
      ]
     },
     "execution_count": 94,
     "metadata": {},
     "output_type": "execute_result"
    }
   ],
   "source": [
    "X_train.head()"
   ]
  },
  {
   "cell_type": "code",
   "execution_count": 95,
   "id": "749a9c09",
   "metadata": {
    "ExecuteTime": {
     "end_time": "2022-03-13T12:00:04.779616Z",
     "start_time": "2022-03-13T12:00:04.677590Z"
    }
   },
   "outputs": [
    {
     "data": {
      "text/plain": [
       "0    2\n",
       "1    2\n",
       "2    1\n",
       "3    2\n",
       "4    2\n",
       "Name: accident_severity, dtype: int32"
      ]
     },
     "execution_count": 95,
     "metadata": {},
     "output_type": "execute_result"
    }
   ],
   "source": [
    "y.head()"
   ]
  },
  {
   "cell_type": "markdown",
   "id": "6fc29471",
   "metadata": {},
   "source": [
    "<a name = Section73></a>\n",
    "### **7.3 Data Scaling**\n",
    "\n",
    "- Now, evaluating model with help of scaling the data."
   ]
  },
  {
   "cell_type": "code",
   "execution_count": 96,
   "id": "cfd607e5",
   "metadata": {
    "ExecuteTime": {
     "end_time": "2022-03-13T12:00:05.012253Z",
     "start_time": "2022-03-13T12:00:04.786648Z"
    }
   },
   "outputs": [],
   "source": [
    "sc = StandardScaler()\n",
    "X_train[finalnumcol] = sc.fit_transform(X_train[finalnumcol])"
   ]
  },
  {
   "cell_type": "markdown",
   "id": "1339c4ff",
   "metadata": {},
   "source": [
    "<a name = Section8></a>\n",
    "\n",
    "---\n",
    "# **8. Model Development & Evaluation**\n",
    "---\n",
    "\n",
    "- In this section we will **develop a Logistic Regression model**\n",
    "\n",
    "- Then we will **analyze the results** obtained and **make our observations**.\n",
    "\n",
    "- For **evaluation purpose** we will **focus** on **Accuracy Score** score as required by this project."
   ]
  },
  {
   "cell_type": "markdown",
   "id": "c3ca1328",
   "metadata": {},
   "source": [
    "<a name = Section81></a>\n",
    "### **8.1 Baseline Model Development & Evaluation**\n",
    "\n",
    "- Here we will develop Logistic Regression classification model using default setting."
   ]
  },
  {
   "cell_type": "code",
   "execution_count": 97,
   "id": "3b1a0f50",
   "metadata": {
    "ExecuteTime": {
     "end_time": "2022-03-13T12:00:08.484824Z",
     "start_time": "2022-03-13T12:00:06.887307Z"
    }
   },
   "outputs": [
    {
     "data": {
      "image/png": "[encoded data removed]",
      "text/plain": [
       "<Figure size 1080x504 with 4 Axes>"
      ]
     },
     "metadata": {
      "needs_background": "light"
     },
     "output_type": "display_data"
    }
   ],
   "source": [
    "# Instantiate a Logistic Regression\n",
    "logreg = LogisticRegression()\n",
    "logreg.fit(X_train,y_train)\n",
    "\n",
    "# Predicting training and testing labels\n",
    "y_train_pred_count = logreg.predict(X_train)\n",
    "y_test_pred_count = logreg.predict(X_test)\n",
    "\n",
    "# Plotting confusion maxtrix of train and test data\n",
    "fig, (ax1, ax2) = plt.subplots(nrows=1, ncols=2, sharex=False, figsize=(15, 7))\n",
    "plot_confusion_matrix(estimator=logreg, X=X_train, y_true=y_train, values_format='.5g', cmap='YlGnBu', ax=ax1)\n",
    "plot_confusion_matrix(estimator=logreg, X=X_test, y_true=y_test, values_format='.5g', cmap='YlGnBu', ax=ax2)\n",
    "ax1.set_title(label='Training Data', size=14)\n",
    "ax2.set_title(label='Validation Test Data', size=14)\n",
    "plt.suptitle(t='Confusion Matrix', size=16)\n",
    "plt.show()"
   ]
  },
  {
   "cell_type": "code",
   "execution_count": 98,
   "id": "fa629d54",
   "metadata": {
    "ExecuteTime": {
     "end_time": "2022-03-13T12:00:14.400710Z",
     "start_time": "2022-03-13T12:00:13.871014Z"
    }
   },
   "outputs": [
    {
     "data": {
      "image/png": "[encoded data removed]",
      "text/plain": [
       "<Figure size 432x288 with 1 Axes>"
      ]
     },
     "metadata": {
      "needs_background": "light"
     },
     "output_type": "display_data"
    }
   ],
   "source": [
    "a = plt.axes(aspect='equal')\n",
    "plt.scatter(y_test, y_test_pred_count)\n",
    "plt.xlabel('True Values [accident_severity]')\n",
    "plt.ylabel('Predictions [accident_severity]')\n",
    "lims = [0, 50]\n",
    "plt.xlim(lims)\n",
    "plt.ylim(lims)\n",
    "_ = plt.plot(lims, lims)"
   ]
  },
  {
   "cell_type": "code",
   "execution_count": 99,
   "id": "fccb4af0",
   "metadata": {
    "ExecuteTime": {
     "end_time": "2022-03-13T12:00:14.431396Z",
     "start_time": "2022-03-13T12:00:14.406124Z"
    }
   },
   "outputs": [],
   "source": [
    "confusion_matrix = pd.DataFrame(confusion_matrix(y_test, y_test_pred_count))"
   ]
  },
  {
   "cell_type": "code",
   "execution_count": null,
   "id": "f641d119",
   "metadata": {
    "ExecuteTime": {
     "end_time": "2022-03-04T11:22:59.018977Z",
     "start_time": "2022-03-04T11:22:58.900744Z"
    }
   },
   "outputs": [],
   "source": [
    "confusion_matrix.index = ['Actual 0','Actual 1','Actual 2' ]\n",
    "confusion_matrix.columns = ['Predicted 0','Predicted 1','Predicted 2']\n",
    "print(confusion_matrix)"
   ]
  },
  {
   "cell_type": "code",
   "execution_count": null,
   "id": "0cf02edd",
   "metadata": {
    "ExecuteTime": {
     "end_time": "2022-03-04T11:22:59.143967Z",
     "start_time": "2022-03-04T11:22:59.021970Z"
    }
   },
   "outputs": [],
   "source": [
    "print('Accuracy score for test validation data is:', accuracy_score(y_test,y_test_pred_count))"
   ]
  },
  {
   "cell_type": "code",
   "execution_count": null,
   "id": "bf8563e6",
   "metadata": {
    "ExecuteTime": {
     "end_time": "2022-03-04T11:22:59.300060Z",
     "start_time": "2022-03-04T11:22:59.149932Z"
    }
   },
   "outputs": [],
   "source": [
    "train_report = classification_report(y_train, y_train_pred_count)\n",
    "test_report = classification_report(y_test, y_test_pred_count)\n",
    "print('                    Training Data Report          ')\n",
    "print(train_report)\n",
    "print('                    Test Validation Data Report           ')\n",
    "print(test_report)"
   ]
  },
  {
   "cell_type": "code",
   "execution_count": null,
   "id": "014286a1",
   "metadata": {
    "ExecuteTime": {
     "end_time": "2022-03-04T11:22:59.393460Z",
     "start_time": "2022-03-04T11:22:59.305050Z"
    }
   },
   "outputs": [],
   "source": [
    "# Class count\n",
    "count_class_0, count_class_1,count_class_2 = df['accident_severity'].value_counts()\n",
    "\n",
    "# Divide by class\n",
    "df_class_0 = df[df['accident_severity'] == 0]\n",
    "df_class_1 = df[df['accident_severity'] == 1]\n",
    "df_class_2 = df[df['accident_severity'] == 2]"
   ]
  },
  {
   "cell_type": "code",
   "execution_count": null,
   "id": "0cac84ae",
   "metadata": {
    "ExecuteTime": {
     "end_time": "2022-03-04T11:22:59.502430Z",
     "start_time": "2022-03-04T11:22:59.396495Z"
    }
   },
   "outputs": [],
   "source": [
    "df['accident_severity'].value_counts()"
   ]
  },
  {
   "cell_type": "markdown",
   "id": "5c695129",
   "metadata": {},
   "source": [
    "<a name = Section82></a>\n",
    "### **8.2 SMOTE Oversampling for Multi-Class Classification**\n",
    "\n",
    "- SMOTE Oversampling for Multi-Class Classification"
   ]
  },
  {
   "cell_type": "code",
   "execution_count": null,
   "id": "0d113243",
   "metadata": {
    "ExecuteTime": {
     "end_time": "2022-03-04T11:41:17.048965Z",
     "start_time": "2022-03-04T11:41:16.674525Z"
    }
   },
   "outputs": [],
   "source": [
    "# transform the dataset\n",
    "oversample = SMOTE()\n",
    "X, y = oversample.fit_resample(X, y)\n",
    "# summarize distribution\n",
    "counter = Counter(y)\n",
    "for k, v in counter.items():\n",
    "    per = v / len(y) * 100\n",
    "    print('Class=%d, n=%d (%.3f%%)' % (k, v, per))\n",
    "# plot the distribution\n",
    "plt.bar(counter.keys(), counter.values())\n",
    "plt.show()"
   ]
  },
  {
   "cell_type": "code",
   "execution_count": null,
   "id": "e1c39118",
   "metadata": {
    "ExecuteTime": {
     "end_time": "2022-03-04T11:42:53.095199Z",
     "start_time": "2022-03-04T11:42:43.445997Z"
    }
   },
   "outputs": [],
   "source": [
    "# K Fold\n",
    "kf = KFold(shuffle=True, n_splits=8)\n",
    "cv_results_kfold = cross_val_score(logreg,X_train, y_train, cv=kf, scoring='accuracy')\n",
    "print(cv_results_kfold)\n",
    "\n",
    "# Stratified K fold\n",
    "skf = StratifiedKFold(shuffle=True, n_splits=8)\n",
    "cv_results_skfold = cross_val_score(logreg, X_train, y_train, cv=skf, scoring='accuracy')\n",
    "print(cv_results_skfold)"
   ]
  },
  {
   "cell_type": "markdown",
   "id": "92a774b9",
   "metadata": {},
   "source": [
    "<a name = Section9></a>\n",
    "\n",
    "---\n",
    "# **9. Hyperparameter Tuning**\n",
    "---\n",
    "\n",
    "- In this section we will **tune the models**\n",
    "\n",
    "- Then we will **analyze the results to obtain max accuracy** obtained and **make our observations**.\n",
    "\n",
    "- For **evaluation purpose** we will **focus** on **Accuracy Score** score as required by this project."
   ]
  },
  {
   "cell_type": "code",
   "execution_count": null,
   "id": "8a2987c1",
   "metadata": {
    "ExecuteTime": {
     "end_time": "2022-03-04T11:23:03.830999Z",
     "start_time": "2022-03-04T11:23:00.086012Z"
    }
   },
   "outputs": [],
   "source": [
    "model = XGBClassifier()\n",
    "model.fit(X_train, y_train)\n",
    "y_pred = model.predict(X_test)\n",
    "\n",
    "accuracy = accuracy_score(y_test, y_pred)\n",
    "print(\"Accuracy: %.2f%%\" % (accuracy * 100.0))"
   ]
  },
  {
   "cell_type": "code",
   "execution_count": null,
   "id": "c946ed4a",
   "metadata": {
    "ExecuteTime": {
     "end_time": "2022-03-04T11:23:09.426039Z",
     "start_time": "2022-03-04T11:23:03.835985Z"
    }
   },
   "outputs": [],
   "source": [
    "# K Fold\n",
    "kf = KFold(shuffle=True, n_splits=5)\n",
    "cv_results_kfold = cross_val_score(logreg,X_train, y_train, cv=kf, scoring='accuracy')\n",
    "print(cv_results_kfold)\n",
    "\n",
    "# Stratified K fold\n",
    "skf = StratifiedKFold(shuffle=True, n_splits=5)\n",
    "cv_results_skfold = cross_val_score(logreg, X_train, y_train, cv=skf, scoring='accuracy')\n",
    "print(cv_results_skfold)"
   ]
  },
  {
   "cell_type": "markdown",
   "id": "b697cff3",
   "metadata": {},
   "source": [
    "**NOTE**: \n",
    "We can start off by tuning the number of neighbors for KNN. The default number of neighbors\n",
    "is 7. Below we try all odd values of k from 1 to 21, covering the default value of 7. Each k value\n",
    "is evaluated using 10-fold cross validation on the training standardized dataset"
   ]
  },
  {
   "cell_type": "code",
   "execution_count": null,
   "id": "385d8ff2",
   "metadata": {
    "ExecuteTime": {
     "end_time": "2022-03-04T11:23:53.741042Z",
     "start_time": "2022-03-04T11:23:09.430029Z"
    }
   },
   "outputs": [],
   "source": [
    "num_folds = 10\n",
    "seed = 7\n",
    "scoring = 'accuracy'\n",
    "neighbors = [1,3,5,7,9,11,13,15,17,19,21]\n",
    "param_grid = dict(n_neighbors=neighbors)\n",
    "model = KNeighborsClassifier()\n",
    "kfold = KFold(n_splits=num_folds, random_state=seed, shuffle= True)\n",
    "grid = GridSearchCV(estimator=model, param_grid=param_grid, scoring=scoring, cv=kfold)\n",
    "grid_result = grid.fit(X_train, y_train)\n",
    "print(\"Best: %f using %s\" % (grid_result.best_score_, grid_result.best_params_))\n",
    "\n",
    "means = grid_result.cv_results_['mean_test_score']\n",
    "stds = grid_result.cv_results_['std_test_score']\n",
    "params = grid_result.cv_results_['params']\n",
    "for mean, stdev, param in zip(means, stds, params):\n",
    "    print(\"%f (%f) with: %r\" % (mean, stdev, param))"
   ]
  },
  {
   "cell_type": "markdown",
   "id": "39e18130",
   "metadata": {},
   "source": [
    "Another way that we can improve the performance of algorithms on this problem is by using\n",
    "ensemble methods. In this section we will evaluate four different ensemble machine learning\n",
    "algorithms, two boosting and two bagging methods:\n",
    "- Boosting Methods: AdaBoost (AB) and Gradient Boosting (GBM).\n",
    "- Bagging Methods: Random Forests (RF) and Extra Trees (ET)."
   ]
  },
  {
   "cell_type": "code",
   "execution_count": null,
   "id": "6b875970",
   "metadata": {
    "ExecuteTime": {
     "end_time": "2022-03-04T11:26:01.080815Z",
     "start_time": "2022-03-04T11:23:53.747029Z"
    }
   },
   "outputs": [],
   "source": [
    "# ensembles\n",
    "ensembles = []\n",
    "ensembles.append(('AB', AdaBoostClassifier()))\n",
    "ensembles.append(('GBM', GradientBoostingClassifier()))\n",
    "ensembles.append(('RF', RandomForestClassifier()))\n",
    "ensembles.append(('ET', ExtraTreesClassifier()))\n",
    "results = []\n",
    "names = []\n",
    "for name, model in ensembles:\n",
    "    kfold = KFold(n_splits=num_folds, random_state=seed, shuffle = True)\n",
    "    cv_results = cross_val_score(model, X_train, y_train, cv=kfold, scoring=scoring)\n",
    "    results.append(cv_results)\n",
    "    names.append(name)\n",
    "    msg = \"%s: %f (%f)\" % (name, cv_results.mean(), cv_results.std())\n",
    "    print(msg)\n"
   ]
  },
  {
   "cell_type": "code",
   "execution_count": null,
   "id": "0961476d",
   "metadata": {
    "ExecuteTime": {
     "end_time": "2022-03-04T11:27:38.378455Z",
     "start_time": "2022-03-04T11:27:38.082213Z"
    }
   },
   "outputs": [],
   "source": [
    "# Compare Algorithms\n",
    "fig = plt.figure()\n",
    "fig.suptitle('Ensemble Algorithm Comparison')\n",
    "ax = fig.add_subplot(111)\n",
    "plt.boxplot(results)\n",
    "ax.set_xticklabels(names)\n",
    "plt.show()"
   ]
  },
  {
   "cell_type": "code",
   "execution_count": null,
   "id": "f8d973e4",
   "metadata": {
    "ExecuteTime": {
     "end_time": "2022-03-04T11:38:54.719842Z",
     "start_time": "2022-03-04T11:38:40.259764Z"
    }
   },
   "outputs": [],
   "source": [
    "model = SVC(C=1.5)\n",
    "model.fit(X_train, y_train)\n",
    "ypredictions = model.predict(X_test)\n",
    "print(accuracy_score(y_test, ypredictions))\n",
    "#print(confusion_matrix(y_test, ypredictions))\n",
    "print(classification_report(y_test, ypredictions))\n"
   ]
  },
  {
   "cell_type": "markdown",
   "id": "618aa34b",
   "metadata": {
    "ExecuteTime": {
     "end_time": "2022-03-04T11:16:56.133891Z",
     "start_time": "2022-03-04T11:16:56.118931Z"
    }
   },
   "source": [
    "<a name = Section10></a>\n",
    "\n",
    "---\n",
    "# **10. Summary**\n",
    "---\n"
   ]
  },
  {
   "cell_type": "markdown",
   "id": "5ffccf43",
   "metadata": {},
   "source": [
    "**Observations:**\n",
    "\n",
    "- There is a slight increase in the accuracy  from 82% to 84%."
   ]
  },
  {
   "cell_type": "code",
   "execution_count": 3,
   "id": "6a7625e0",
   "metadata": {
    "ExecuteTime": {
     "end_time": "2022-03-16T11:34:49.111427Z",
     "start_time": "2022-03-16T11:34:49.073493Z"
    }
   },
   "outputs": [
    {
     "ename": "ModuleNotFoundError",
     "evalue": "No module named 'joblib'",
     "output_type": "error",
     "traceback": [
      "\u001b[1;31m---------------------------------------------------------------------------\u001b[0m",
      "\u001b[1;31mModuleNotFoundError\u001b[0m                       Traceback (most recent call last)",
      "Input \u001b[1;32mIn [3]\u001b[0m, in \u001b[0;36m<cell line: 1>\u001b[1;34m()\u001b[0m\n\u001b[1;32m----> 1\u001b[0m \u001b[38;5;28;01mimport\u001b[39;00m \u001b[38;5;21;01mjoblib\u001b[39;00m\n\u001b[0;32m      2\u001b[0m joblib\u001b[38;5;241m.\u001b[39mdump(logreg,\u001b[38;5;124m'\u001b[39m\u001b[38;5;124m../model/logreg.pkl\u001b[39m\u001b[38;5;124m'\u001b[39m)\n",
      "\u001b[1;31mModuleNotFoundError\u001b[0m: No module named 'joblib'"
     ]
    }
   ],
   "source": [
    "import joblib\n",
    "joblib.dump(logreg,'../model/logreg.pkl')"
   ]
  },
  {
   "cell_type": "code",
   "execution_count": null,
   "id": "1a06e94d",
   "metadata": {},
   "outputs": [],
   "source": []
  },
  {
   "cell_type": "code",
   "execution_count": 102,
   "id": "1ff3decf",
   "metadata": {
    "ExecuteTime": {
     "end_time": "2022-03-13T12:04:16.979215Z",
     "start_time": "2022-03-13T12:04:16.943727Z"
    }
   },
   "outputs": [
    {
     "data": {
      "text/plain": [
       "array([2, 2, 2, ..., 2, 2, 2])"
      ]
     },
     "execution_count": 102,
     "metadata": {},
     "output_type": "execute_result"
    }
   ],
   "source": [
    "logreg_clf = joblib.load('../model/logreg.pkl')\n",
    "logreg_clf.predict(data)"
   ]
  },
  {
   "cell_type": "code",
   "execution_count": 108,
   "id": "d0097ca6",
   "metadata": {
    "ExecuteTime": {
     "end_time": "2022-03-13T12:38:58.323722Z",
     "start_time": "2022-03-13T12:38:47.964134Z"
    }
   },
   "outputs": [
    {
     "name": "stdout",
     "output_type": "stream",
     "text": [
      "Requirement already satisfied: pyarrow in g:\\anaconda\\lib\\site-packages (6.0.1)\n",
      "Requirement already satisfied: numpy>=1.16.6 in g:\\anaconda\\lib\\site-packages (from pyarrow) (1.21.5)\n"
     ]
    }
   ],
   "source": [
    "#!pip install pyarrow"
   ]
  },
  {
   "cell_type": "code",
   "execution_count": 1,
   "id": "ec59d8c6",
   "metadata": {
    "ExecuteTime": {
     "end_time": "2022-03-16T11:34:29.597643Z",
     "start_time": "2022-03-16T11:34:28.292134Z"
    }
   },
   "outputs": [
    {
     "ename": "NameError",
     "evalue": "name 'joblib' is not defined",
     "output_type": "error",
     "traceback": [
      "\u001b[1;31m---------------------------------------------------------------------------\u001b[0m",
      "\u001b[1;31mNameError\u001b[0m                                 Traceback (most recent call last)",
      "Input \u001b[1;32mIn [1]\u001b[0m, in \u001b[0;36m<cell line: 1>\u001b[1;34m()\u001b[0m\n\u001b[1;32m----> 1\u001b[0m \u001b[43mjoblib\u001b[49m\u001b[38;5;241m.\u001b[39mdump(logreg,\u001b[38;5;124m'\u001b[39m\u001b[38;5;124m../model/logreg.pkl\u001b[39m\u001b[38;5;124m'\u001b[39m)\n",
      "\u001b[1;31mNameError\u001b[0m: name 'joblib' is not defined"
     ]
    }
   ],
   "source": [
    "joblib.dump(logreg,'../model/logreg.pkl')"
   ]
  },
  {
   "cell_type": "code",
   "execution_count": null,
   "id": "6915398e",
   "metadata": {},
   "outputs": [],
   "source": []
  }
 ],
 "metadata": {
  "kernelspec": {
   "display_name": "Python 3 (ipykernel)",
   "language": "python",
   "name": "python3"
  },
  "language_info": {
   "codemirror_mode": {
    "name": "ipython",
    "version": 3
   },
   "file_extension": ".py",
   "mimetype": "text/x-python",
   "name": "python",
   "nbconvert_exporter": "python",
   "pygments_lexer": "ipython3",
   "version": "3.9.10"
  },
  "latex_envs": {
   "LaTeX_envs_menu_present": true,
   "autoclose": false,
   "autocomplete": true,
   "bibliofile": "biblio.bib",
   "cite_by": "apalike",
   "current_citInitial": 1,
   "eqLabelWithNumbers": true,
   "eqNumInitial": 1,
   "hotkeys": {
    "equation": "Ctrl-E",
    "itemize": "Ctrl-I"
   },
   "labels_anchors": false,
   "latex_user_defs": false,
   "report_style_numbering": false,
   "user_envs_cfg": false
  }
 },
 "nbformat": 4,
 "nbformat_minor": 5
}
